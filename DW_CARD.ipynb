{
  "nbformat": 4,
  "nbformat_minor": 0,
  "metadata": {
    "colab": {
      "name": "DW_CARD.ipynb",
      "provenance": [],
      "collapsed_sections": [],
      "toc_visible": true,
      "authorship_tag": "ABX9TyOSRvDX9eiNDA5rK+lZjpDt",
      "include_colab_link": true
    },
    "kernelspec": {
      "name": "python3",
      "display_name": "Python 3"
    },
    "language_info": {
      "name": "python"
    }
  },
  "cells": [
    {
      "cell_type": "markdown",
      "metadata": {
        "id": "view-in-github",
        "colab_type": "text"
      },
      "source": [
        "<a href=\"https://colab.research.google.com/github/jaekyoungkim/2020_modoo_algorithm/blob/main/DW_CARD.ipynb\" target=\"_parent\"><img src=\"https://colab.research.google.com/assets/colab-badge.svg\" alt=\"Open In Colab\"/></a>"
      ]
    },
    {
      "cell_type": "markdown",
      "metadata": {
        "id": "8XowPFrfFE5V"
      },
      "source": [
        "# 1. 세팅 "
      ]
    },
    {
      "cell_type": "code",
      "metadata": {
        "colab": {
          "base_uri": "https://localhost:8080/"
        },
        "id": "HdowXsu9GC6S",
        "outputId": "e2729bdd-8658-458c-a079-d1afd480faf3"
      },
      "source": [
        "!sudo apt-get install -y fonts-nanum\n",
        "!sudo fc-cache -fv\n",
        "!rm ~/.cache/matplotlib -rf"
      ],
      "execution_count": 1,
      "outputs": [
        {
          "output_type": "stream",
          "name": "stdout",
          "text": [
            "Reading package lists... Done\n",
            "Building dependency tree       \n",
            "Reading state information... Done\n",
            "fonts-nanum is already the newest version (20170925-1).\n",
            "0 upgraded, 0 newly installed, 0 to remove and 37 not upgraded.\n",
            "/usr/share/fonts: caching, new cache contents: 0 fonts, 1 dirs\n",
            "/usr/share/fonts/truetype: caching, new cache contents: 0 fonts, 3 dirs\n",
            "/usr/share/fonts/truetype/humor-sans: caching, new cache contents: 1 fonts, 0 dirs\n",
            "/usr/share/fonts/truetype/liberation: caching, new cache contents: 16 fonts, 0 dirs\n",
            "/usr/share/fonts/truetype/nanum: caching, new cache contents: 10 fonts, 0 dirs\n",
            "/usr/local/share/fonts: caching, new cache contents: 0 fonts, 0 dirs\n",
            "/root/.local/share/fonts: skipping, no such directory\n",
            "/root/.fonts: skipping, no such directory\n",
            "/var/cache/fontconfig: cleaning cache directory\n",
            "/root/.cache/fontconfig: not cleaning non-existent cache directory\n",
            "/root/.fontconfig: not cleaning non-existent cache directory\n",
            "fc-cache: succeeded\n"
          ]
        }
      ]
    },
    {
      "cell_type": "code",
      "metadata": {
        "id": "bbUvuVGfFHk9"
      },
      "source": [
        "from matplotlib import font_manager, rc\n",
        "import pandas as pd\n",
        "import numpy as np\n",
        "from pandas import Series, DataFrame\n",
        "import seaborn as sns\n",
        "import matplotlib.pyplot as plt"
      ],
      "execution_count": 2,
      "outputs": []
    },
    {
      "cell_type": "code",
      "metadata": {
        "colab": {
          "base_uri": "https://localhost:8080/"
        },
        "id": "X_fVWyfQFKn1",
        "outputId": "a8998727-f052-4d6a-d24b-7651ea72f601"
      },
      "source": [
        "from google.colab import drive\n",
        "drive.mount('/content/gdrive')\n",
        "#4/1AX4XfWgKzT5FnEsEqbHv_MJeAYGD6bx-GaC_4wW5f-wWQPUEX9zI2zEL4ug"
      ],
      "execution_count": 3,
      "outputs": [
        {
          "output_type": "stream",
          "name": "stdout",
          "text": [
            "Drive already mounted at /content/gdrive; to attempt to forcibly remount, call drive.mount(\"/content/gdrive\", force_remount=True).\n"
          ]
        }
      ]
    },
    {
      "cell_type": "code",
      "metadata": {
        "id": "bgssQ_rzGAek"
      },
      "source": [
        "plt.rcParams['font.family'] = 'NanumGothic'"
      ],
      "execution_count": 4,
      "outputs": []
    },
    {
      "cell_type": "code",
      "metadata": {
        "id": "kXNRrFY9PJX9"
      },
      "source": [
        "plt.rcParams['font.family'] = 'Malgun Gothic'"
      ],
      "execution_count": null,
      "outputs": []
    },
    {
      "cell_type": "code",
      "metadata": {
        "id": "L89hHWNZPLMn"
      },
      "source": [
        "plt.rcParams['font.family'] = 'AppleGothic'"
      ],
      "execution_count": null,
      "outputs": []
    },
    {
      "cell_type": "code",
      "metadata": {
        "id": "GDg1SkBzPnR0"
      },
      "source": [
        "# 연체한사람의 특성 / 연체자의 구분되는 특징 "
      ],
      "execution_count": null,
      "outputs": []
    },
    {
      "cell_type": "markdown",
      "metadata": {
        "id": "5ZVU23zpGERb"
      },
      "source": [
        "# 2. 데이터 불러오기 "
      ]
    },
    {
      "cell_type": "code",
      "metadata": {
        "colab": {
          "base_uri": "https://localhost:8080/"
        },
        "id": "afSZdXzkGIVg",
        "outputId": "e5e09147-bbb1-4cc1-9755-23c87ac92614"
      },
      "source": [
        "# 월별 구분한 데이터\n",
        "#data1 = pd.read_csv('gdrive/MyDrive/DW_DATA/CARD_DATA(1).csv', encoding = 'cp949')  # cp949\n",
        "\n",
        "# 소장 개인사용금액 수정한 데이터 사용\n",
        "data1 = pd.read_csv('gdrive/MyDrive/DW_DATA/CARD_DATA_time_y.csv', encoding = 'cp949')  # cp949"
      ],
      "execution_count": 79,
      "outputs": [
        {
          "output_type": "stream",
          "name": "stderr",
          "text": [
            "/usr/local/lib/python3.7/dist-packages/IPython/core/interactiveshell.py:2718: DtypeWarning: Columns (25,30,43,44,45,46,47,48,49) have mixed types.Specify dtype option on import or set low_memory=False.\n",
            "  interactivity=interactivity, compiler=compiler, result=result)\n"
          ]
        }
      ]
    },
    {
      "cell_type": "code",
      "metadata": {
        "id": "Td9sBsqLGejU"
      },
      "source": [
        " # 월별 구분하지 않은 데이터\n",
        "data2 = pd.read_csv('gdrive/MyDrive/DW_DATA/CARD_DATA(2)_time_n.csv', encoding = 'cp949')  # cp949"
      ],
      "execution_count": 80,
      "outputs": []
    },
    {
      "cell_type": "code",
      "metadata": {
        "id": "vNjPU5ckGirv"
      },
      "source": [
        "# 사번이중간에 바뀐리스트 뽑아서 전달\n"
      ],
      "execution_count": 51,
      "outputs": []
    },
    {
      "cell_type": "code",
      "metadata": {
        "id": "byqE82CEy5OI"
      },
      "source": [
        "# 필터링1 :ETC영업본부만 가지고 다시 돌리기 \n",
        "#ETC영업본부만 진행하고자 함. 데이터 필터를 거침 data1, data2에 모두 적용\n",
        "data1= data1[data1['본부']=='ETC본부']\n",
        "data2= data2[data2['본부']=='ETC본부']"
      ],
      "execution_count": 81,
      "outputs": []
    },
    {
      "cell_type": "code",
      "metadata": {
        "id": "4n44lTywGQ5S"
      },
      "source": [
        "# 필터링2 : 직원아닌 사람들의 개인사용금액 수정\n",
        "# 개인사용금액중에서 전표완료한 금액은 개인사용금액에서 제외함\n",
        "# 승인금액은 고정\n",
        "# 개인사용금액의 감소분을 detail금액으로 이동(개인사용목적이 아니면 Detail이라고 판단)"
      ],
      "execution_count": null,
      "outputs": []
    },
    {
      "cell_type": "markdown",
      "metadata": {
        "id": "MZq8k2jEHhcy"
      },
      "source": [
        "# 3. 데이터 탐색 "
      ]
    },
    {
      "cell_type": "code",
      "metadata": {
        "id": "XOAPziAEHjUH",
        "colab": {
          "base_uri": "https://localhost:8080/"
        },
        "outputId": "0cd1c01f-7199-40cd-e4ab-6cf8d9b68486"
      },
      "source": [
        "data1.head(3)  # 1412 rows\n",
        "len(data1)"
      ],
      "execution_count": 13,
      "outputs": [
        {
          "output_type": "execute_result",
          "data": {
            "text/plain": [
              "18465"
            ]
          },
          "metadata": {},
          "execution_count": 13
        }
      ]
    },
    {
      "cell_type": "code",
      "metadata": {
        "colab": {
          "base_uri": "https://localhost:8080/"
        },
        "id": "lhqNLDIXHn7u",
        "outputId": "bd6d9e4f-7144-4ffb-bca5-390bfac82b69"
      },
      "source": [
        "data1.shape  # 18465, 37\n"
      ],
      "execution_count": null,
      "outputs": [
        {
          "output_type": "execute_result",
          "data": {
            "text/plain": [
              "(18465, 37)"
            ]
          },
          "metadata": {},
          "execution_count": 20
        }
      ]
    },
    {
      "cell_type": "code",
      "metadata": {
        "colab": {
          "base_uri": "https://localhost:8080/"
        },
        "id": "SeOb-o8HHpeI",
        "outputId": "7a6d0833-a36f-4a26-b496-c18879f992d3"
      },
      "source": [
        "data1.info()"
      ],
      "execution_count": null,
      "outputs": [
        {
          "output_type": "stream",
          "name": "stdout",
          "text": [
            "<class 'pandas.core.frame.DataFrame'>\n",
            "RangeIndex: 18465 entries, 0 to 18464\n",
            "Data columns (total 42 columns):\n",
            " #   Column              Non-Null Count  Dtype  \n",
            "---  ------              --------------  -----  \n",
            " 0   카드번호                18465 non-null  object \n",
            " 1   기간                  18465 non-null  object \n",
            " 2   년도                  18465 non-null  int64  \n",
            " 3   월                   18465 non-null  int64  \n",
            " 4   분기                  18465 non-null  object \n",
            " 5   승인금액                18465 non-null  int64  \n",
            " 6   사번                  18465 non-null  int64  \n",
            " 7   소장여부                18465 non-null  object \n",
            " 8   본부                  18465 non-null  object \n",
            " 9   센터                  18063 non-null  object \n",
            " 10  팀                   18465 non-null  object \n",
            " 11  회원명                 18465 non-null  object \n",
            " 12  종류                  18465 non-null  object \n",
            " 13  mp총금액               18465 non-null  int64  \n",
            " 14  ip총금액               18465 non-null  int64  \n",
            " 15  detail총금액           18465 non-null  int64  \n",
            " 16  cps총금액              18465 non-null  int64  \n",
            " 17  개인사용                18465 non-null  int64  \n",
            " 18  연체여부                18465 non-null  int64  \n",
            " 19  직책                  3330 non-null   object \n",
            " 20  성별                  16318 non-null  object \n",
            " 21  주민등록번호              16318 non-null  float64\n",
            " 22  재직여부                18465 non-null  int64  \n",
            " 23  key                 18465 non-null  object \n",
            " 24  개인사용비율              18465 non-null  object \n",
            " 25  MP비율                18465 non-null  int64  \n",
            " 26  IP비율                18465 non-null  int64  \n",
            " 27  디테일비율               18465 non-null  int64  \n",
            " 28  연체금액_부서경비           18465 non-null  int64  \n",
            " 29  연체금액_세미나            18465 non-null  int64  \n",
            " 30  연체금액_삼성합            18465 non-null  int64  \n",
            " 31  연체금액_디테일            18465 non-null  int64  \n",
            " 32  연체금액_조직활성화          18465 non-null  int64  \n",
            " 33  연체금액_현대합            18465 non-null  int64  \n",
            " 34  연체금액_전체             18465 non-null  int64  \n",
            " 35  해당월/해당영업사원의 사용한카드수  18465 non-null  int64  \n",
            " 36  Unnamed: 36         0 non-null      float64\n",
            " 37  Unnamed: 37         0 non-null      float64\n",
            " 38  Unnamed: 38         0 non-null      float64\n",
            " 39  Unnamed: 39         0 non-null      float64\n",
            " 40  Unnamed: 40         0 non-null      float64\n",
            " 41  Unnamed: 41         0 non-null      float64\n",
            "dtypes: float64(7), int64(22), object(13)\n",
            "memory usage: 5.9+ MB\n"
          ]
        }
      ]
    },
    {
      "cell_type": "code",
      "metadata": {
        "colab": {
          "base_uri": "https://localhost:8080/",
          "height": 397
        },
        "id": "IYCxJ4gCHpyb",
        "outputId": "9fac3b8c-a52b-4f67-dcfb-c3082306f086"
      },
      "source": [
        "data2.head(3) # (1645, 22)"
      ],
      "execution_count": null,
      "outputs": [
        {
          "output_type": "execute_result",
          "data": {
            "text/html": [
              "<div>\n",
              "<style scoped>\n",
              "    .dataframe tbody tr th:only-of-type {\n",
              "        vertical-align: middle;\n",
              "    }\n",
              "\n",
              "    .dataframe tbody tr th {\n",
              "        vertical-align: top;\n",
              "    }\n",
              "\n",
              "    .dataframe thead th {\n",
              "        text-align: right;\n",
              "    }\n",
              "</style>\n",
              "<table border=\"1\" class=\"dataframe\">\n",
              "  <thead>\n",
              "    <tr style=\"text-align: right;\">\n",
              "      <th></th>\n",
              "      <th>카드번호</th>\n",
              "      <th>종류</th>\n",
              "      <th>사번</th>\n",
              "      <th>회원명</th>\n",
              "      <th>카드번호&amp;사번&amp;종류</th>\n",
              "      <th>승인금액</th>\n",
              "      <th>mp총금액</th>\n",
              "      <th>ip총금액</th>\n",
              "      <th>detail총금액</th>\n",
              "      <th>cps총금액</th>\n",
              "      <th>개인사용</th>\n",
              "      <th>연체여부</th>\n",
              "      <th>연체금액_부서경비</th>\n",
              "      <th>연체금액_세미나</th>\n",
              "      <th>연체금액_디테일</th>\n",
              "      <th>연체금액_조직활성화</th>\n",
              "      <th>연체금액_전체</th>\n",
              "      <th>사용개월수</th>\n",
              "      <th>본부</th>\n",
              "      <th>센터</th>\n",
              "      <th>팀</th>\n",
              "      <th>소속기준월</th>\n",
              "      <th>영업사원성별</th>\n",
              "      <th>영업사원나이</th>\n",
              "      <th>영업사원나이대</th>\n",
              "      <th>영업사원직책</th>\n",
              "    </tr>\n",
              "  </thead>\n",
              "  <tbody>\n",
              "    <tr>\n",
              "      <th>0</th>\n",
              "      <td>4025-9610-3588-3509</td>\n",
              "      <td>현대</td>\n",
              "      <td>2000077</td>\n",
              "      <td>우동한</td>\n",
              "      <td>4025-9610-3588-35092000077현대</td>\n",
              "      <td>14202670.0</td>\n",
              "      <td>0.0</td>\n",
              "      <td>0.0</td>\n",
              "      <td>841000.0</td>\n",
              "      <td>841000.0</td>\n",
              "      <td>13361670.0</td>\n",
              "      <td>1.0</td>\n",
              "      <td>0.0</td>\n",
              "      <td>0.0</td>\n",
              "      <td>268207.0</td>\n",
              "      <td>0.0</td>\n",
              "      <td>268207.0</td>\n",
              "      <td>18</td>\n",
              "      <td>ETC본부</td>\n",
              "      <td>NaN</td>\n",
              "      <td>입찰전략팀</td>\n",
              "      <td>2021-03-01</td>\n",
              "      <td>NaN</td>\n",
              "      <td>NaN</td>\n",
              "      <td>NaN</td>\n",
              "      <td>NaN</td>\n",
              "    </tr>\n",
              "    <tr>\n",
              "      <th>1</th>\n",
              "      <td>4025-9610-3588-5405</td>\n",
              "      <td>현대</td>\n",
              "      <td>2160388</td>\n",
              "      <td>국길환</td>\n",
              "      <td>4025-9610-3588-54052160388현대</td>\n",
              "      <td>281520.0</td>\n",
              "      <td>0.0</td>\n",
              "      <td>0.0</td>\n",
              "      <td>0.0</td>\n",
              "      <td>0.0</td>\n",
              "      <td>281520.0</td>\n",
              "      <td>1.0</td>\n",
              "      <td>0.0</td>\n",
              "      <td>0.0</td>\n",
              "      <td>1007.0</td>\n",
              "      <td>0.0</td>\n",
              "      <td>1007.0</td>\n",
              "      <td>2</td>\n",
              "      <td>ETC로컬본부</td>\n",
              "      <td>NaN</td>\n",
              "      <td>큐레이션기획1팀</td>\n",
              "      <td>2019-11-01</td>\n",
              "      <td>NaN</td>\n",
              "      <td>NaN</td>\n",
              "      <td>NaN</td>\n",
              "      <td>NaN</td>\n",
              "    </tr>\n",
              "    <tr>\n",
              "      <th>2</th>\n",
              "      <td>4025-9610-4487-6304</td>\n",
              "      <td>현대</td>\n",
              "      <td>2190140</td>\n",
              "      <td>이성규</td>\n",
              "      <td>4025-9610-4487-63042190140현대</td>\n",
              "      <td>26400520.0</td>\n",
              "      <td>0.0</td>\n",
              "      <td>0.0</td>\n",
              "      <td>15046990.0</td>\n",
              "      <td>15046990.0</td>\n",
              "      <td>11353530.0</td>\n",
              "      <td>1.0</td>\n",
              "      <td>0.0</td>\n",
              "      <td>0.0</td>\n",
              "      <td>0.0</td>\n",
              "      <td>0.0</td>\n",
              "      <td>0.0</td>\n",
              "      <td>17</td>\n",
              "      <td>CH본부</td>\n",
              "      <td>NaN</td>\n",
              "      <td>CH채널기획팀</td>\n",
              "      <td>2021-03-01</td>\n",
              "      <td>NaN</td>\n",
              "      <td>NaN</td>\n",
              "      <td>NaN</td>\n",
              "      <td>NaN</td>\n",
              "    </tr>\n",
              "  </tbody>\n",
              "</table>\n",
              "</div>"
            ],
            "text/plain": [
              "                  카드번호  종류       사번  회원명  ... 영업사원성별  영업사원나이  영업사원나이대  영업사원직책\n",
              "0  4025-9610-3588-3509  현대  2000077  우동한  ...    NaN     NaN      NaN     NaN\n",
              "1  4025-9610-3588-5405  현대  2160388  국길환  ...    NaN     NaN      NaN     NaN\n",
              "2  4025-9610-4487-6304  현대  2190140  이성규  ...    NaN     NaN      NaN     NaN\n",
              "\n",
              "[3 rows x 26 columns]"
            ]
          },
          "metadata": {},
          "execution_count": 25
        }
      ]
    },
    {
      "cell_type": "code",
      "metadata": {
        "id": "CRjkUTRgGHcW"
      },
      "source": [
        "# 새로운 컬럼 생성\n",
        "# 1. 개인사용 비율\n",
        "data2['개인사용비율'] = data2['개인사용'] / data2['승인금액']\n",
        "# 2 mp ip detail 비율\n",
        "data2['ip_ratio'] = data2['ip총금액'] / data2['cps총금액']\n",
        "data2['mp_ratio'] = data2['mp총금액'] / data2['cps총금액']\n",
        "data2['detail_ratio'] = data2['detail총금액'] / data2['cps총금액']\n",
        "\n"
      ],
      "execution_count": 82,
      "outputs": []
    },
    {
      "cell_type": "code",
      "metadata": {
        "colab": {
          "base_uri": "https://localhost:8080/"
        },
        "id": "th4Dn8dfSQMy",
        "outputId": "5e2d5e14-df7a-4298-d68b-943c58ac80ce"
      },
      "source": [
        "data2.shape #수정전 1645행"
      ],
      "execution_count": 83,
      "outputs": [
        {
          "output_type": "execute_result",
          "data": {
            "text/plain": [
              "(1406, 34)"
            ]
          },
          "metadata": {},
          "execution_count": 83
        }
      ]
    },
    {
      "cell_type": "code",
      "metadata": {
        "colab": {
          "base_uri": "https://localhost:8080/",
          "height": 457
        },
        "id": "OARfUVcS_KhB",
        "outputId": "d5afd38e-d6f6-4cea-9c81-56ecb4078ebf"
      },
      "source": [
        "data2.head(3)"
      ],
      "execution_count": null,
      "outputs": [
        {
          "output_type": "execute_result",
          "data": {
            "text/html": [
              "<div>\n",
              "<style scoped>\n",
              "    .dataframe tbody tr th:only-of-type {\n",
              "        vertical-align: middle;\n",
              "    }\n",
              "\n",
              "    .dataframe tbody tr th {\n",
              "        vertical-align: top;\n",
              "    }\n",
              "\n",
              "    .dataframe thead th {\n",
              "        text-align: right;\n",
              "    }\n",
              "</style>\n",
              "<table border=\"1\" class=\"dataframe\">\n",
              "  <thead>\n",
              "    <tr style=\"text-align: right;\">\n",
              "      <th></th>\n",
              "      <th>카드번호</th>\n",
              "      <th>종류</th>\n",
              "      <th>사번</th>\n",
              "      <th>회원명</th>\n",
              "      <th>카드번호&amp;사번&amp;종류</th>\n",
              "      <th>승인금액</th>\n",
              "      <th>mp총금액</th>\n",
              "      <th>ip총금액</th>\n",
              "      <th>detail총금액</th>\n",
              "      <th>cps총금액</th>\n",
              "      <th>개인사용</th>\n",
              "      <th>연체여부</th>\n",
              "      <th>연체금액_부서경비</th>\n",
              "      <th>연체금액_세미나</th>\n",
              "      <th>연체금액_디테일</th>\n",
              "      <th>연체금액_조직활성화</th>\n",
              "      <th>연체금액_전체</th>\n",
              "      <th>사용개월수</th>\n",
              "      <th>본부</th>\n",
              "      <th>센터</th>\n",
              "      <th>팀</th>\n",
              "      <th>소속기준월</th>\n",
              "      <th>영업사원성별</th>\n",
              "      <th>영업사원나이</th>\n",
              "      <th>영업사원나이대</th>\n",
              "      <th>영업사원직책</th>\n",
              "      <th>개인사용비율</th>\n",
              "      <th>ip_ratio</th>\n",
              "      <th>mp_ratio</th>\n",
              "      <th>detail_ratio</th>\n",
              "    </tr>\n",
              "  </thead>\n",
              "  <tbody>\n",
              "    <tr>\n",
              "      <th>0</th>\n",
              "      <td>4670-6901-0008-6254</td>\n",
              "      <td>삼성</td>\n",
              "      <td>2020347</td>\n",
              "      <td>박수진</td>\n",
              "      <td>4670-6901-0008-62542020347삼성</td>\n",
              "      <td>53456466.0</td>\n",
              "      <td>0.0</td>\n",
              "      <td>0.0</td>\n",
              "      <td>0.0</td>\n",
              "      <td>0.0</td>\n",
              "      <td>53456466.0</td>\n",
              "      <td>0.0</td>\n",
              "      <td>0.0</td>\n",
              "      <td>0.0</td>\n",
              "      <td>0.0</td>\n",
              "      <td>0.0</td>\n",
              "      <td>0.0</td>\n",
              "      <td>18</td>\n",
              "      <td>ETC본부</td>\n",
              "      <td>서울4사업부</td>\n",
              "      <td>서울4사업부</td>\n",
              "      <td>2021-03-01</td>\n",
              "      <td>남자</td>\n",
              "      <td>50.0</td>\n",
              "      <td>50.0</td>\n",
              "      <td>본부장</td>\n",
              "      <td>1.0</td>\n",
              "      <td>NaN</td>\n",
              "      <td>NaN</td>\n",
              "      <td>NaN</td>\n",
              "    </tr>\n",
              "    <tr>\n",
              "      <th>1</th>\n",
              "      <td>4670-6901-0017-0512</td>\n",
              "      <td>삼성</td>\n",
              "      <td>2020347</td>\n",
              "      <td>박수진</td>\n",
              "      <td>4670-6901-0017-05122020347삼성</td>\n",
              "      <td>35873690.0</td>\n",
              "      <td>0.0</td>\n",
              "      <td>0.0</td>\n",
              "      <td>0.0</td>\n",
              "      <td>0.0</td>\n",
              "      <td>35873690.0</td>\n",
              "      <td>0.0</td>\n",
              "      <td>0.0</td>\n",
              "      <td>0.0</td>\n",
              "      <td>0.0</td>\n",
              "      <td>0.0</td>\n",
              "      <td>0.0</td>\n",
              "      <td>18</td>\n",
              "      <td>ETC본부</td>\n",
              "      <td>서울4사업부</td>\n",
              "      <td>서울4사업부</td>\n",
              "      <td>2021-03-01</td>\n",
              "      <td>남자</td>\n",
              "      <td>50.0</td>\n",
              "      <td>50.0</td>\n",
              "      <td>본부장</td>\n",
              "      <td>1.0</td>\n",
              "      <td>NaN</td>\n",
              "      <td>NaN</td>\n",
              "      <td>NaN</td>\n",
              "    </tr>\n",
              "    <tr>\n",
              "      <th>2</th>\n",
              "      <td>4670-6901-0014-5043</td>\n",
              "      <td>삼성</td>\n",
              "      <td>2030273</td>\n",
              "      <td>유창득</td>\n",
              "      <td>4670-6901-0014-50432030273삼성</td>\n",
              "      <td>135770867.0</td>\n",
              "      <td>0.0</td>\n",
              "      <td>0.0</td>\n",
              "      <td>0.0</td>\n",
              "      <td>0.0</td>\n",
              "      <td>135770867.0</td>\n",
              "      <td>0.0</td>\n",
              "      <td>0.0</td>\n",
              "      <td>0.0</td>\n",
              "      <td>0.0</td>\n",
              "      <td>0.0</td>\n",
              "      <td>0.0</td>\n",
              "      <td>18</td>\n",
              "      <td>ETC본부</td>\n",
              "      <td>서울3사업부</td>\n",
              "      <td>서울3사업부</td>\n",
              "      <td>2021-03-01</td>\n",
              "      <td>남자</td>\n",
              "      <td>45.0</td>\n",
              "      <td>40.0</td>\n",
              "      <td>사업부장</td>\n",
              "      <td>1.0</td>\n",
              "      <td>NaN</td>\n",
              "      <td>NaN</td>\n",
              "      <td>NaN</td>\n",
              "    </tr>\n",
              "  </tbody>\n",
              "</table>\n",
              "</div>"
            ],
            "text/plain": [
              "                  카드번호  종류       사번  ... ip_ratio mp_ratio  detail_ratio\n",
              "0  4670-6901-0008-6254  삼성  2020347  ...      NaN      NaN           NaN\n",
              "1  4670-6901-0017-0512  삼성  2020347  ...      NaN      NaN           NaN\n",
              "2  4670-6901-0014-5043  삼성  2030273  ...      NaN      NaN           NaN\n",
              "\n",
              "[3 rows x 30 columns]"
            ]
          },
          "metadata": {},
          "execution_count": 14
        }
      ]
    },
    {
      "cell_type": "code",
      "metadata": {
        "id": "Q8z5aBsGWDNJ"
      },
      "source": [
        ""
      ],
      "execution_count": null,
      "outputs": []
    },
    {
      "cell_type": "markdown",
      "metadata": {
        "id": "5Sd7SdqWWDnD"
      },
      "source": [
        "### 월별구분없는 데이터 "
      ]
    },
    {
      "cell_type": "code",
      "metadata": {
        "id": "FIWAyzJ4SILD"
      },
      "source": [
        "# 마케팅횟수\n",
        "corr_data = data2[['승인금액','mp총금액','ip총금액','detail총금액','cps총금액','개인사용','연체여부'\n",
        "                    ,'연체금액_전체','사용개월수','개인사용비율','ip_ratio','mp_ratio','detail_ratio']]\n",
        "corr= corr_data.corr()\n"
      ],
      "execution_count": 84,
      "outputs": []
    },
    {
      "cell_type": "code",
      "metadata": {
        "colab": {
          "base_uri": "https://localhost:8080/",
          "height": 455
        },
        "id": "_YLk2K8YXjKQ",
        "outputId": "8bafcaa5-dbae-43a6-892e-7b4c27a5a3e9"
      },
      "source": [
        "corr"
      ],
      "execution_count": 85,
      "outputs": [
        {
          "output_type": "execute_result",
          "data": {
            "text/html": [
              "<div>\n",
              "<style scoped>\n",
              "    .dataframe tbody tr th:only-of-type {\n",
              "        vertical-align: middle;\n",
              "    }\n",
              "\n",
              "    .dataframe tbody tr th {\n",
              "        vertical-align: top;\n",
              "    }\n",
              "\n",
              "    .dataframe thead th {\n",
              "        text-align: right;\n",
              "    }\n",
              "</style>\n",
              "<table border=\"1\" class=\"dataframe\">\n",
              "  <thead>\n",
              "    <tr style=\"text-align: right;\">\n",
              "      <th></th>\n",
              "      <th>승인금액</th>\n",
              "      <th>mp총금액</th>\n",
              "      <th>ip총금액</th>\n",
              "      <th>detail총금액</th>\n",
              "      <th>cps총금액</th>\n",
              "      <th>개인사용</th>\n",
              "      <th>연체여부</th>\n",
              "      <th>연체금액_전체</th>\n",
              "      <th>사용개월수</th>\n",
              "      <th>개인사용비율</th>\n",
              "      <th>ip_ratio</th>\n",
              "      <th>mp_ratio</th>\n",
              "      <th>detail_ratio</th>\n",
              "    </tr>\n",
              "  </thead>\n",
              "  <tbody>\n",
              "    <tr>\n",
              "      <th>승인금액</th>\n",
              "      <td>1.000000</td>\n",
              "      <td>0.084390</td>\n",
              "      <td>0.129906</td>\n",
              "      <td>0.726338</td>\n",
              "      <td>0.856661</td>\n",
              "      <td>0.792258</td>\n",
              "      <td>0.267945</td>\n",
              "      <td>0.274925</td>\n",
              "      <td>0.278530</td>\n",
              "      <td>0.012786</td>\n",
              "      <td>-0.310105</td>\n",
              "      <td>-0.219918</td>\n",
              "      <td>0.401471</td>\n",
              "    </tr>\n",
              "    <tr>\n",
              "      <th>mp총금액</th>\n",
              "      <td>0.084390</td>\n",
              "      <td>1.000000</td>\n",
              "      <td>0.047757</td>\n",
              "      <td>-0.260750</td>\n",
              "      <td>0.104356</td>\n",
              "      <td>0.028935</td>\n",
              "      <td>0.075999</td>\n",
              "      <td>0.068758</td>\n",
              "      <td>0.106006</td>\n",
              "      <td>-0.084282</td>\n",
              "      <td>-0.056416</td>\n",
              "      <td>0.709196</td>\n",
              "      <td>-0.429674</td>\n",
              "    </tr>\n",
              "    <tr>\n",
              "      <th>ip총금액</th>\n",
              "      <td>0.129906</td>\n",
              "      <td>0.047757</td>\n",
              "      <td>1.000000</td>\n",
              "      <td>-0.293495</td>\n",
              "      <td>0.261303</td>\n",
              "      <td>-0.074523</td>\n",
              "      <td>0.046675</td>\n",
              "      <td>0.018123</td>\n",
              "      <td>0.096105</td>\n",
              "      <td>-0.280603</td>\n",
              "      <td>0.644802</td>\n",
              "      <td>-0.067161</td>\n",
              "      <td>-0.482886</td>\n",
              "    </tr>\n",
              "    <tr>\n",
              "      <th>detail총금액</th>\n",
              "      <td>0.726338</td>\n",
              "      <td>-0.260750</td>\n",
              "      <td>-0.293495</td>\n",
              "      <td>1.000000</td>\n",
              "      <td>0.787942</td>\n",
              "      <td>0.379436</td>\n",
              "      <td>0.174675</td>\n",
              "      <td>0.197779</td>\n",
              "      <td>0.176660</td>\n",
              "      <td>-0.167015</td>\n",
              "      <td>-0.479009</td>\n",
              "      <td>-0.373258</td>\n",
              "      <td>0.642656</td>\n",
              "    </tr>\n",
              "    <tr>\n",
              "      <th>cps총금액</th>\n",
              "      <td>0.856661</td>\n",
              "      <td>0.104356</td>\n",
              "      <td>0.261303</td>\n",
              "      <td>0.787942</td>\n",
              "      <td>1.000000</td>\n",
              "      <td>0.363913</td>\n",
              "      <td>0.233968</td>\n",
              "      <td>0.239773</td>\n",
              "      <td>0.273702</td>\n",
              "      <td>-0.357549</td>\n",
              "      <td>-0.163289</td>\n",
              "      <td>-0.178300</td>\n",
              "      <td>0.253336</td>\n",
              "    </tr>\n",
              "    <tr>\n",
              "      <th>개인사용</th>\n",
              "      <td>0.792258</td>\n",
              "      <td>0.028935</td>\n",
              "      <td>-0.074523</td>\n",
              "      <td>0.379436</td>\n",
              "      <td>0.363913</td>\n",
              "      <td>1.000000</td>\n",
              "      <td>0.207042</td>\n",
              "      <td>0.212779</td>\n",
              "      <td>0.180107</td>\n",
              "      <td>0.445997</td>\n",
              "      <td>-0.404496</td>\n",
              "      <td>-0.202200</td>\n",
              "      <td>0.466868</td>\n",
              "    </tr>\n",
              "    <tr>\n",
              "      <th>연체여부</th>\n",
              "      <td>0.267945</td>\n",
              "      <td>0.075999</td>\n",
              "      <td>0.046675</td>\n",
              "      <td>0.174675</td>\n",
              "      <td>0.233968</td>\n",
              "      <td>0.207042</td>\n",
              "      <td>1.000000</td>\n",
              "      <td>0.887453</td>\n",
              "      <td>0.061900</td>\n",
              "      <td>0.006080</td>\n",
              "      <td>-0.075921</td>\n",
              "      <td>-0.020099</td>\n",
              "      <td>0.075648</td>\n",
              "    </tr>\n",
              "    <tr>\n",
              "      <th>연체금액_전체</th>\n",
              "      <td>0.274925</td>\n",
              "      <td>0.068758</td>\n",
              "      <td>0.018123</td>\n",
              "      <td>0.197779</td>\n",
              "      <td>0.239773</td>\n",
              "      <td>0.212779</td>\n",
              "      <td>0.887453</td>\n",
              "      <td>1.000000</td>\n",
              "      <td>0.036149</td>\n",
              "      <td>0.013287</td>\n",
              "      <td>-0.083625</td>\n",
              "      <td>-0.013615</td>\n",
              "      <td>0.077606</td>\n",
              "    </tr>\n",
              "    <tr>\n",
              "      <th>사용개월수</th>\n",
              "      <td>0.278530</td>\n",
              "      <td>0.106006</td>\n",
              "      <td>0.096105</td>\n",
              "      <td>0.176660</td>\n",
              "      <td>0.273702</td>\n",
              "      <td>0.180107</td>\n",
              "      <td>0.061900</td>\n",
              "      <td>0.036149</td>\n",
              "      <td>1.000000</td>\n",
              "      <td>-0.065533</td>\n",
              "      <td>0.015928</td>\n",
              "      <td>-0.012789</td>\n",
              "      <td>-0.004460</td>\n",
              "    </tr>\n",
              "    <tr>\n",
              "      <th>개인사용비율</th>\n",
              "      <td>0.012786</td>\n",
              "      <td>-0.084282</td>\n",
              "      <td>-0.280603</td>\n",
              "      <td>-0.167015</td>\n",
              "      <td>-0.357549</td>\n",
              "      <td>0.445997</td>\n",
              "      <td>0.006080</td>\n",
              "      <td>0.013287</td>\n",
              "      <td>-0.065533</td>\n",
              "      <td>1.000000</td>\n",
              "      <td>-0.454670</td>\n",
              "      <td>-0.072099</td>\n",
              "      <td>0.420652</td>\n",
              "    </tr>\n",
              "    <tr>\n",
              "      <th>ip_ratio</th>\n",
              "      <td>-0.310105</td>\n",
              "      <td>-0.056416</td>\n",
              "      <td>0.644802</td>\n",
              "      <td>-0.479009</td>\n",
              "      <td>-0.163289</td>\n",
              "      <td>-0.404496</td>\n",
              "      <td>-0.075921</td>\n",
              "      <td>-0.083625</td>\n",
              "      <td>0.015928</td>\n",
              "      <td>-0.454670</td>\n",
              "      <td>1.000000</td>\n",
              "      <td>-0.109787</td>\n",
              "      <td>-0.745113</td>\n",
              "    </tr>\n",
              "    <tr>\n",
              "      <th>mp_ratio</th>\n",
              "      <td>-0.219918</td>\n",
              "      <td>0.709196</td>\n",
              "      <td>-0.067161</td>\n",
              "      <td>-0.373258</td>\n",
              "      <td>-0.178300</td>\n",
              "      <td>-0.202200</td>\n",
              "      <td>-0.020099</td>\n",
              "      <td>-0.013615</td>\n",
              "      <td>-0.012789</td>\n",
              "      <td>-0.072099</td>\n",
              "      <td>-0.109787</td>\n",
              "      <td>1.000000</td>\n",
              "      <td>-0.581103</td>\n",
              "    </tr>\n",
              "    <tr>\n",
              "      <th>detail_ratio</th>\n",
              "      <td>0.401471</td>\n",
              "      <td>-0.429674</td>\n",
              "      <td>-0.482886</td>\n",
              "      <td>0.642656</td>\n",
              "      <td>0.253336</td>\n",
              "      <td>0.466868</td>\n",
              "      <td>0.075648</td>\n",
              "      <td>0.077606</td>\n",
              "      <td>-0.004460</td>\n",
              "      <td>0.420652</td>\n",
              "      <td>-0.745113</td>\n",
              "      <td>-0.581103</td>\n",
              "      <td>1.000000</td>\n",
              "    </tr>\n",
              "  </tbody>\n",
              "</table>\n",
              "</div>"
            ],
            "text/plain": [
              "                  승인금액     mp총금액     ip총금액  ...  ip_ratio  mp_ratio  detail_ratio\n",
              "승인금액          1.000000  0.084390  0.129906  ... -0.310105 -0.219918      0.401471\n",
              "mp총금액         0.084390  1.000000  0.047757  ... -0.056416  0.709196     -0.429674\n",
              "ip총금액         0.129906  0.047757  1.000000  ...  0.644802 -0.067161     -0.482886\n",
              "detail총금액     0.726338 -0.260750 -0.293495  ... -0.479009 -0.373258      0.642656\n",
              "cps총금액        0.856661  0.104356  0.261303  ... -0.163289 -0.178300      0.253336\n",
              "개인사용          0.792258  0.028935 -0.074523  ... -0.404496 -0.202200      0.466868\n",
              "연체여부          0.267945  0.075999  0.046675  ... -0.075921 -0.020099      0.075648\n",
              "연체금액_전체       0.274925  0.068758  0.018123  ... -0.083625 -0.013615      0.077606\n",
              "사용개월수         0.278530  0.106006  0.096105  ...  0.015928 -0.012789     -0.004460\n",
              "개인사용비율        0.012786 -0.084282 -0.280603  ... -0.454670 -0.072099      0.420652\n",
              "ip_ratio     -0.310105 -0.056416  0.644802  ...  1.000000 -0.109787     -0.745113\n",
              "mp_ratio     -0.219918  0.709196 -0.067161  ... -0.109787  1.000000     -0.581103\n",
              "detail_ratio  0.401471 -0.429674 -0.482886  ... -0.745113 -0.581103      1.000000\n",
              "\n",
              "[13 rows x 13 columns]"
            ]
          },
          "metadata": {},
          "execution_count": 85
        }
      ]
    },
    {
      "cell_type": "code",
      "metadata": {
        "colab": {
          "base_uri": "https://localhost:8080/",
          "height": 715
        },
        "id": "T24mvlStAPGb",
        "outputId": "e61ef130-9fb4-4b2f-9804-4a5784a55016"
      },
      "source": [
        "fig, ax = plt.subplots( figsize=(10,10) )\n",
        "\n",
        "mask = np.zeros_like(corr, dtype=np.bool)\n",
        "mask[np.triu_indices_from(mask)] = True\n",
        "sns.heatmap(corr,\n",
        "            cmap = 'RdYlBu_r', \n",
        "            annot = True,   # 실제 값을 표시한다\n",
        "            mask=mask,      # 표시하지 않을 마스크 부분을 지정한다\n",
        "            linewidths=.5,  # 경계면 실선으로 구분하기\n",
        "            cbar_kws={\"shrink\": .5},# 컬러바 크기 절반으로 줄이기\n",
        "            vmin = -1,vmax = 1   # 컬러바 범위 -1 ~ 1\n",
        "           )  \n",
        "plt.show()"
      ],
      "execution_count": 86,
      "outputs": [
        {
          "output_type": "stream",
          "name": "stderr",
          "text": [
            "/usr/local/lib/python3.7/dist-packages/matplotlib/backends/backend_agg.py:214: RuntimeWarning: Glyph 8722 missing from current font.\n",
            "  font.set_text(s, 0.0, flags=flags)\n",
            "/usr/local/lib/python3.7/dist-packages/matplotlib/backends/backend_agg.py:183: RuntimeWarning: Glyph 8722 missing from current font.\n",
            "  font.set_text(s, 0, flags=flags)\n"
          ]
        },
        {
          "output_type": "display_data",
          "data": {
            "image/png": "[encoded data removed]",
            "text/plain": [
              "<Figure size 720x720 with 2 Axes>"
            ]
          },
          "metadata": {
            "needs_background": "light"
          }
        }
      ]
    },
    {
      "cell_type": "code",
      "metadata": {
        "id": "6lqLZjYfx8gH"
      },
      "source": [
        "check = data2[(data2['영업사원직책']==\"본부장\")]"
      ],
      "execution_count": 12,
      "outputs": []
    },
    {
      "cell_type": "code",
      "metadata": {
        "id": "krLei_sDKuLS"
      },
      "source": [
        "check= check.drop_duplicates() "
      ],
      "execution_count": 13,
      "outputs": []
    },
    {
      "cell_type": "code",
      "metadata": {
        "colab": {
          "base_uri": "https://localhost:8080/",
          "height": 460
        },
        "id": "YbwKplTwi3LE",
        "outputId": "4ec88cb5-7032-4203-edec-bfbd76264d73"
      },
      "source": [
        "check"
      ],
      "execution_count": 50,
      "outputs": [
        {
          "output_type": "execute_result",
          "data": {
            "text/html": [
              "<div>\n",
              "<style scoped>\n",
              "    .dataframe tbody tr th:only-of-type {\n",
              "        vertical-align: middle;\n",
              "    }\n",
              "\n",
              "    .dataframe tbody tr th {\n",
              "        vertical-align: top;\n",
              "    }\n",
              "\n",
              "    .dataframe thead th {\n",
              "        text-align: right;\n",
              "    }\n",
              "</style>\n",
              "<table border=\"1\" class=\"dataframe\">\n",
              "  <thead>\n",
              "    <tr style=\"text-align: right;\">\n",
              "      <th></th>\n",
              "      <th>카드번호</th>\n",
              "      <th>종류</th>\n",
              "      <th>사번</th>\n",
              "      <th>소장여부</th>\n",
              "      <th>회원명</th>\n",
              "      <th>카드번호&amp;사번&amp;종류</th>\n",
              "      <th>pre_승인금액</th>\n",
              "      <th>승인금액</th>\n",
              "      <th>mp총금액</th>\n",
              "      <th>ip총금액</th>\n",
              "      <th>detail총금액</th>\n",
              "      <th>cps총금액</th>\n",
              "      <th>pre_개인사용</th>\n",
              "      <th>개인사용</th>\n",
              "      <th>연체여부</th>\n",
              "      <th>연체금액_부서경비</th>\n",
              "      <th>연체금액_세미나</th>\n",
              "      <th>연체금액_디테일</th>\n",
              "      <th>연체금액_조직활성화</th>\n",
              "      <th>연체금액_전체</th>\n",
              "      <th>사용개월수</th>\n",
              "      <th>본부</th>\n",
              "      <th>센터</th>\n",
              "      <th>팀</th>\n",
              "      <th>소속기준월</th>\n",
              "      <th>영업사원성별</th>\n",
              "      <th>영업사원나이</th>\n",
              "      <th>영업사원나이대</th>\n",
              "      <th>영업사원직책</th>\n",
              "      <th>개인사용비율</th>\n",
              "      <th>ip_ratio</th>\n",
              "      <th>mp_ratio</th>\n",
              "      <th>detail_ratio</th>\n",
              "    </tr>\n",
              "  </thead>\n",
              "  <tbody>\n",
              "    <tr>\n",
              "      <th>0</th>\n",
              "      <td>4670-6901-0008-6254</td>\n",
              "      <td>삼성</td>\n",
              "      <td>2020347</td>\n",
              "      <td>N</td>\n",
              "      <td>박수진</td>\n",
              "      <td>4670-6901-0008-62542020347삼성</td>\n",
              "      <td>53456466.0</td>\n",
              "      <td>53456466</td>\n",
              "      <td>0.0</td>\n",
              "      <td>0.0</td>\n",
              "      <td>0.0</td>\n",
              "      <td>0.0</td>\n",
              "      <td>53456466.0</td>\n",
              "      <td>53456466</td>\n",
              "      <td>0.0</td>\n",
              "      <td>0.0</td>\n",
              "      <td>0.0</td>\n",
              "      <td>0.0</td>\n",
              "      <td>0.0</td>\n",
              "      <td>0.0</td>\n",
              "      <td>18</td>\n",
              "      <td>ETC본부</td>\n",
              "      <td>서울4사업부</td>\n",
              "      <td>서울4사업부</td>\n",
              "      <td>2021-03-01</td>\n",
              "      <td>남자</td>\n",
              "      <td>50.0</td>\n",
              "      <td>50.0</td>\n",
              "      <td>본부장</td>\n",
              "      <td>1.0</td>\n",
              "      <td>NaN</td>\n",
              "      <td>NaN</td>\n",
              "      <td>NaN</td>\n",
              "    </tr>\n",
              "    <tr>\n",
              "      <th>1</th>\n",
              "      <td>4670-6901-0017-0512</td>\n",
              "      <td>삼성</td>\n",
              "      <td>2020347</td>\n",
              "      <td>N</td>\n",
              "      <td>박수진</td>\n",
              "      <td>4670-6901-0017-05122020347삼성</td>\n",
              "      <td>35873690.0</td>\n",
              "      <td>35873690</td>\n",
              "      <td>0.0</td>\n",
              "      <td>0.0</td>\n",
              "      <td>0.0</td>\n",
              "      <td>0.0</td>\n",
              "      <td>35873690.0</td>\n",
              "      <td>35873690</td>\n",
              "      <td>0.0</td>\n",
              "      <td>0.0</td>\n",
              "      <td>0.0</td>\n",
              "      <td>0.0</td>\n",
              "      <td>0.0</td>\n",
              "      <td>0.0</td>\n",
              "      <td>18</td>\n",
              "      <td>ETC본부</td>\n",
              "      <td>서울4사업부</td>\n",
              "      <td>서울4사업부</td>\n",
              "      <td>2021-03-01</td>\n",
              "      <td>남자</td>\n",
              "      <td>50.0</td>\n",
              "      <td>50.0</td>\n",
              "      <td>본부장</td>\n",
              "      <td>1.0</td>\n",
              "      <td>NaN</td>\n",
              "      <td>NaN</td>\n",
              "      <td>NaN</td>\n",
              "    </tr>\n",
              "  </tbody>\n",
              "</table>\n",
              "</div>"
            ],
            "text/plain": [
              "                  카드번호  종류       사번  ... ip_ratio mp_ratio detail_ratio\n",
              "0  4670-6901-0008-6254  삼성  2020347  ...      NaN      NaN          NaN\n",
              "1  4670-6901-0017-0512  삼성  2020347  ...      NaN      NaN          NaN\n",
              "\n",
              "[2 rows x 33 columns]"
            ]
          },
          "metadata": {},
          "execution_count": 50
        }
      ]
    },
    {
      "cell_type": "code",
      "metadata": {
        "colab": {
          "base_uri": "https://localhost:8080/"
        },
        "id": "Oe8DNPLijG1i",
        "outputId": "eeccff3d-d24d-49ed-a19d-50ed3f7f1ca7"
      },
      "source": [
        "a=check['사번'].unique()\n",
        "len(a)"
      ],
      "execution_count": 15,
      "outputs": [
        {
          "output_type": "execute_result",
          "data": {
            "text/plain": [
              "1"
            ]
          },
          "metadata": {},
          "execution_count": 15
        }
      ]
    },
    {
      "cell_type": "code",
      "metadata": {
        "colab": {
          "base_uri": "https://localhost:8080/",
          "height": 298
        },
        "id": "sQcoiZf_Hp7P",
        "outputId": "2fa6b733-ecff-4877-ecb3-8e1a07ee8b50"
      },
      "source": [
        "sns.countplot(data=data2, x=\"영업사원성별\")\n",
        "# 전체 법인카드 사용중 현대 > 삼성"
      ],
      "execution_count": 59,
      "outputs": [
        {
          "output_type": "execute_result",
          "data": {
            "text/plain": [
              "<matplotlib.axes._subplots.AxesSubplot at 0x7f46e2e16c90>"
            ]
          },
          "metadata": {},
          "execution_count": 59
        },
        {
          "output_type": "display_data",
          "data": {
            "image/png": "[encoded data removed]",
            "text/plain": [
              "<Figure size 432x288 with 1 Axes>"
            ]
          },
          "metadata": {
            "needs_background": "light"
          }
        }
      ]
    },
    {
      "cell_type": "code",
      "metadata": {
        "colab": {
          "base_uri": "https://localhost:8080/",
          "height": 296
        },
        "id": "SVy--5TtHuZt",
        "outputId": "5936bed6-76d0-4c66-829d-0266eb78d896"
      },
      "source": [
        "sns.countplot(data=data2, x=\"영업사원나이대\")\n"
      ],
      "execution_count": 60,
      "outputs": [
        {
          "output_type": "execute_result",
          "data": {
            "text/plain": [
              "<matplotlib.axes._subplots.AxesSubplot at 0x7f46ee428690>"
            ]
          },
          "metadata": {},
          "execution_count": 60
        },
        {
          "output_type": "display_data",
          "data": {
            "image/png": "[encoded data removed]",
            "text/plain": [
              "<Figure size 432x288 with 1 Axes>"
            ]
          },
          "metadata": {
            "needs_background": "light"
          }
        }
      ]
    },
    {
      "cell_type": "code",
      "metadata": {
        "colab": {
          "base_uri": "https://localhost:8080/",
          "height": 297
        },
        "id": "ulWsIVGTHyS3",
        "outputId": "e5a9f8be-dade-4d68-d4ac-f36111cef3c4"
      },
      "source": [
        "sns.countplot(data=data2, x=\"영업사원직책\")\n",
        "# 소장의 비율이높음\n",
        "# ETC영업본부만 가지고 할경우 거의 대부분이 직원임"
      ],
      "execution_count": 61,
      "outputs": [
        {
          "output_type": "execute_result",
          "data": {
            "text/plain": [
              "<matplotlib.axes._subplots.AxesSubplot at 0x7f46ee4270d0>"
            ]
          },
          "metadata": {},
          "execution_count": 61
        },
        {
          "output_type": "display_data",
          "data": {
            "image/png": "[encoded data removed]",
            "text/plain": [
              "<Figure size 432x288 with 1 Axes>"
            ]
          },
          "metadata": {
            "needs_background": "light"
          }
        }
      ]
    },
    {
      "cell_type": "code",
      "metadata": {
        "colab": {
          "base_uri": "https://localhost:8080/",
          "height": 351
        },
        "id": "lXD-iMtwK8ms",
        "outputId": "cc45b6d1-fbee-49bf-ec5f-b743a6f2fb97"
      },
      "source": [
        "plt.figure(figsize=(13, 5))\n",
        "sns.countplot(data=data2, x=\"종류\")\n",
        "# 전체 법인카드 사용중 현대 > 삼성"
      ],
      "execution_count": 62,
      "outputs": [
        {
          "output_type": "execute_result",
          "data": {
            "text/plain": [
              "<matplotlib.axes._subplots.AxesSubplot at 0x7f46ee2f5c10>"
            ]
          },
          "metadata": {},
          "execution_count": 62
        },
        {
          "output_type": "display_data",
          "data": {
            "image/png": "[encoded data removed]",
            "text/plain": [
              "<Figure size 936x360 with 1 Axes>"
            ]
          },
          "metadata": {
            "needs_background": "light"
          }
        }
      ]
    },
    {
      "cell_type": "code",
      "metadata": {
        "colab": {
          "base_uri": "https://localhost:8080/",
          "height": 350
        },
        "id": "Ny_4CpwKxpxv",
        "outputId": "b4058b7b-79d8-48b1-ce00-ee143c0d8aa1"
      },
      "source": [
        "plt.figure(figsize=(13, 5))\n",
        "sns.countplot(data=data2, x=\"본부\")\n",
        "# etc 병원에서 처방받은 약만 가능\n",
        "# ch 약국에서 \n",
        "# 수정후 ETC본부만 가지고 확인"
      ],
      "execution_count": 63,
      "outputs": [
        {
          "output_type": "execute_result",
          "data": {
            "text/plain": [
              "<matplotlib.axes._subplots.AxesSubplot at 0x7f46ed761350>"
            ]
          },
          "metadata": {},
          "execution_count": 63
        },
        {
          "output_type": "display_data",
          "data": {
            "image/png": "[encoded data removed]",
            "text/plain": [
              "<Figure size 936x360 with 1 Axes>"
            ]
          },
          "metadata": {
            "needs_background": "light"
          }
        }
      ]
    },
    {
      "cell_type": "code",
      "metadata": {
        "colab": {
          "base_uri": "https://localhost:8080/",
          "height": 350
        },
        "id": "jzVwK1FjPon6",
        "outputId": "736be074-c15b-40f8-f349-e6bf30da917f"
      },
      "source": [
        "plt.figure(figsize=(13, 5))\n",
        "sns.countplot(data=data2, x=\"센터\")\n"
      ],
      "execution_count": 64,
      "outputs": [
        {
          "output_type": "execute_result",
          "data": {
            "text/plain": [
              "<matplotlib.axes._subplots.AxesSubplot at 0x7f46ee44af10>"
            ]
          },
          "metadata": {},
          "execution_count": 64
        },
        {
          "output_type": "display_data",
          "data": {
            "image/png": "[encoded data removed]",
            "text/plain": [
              "<Figure size 936x360 with 1 Axes>"
            ]
          },
          "metadata": {
            "needs_background": "light"
          }
        }
      ]
    },
    {
      "cell_type": "code",
      "metadata": {
        "colab": {
          "base_uri": "https://localhost:8080/",
          "height": 358
        },
        "id": "eil3XhtbL7D9",
        "outputId": "f98271df-2f33-45e3-f688-8ff03fda4e9a"
      },
      "source": [
        "plt.figure(figsize=(30, 7))\n",
        "sns.countplot(data=data2, x=\"팀\")\n",
        "#"
      ],
      "execution_count": 65,
      "outputs": [
        {
          "output_type": "execute_result",
          "data": {
            "text/plain": [
              "<matplotlib.axes._subplots.AxesSubplot at 0x7f46ee44c5d0>"
            ]
          },
          "metadata": {},
          "execution_count": 65
        },
        {
          "output_type": "display_data",
          "data": {
            "image/png": "[encoded data removed]",
            "text/plain": [
              "<Figure size 2160x504 with 1 Axes>"
            ]
          },
          "metadata": {
            "needs_background": "light"
          }
        }
      ]
    },
    {
      "cell_type": "code",
      "metadata": {
        "colab": {
          "base_uri": "https://localhost:8080/"
        },
        "id": "okgaH9AeybgQ",
        "outputId": "142f868a-1838-4ff0-de88-be52fe2bba44"
      },
      "source": [
        "# 현대 / 삼성 카드의 개인사용비율 확인\n",
        "cardsum=data2['승인금액'].groupby(data2['종류']).sum()\n",
        "cardsum\n",
        "cardsum2=data2['개인사용'].groupby(data2['종류']).sum()\n",
        "cardsum2\n",
        "cardsum2/cardsum  # 삼성카드보다 현대카드의 개인사용 비율이 높음\n",
        "# 수정전 \n",
        "#삼성    0.382258\n",
        "#현대    0.471207\n",
        "# 수정후\n",
        "#삼성    0.372015\n",
        "#현대    0.459136\n"
      ],
      "execution_count": 66,
      "outputs": [
        {
          "output_type": "execute_result",
          "data": {
            "text/plain": [
              "종류\n",
              "삼성    0.372015\n",
              "현대    0.459136\n",
              "dtype: float64"
            ]
          },
          "metadata": {},
          "execution_count": 66
        }
      ]
    },
    {
      "cell_type": "code",
      "metadata": {
        "colab": {
          "base_uri": "https://localhost:8080/"
        },
        "id": "uuEXDPViIYXw",
        "outputId": "2e68d439-ebd3-4cae-800b-a70eb8aaf53d"
      },
      "source": [
        "# 성별에 따른 개인사용비율 확인\n",
        "cardsum=data2['승인금액'].groupby(data2['영업사원성별']).sum()\n",
        "cardsum\n",
        "cardsum2=data2['개인사용'].groupby(data2['영업사원성별']).sum()\n",
        "cardsum2\n",
        "cardsum2/cardsum  # 여성보다 남성의 개인사용비율이 높음\n",
        "# 수정전\n",
        "#남자    0.449242\n",
        "#여자    0.417940\n",
        "# 수정후\n",
        "#남자    0.430223\n",
        "#여자    0.414780\n"
      ],
      "execution_count": 87,
      "outputs": [
        {
          "output_type": "execute_result",
          "data": {
            "text/plain": [
              "영업사원성별\n",
              "남자    0.430223\n",
              "여자    0.414780\n",
              "dtype: float64"
            ]
          },
          "metadata": {},
          "execution_count": 87
        }
      ]
    },
    {
      "cell_type": "code",
      "metadata": {
        "colab": {
          "base_uri": "https://localhost:8080/"
        },
        "id": "sV1yhcFKIS6H",
        "outputId": "3e143a56-9893-460f-f493-a10283d2c18f"
      },
      "source": [
        "# 영업사원 나이대에따른 개인사용비율 확인\n",
        "cardsum=data2['승인금액'].groupby(data2['영업사원나이대']).sum()\n",
        "cardsum\n",
        "cardsum2=data2['개인사용'].groupby(data2['영업사원나이대']).sum()\n",
        "cardsum2\n",
        "cardsum2/cardsum  #  40~50대의 개인사용 비율이 20-30대의 개인사용비율보다 현저히 높게 나타남\n",
        "# 수정전\n",
        "#영업사원나이대\n",
        "#20.0    0.363014\n",
        "#30.0    0.380278\n",
        "#40.0    0.551770\n",
        "#50.0    0.546346\n",
        "#60.0    0.393153\n",
        "\n",
        "# 수정후\n",
        "#20.0    0.363014\n",
        "#30.0    0.376236\n",
        "#40.0    0.517975\n",
        "#50.0    0.493550\n",
        "#60.0    0.376447"
      ],
      "execution_count": 88,
      "outputs": [
        {
          "output_type": "execute_result",
          "data": {
            "text/plain": [
              "영업사원나이대\n",
              "20.0    0.363014\n",
              "30.0    0.376236\n",
              "40.0    0.517975\n",
              "50.0    0.493550\n",
              "60.0    0.376447\n",
              "dtype: float64"
            ]
          },
          "metadata": {},
          "execution_count": 88
        }
      ]
    },
    {
      "cell_type": "code",
      "metadata": {
        "colab": {
          "base_uri": "https://localhost:8080/"
        },
        "id": "GvjNnUnCIRKZ",
        "outputId": "1edf4c74-8e1d-4828-8ed8-5e4aa527c21e"
      },
      "source": [
        "# 영업사원 직책대에따른 개인사용비율 확인\n",
        "cardsum=data2['승인금액'].groupby(data2['영업사원직책']).sum()\n",
        "cardsum\n",
        "cardsum2=data2['개인사용'].groupby(data2['영업사원직책']).sum()\n",
        "cardsum2\n",
        "cardsum2/cardsum  #  직책이 있는분들이 쓰시는 법인카드는 대부분 개인용도로 많이 사용되고 있음\n",
        "# 수정전\n",
        "#영업사원직책\n",
        "#본부장     1.000000\n",
        "#사업부장    0.929440\n",
        "#소장      0.737586\n",
        "#소장대행    0.830556\n",
        "#실장      1.000000\n",
        "#직원      0.382539\n",
        "#팀장      0.801498\n",
        "\n",
        "# 수정후 : 사업부장, 소장,소장대행의 개인사용비율이 감소함\n",
        "#본부장     1.000000\n",
        "#사업부장    0.882148\n",
        "#소장      0.656623\n",
        "#실장      0.052936\n",
        "#직원      0.378809\n",
        "#팀장      0.771668"
      ],
      "execution_count": 89,
      "outputs": [
        {
          "output_type": "execute_result",
          "data": {
            "text/plain": [
              "영업사원직책\n",
              "본부장     1.000000\n",
              "사업부장    0.882148\n",
              "소장      0.656623\n",
              "실장      0.052936\n",
              "직원      0.378809\n",
              "팀장      0.771668\n",
              "dtype: float64"
            ]
          },
          "metadata": {},
          "execution_count": 89
        }
      ]
    },
    {
      "cell_type": "code",
      "metadata": {
        "colab": {
          "base_uri": "https://localhost:8080/"
        },
        "id": "twEgSXHcybl1",
        "outputId": "f4d3fe32-da40-4b66-b6a4-f793dc15e3c0"
      },
      "source": [
        "# 본부에따른 개인사용비율 확인\n",
        "cardsum=data2['승인금액'].groupby(data2['본부']).sum()\n",
        "cardsum\n",
        "cardsum2=data2['개인사용'].groupby(data2['본부']).sum()\n",
        "cardsum2\n",
        "cardsum2/cardsum \n",
        "# ETC로컬본부의 개인사용이 가장 많음 ETC본부, CH본부의 개인사용비율은 낮은편에 속함\n",
        "# 수정전\n",
        "#본부\n",
        "#CH본부       0.493122\n",
        "#ETC로컬본부    0.719106\n",
        "#ETC병원본부    0.652224\n",
        "#ETC본부      0.441613\n",
        "#ETC영업본부    0.655792\n",
        "\n",
        "# 수정후\n",
        "#본부\n",
        "#ETC본부     0.428261"
      ],
      "execution_count": 90,
      "outputs": [
        {
          "output_type": "execute_result",
          "data": {
            "text/plain": [
              "본부\n",
              "ETC본부    0.428261\n",
              "dtype: float64"
            ]
          },
          "metadata": {},
          "execution_count": 90
        }
      ]
    },
    {
      "cell_type": "code",
      "metadata": {
        "colab": {
          "base_uri": "https://localhost:8080/"
        },
        "id": "SpzsV5stKEV1",
        "outputId": "9aa9ae1a-be1b-4741-e775-d34073e8b848"
      },
      "source": [
        "# 센터에따른 개인사용비율 확인\n",
        "cardsum=data2['승인금액'].groupby(data2['센터']).sum()\n",
        "cardsum\n",
        "cardsum2=data2['개인사용'].groupby(data2['센터']).sum()\n",
        "cardsum2\n",
        "cardsum2/cardsum \n",
        "# 거의 대부분의 사업부들이 비슷함가장 많은 개인사용비율은 CH2사업부이나 다른 부서와 크게 차이는 없음\n",
        "# 수정후\n",
        "# 지방3사업부서울3사업부가 높게 나타남"
      ],
      "execution_count": 91,
      "outputs": [
        {
          "output_type": "execute_result",
          "data": {
            "text/plain": [
              "센터\n",
              "MS사무소     0.393543\n",
              "서울1사업부    0.421284\n",
              "서울2사업부    0.422354\n",
              "서울3사업부    0.445859\n",
              "서울4사업부    0.431665\n",
              "지방1사업부    0.396600\n",
              "지방2사업부    0.416122\n",
              "지방3사업부    0.445429\n",
              "지방4사업부    0.442126\n",
              "dtype: float64"
            ]
          },
          "metadata": {},
          "execution_count": 91
        }
      ]
    },
    {
      "cell_type": "code",
      "metadata": {
        "colab": {
          "base_uri": "https://localhost:8080/"
        },
        "id": "5PQwLcniKQPh",
        "outputId": "2a31da01-b863-493a-ce97-363827fafe56"
      },
      "source": [
        "# 팀에따른 개인사용비율 확인\n",
        "cardsum=data2['승인금액'].groupby(data2['팀']).sum()\n",
        "cardsum\n",
        "cardsum2=data2['개인사용'].groupby(data2['팀']).sum()\n",
        "cardsum2\n",
        "team=cardsum2/cardsum\n",
        "team_df = pd.DataFrame(team)\n",
        "team =team.sort_values( ascending=False)\n",
        "team"
      ],
      "execution_count": 92,
      "outputs": [
        {
          "output_type": "execute_result",
          "data": {
            "text/plain": [
              "팀\n",
              "지방4사업부     1.000000\n",
              "지방2사업부     1.000000\n",
              "서울4사업부     1.000000\n",
              "서울2사업부     1.000000\n",
              "서울1사업부     1.000000\n",
              "             ...   \n",
              "경기1사무소     0.362471\n",
              "병원인천사무소    0.355046\n",
              "동부1사무소     0.353628\n",
              "경남2사무소     0.343790\n",
              "지방1사업부     0.052936\n",
              "Length: 72, dtype: float64"
            ]
          },
          "metadata": {},
          "execution_count": 92
        }
      ]
    },
    {
      "cell_type": "code",
      "metadata": {
        "id": "Zts04PhSGzjq"
      },
      "source": [
        "team=pd.DataFrame(team)\n",
        "type(team)\n",
        "team.columns\n",
        "#team['팀'].str.contains('팀')\n",
        "team\n",
        "team = team.rename_axis('팀').reset_index()\n"
      ],
      "execution_count": 93,
      "outputs": []
    },
    {
      "cell_type": "code",
      "metadata": {
        "colab": {
          "base_uri": "https://localhost:8080/",
          "height": 518
        },
        "id": "efeI1sjvLGz0",
        "outputId": "2fae5eda-4ad0-41cb-81f0-59439fc0e830"
      },
      "source": [
        "team=team[team['팀'].str.contains('사무소')]\n",
        "team.head(15) # 사무소라는 단어가 포함된것만 보여줌\n",
        "# 여기나오는 팀/사무소는 개인사용비율이 높은곳들로 확인 필요\n",
        "# 서부1사무소(0.79) > 전주1사무소(0.74) > 전주2사무소\t >...\n",
        "# 병원인천사무소    0.364554 인것에 비해서 높은 수치임"
      ],
      "execution_count": 94,
      "outputs": [
        {
          "output_type": "execute_result",
          "data": {
            "text/html": [
              "<div>\n",
              "<style scoped>\n",
              "    .dataframe tbody tr th:only-of-type {\n",
              "        vertical-align: middle;\n",
              "    }\n",
              "\n",
              "    .dataframe tbody tr th {\n",
              "        vertical-align: top;\n",
              "    }\n",
              "\n",
              "    .dataframe thead th {\n",
              "        text-align: right;\n",
              "    }\n",
              "</style>\n",
              "<table border=\"1\" class=\"dataframe\">\n",
              "  <thead>\n",
              "    <tr style=\"text-align: right;\">\n",
              "      <th></th>\n",
              "      <th>팀</th>\n",
              "      <th>0</th>\n",
              "    </tr>\n",
              "  </thead>\n",
              "  <tbody>\n",
              "    <tr>\n",
              "      <th>8</th>\n",
              "      <td>서부1사무소</td>\n",
              "      <td>0.797193</td>\n",
              "    </tr>\n",
              "    <tr>\n",
              "      <th>9</th>\n",
              "      <td>전주1사무소</td>\n",
              "      <td>0.741772</td>\n",
              "    </tr>\n",
              "    <tr>\n",
              "      <th>10</th>\n",
              "      <td>전주2사무소</td>\n",
              "      <td>0.530308</td>\n",
              "    </tr>\n",
              "    <tr>\n",
              "      <th>11</th>\n",
              "      <td>대구3사무소</td>\n",
              "      <td>0.505517</td>\n",
              "    </tr>\n",
              "    <tr>\n",
              "      <th>12</th>\n",
              "      <td>경남1사무소</td>\n",
              "      <td>0.486836</td>\n",
              "    </tr>\n",
              "    <tr>\n",
              "      <th>13</th>\n",
              "      <td>병원남부사무소</td>\n",
              "      <td>0.482112</td>\n",
              "    </tr>\n",
              "    <tr>\n",
              "      <th>14</th>\n",
              "      <td>북부1사무소</td>\n",
              "      <td>0.478921</td>\n",
              "    </tr>\n",
              "    <tr>\n",
              "      <th>15</th>\n",
              "      <td>청주1사무소</td>\n",
              "      <td>0.475645</td>\n",
              "    </tr>\n",
              "    <tr>\n",
              "      <th>16</th>\n",
              "      <td>청주2사무소</td>\n",
              "      <td>0.474446</td>\n",
              "    </tr>\n",
              "    <tr>\n",
              "      <th>17</th>\n",
              "      <td>병원경남2사무소</td>\n",
              "      <td>0.463260</td>\n",
              "    </tr>\n",
              "    <tr>\n",
              "      <th>18</th>\n",
              "      <td>경인2사무소</td>\n",
              "      <td>0.462301</td>\n",
              "    </tr>\n",
              "    <tr>\n",
              "      <th>19</th>\n",
              "      <td>북부3사무소</td>\n",
              "      <td>0.462070</td>\n",
              "    </tr>\n",
              "    <tr>\n",
              "      <th>20</th>\n",
              "      <td>부산2사무소</td>\n",
              "      <td>0.456112</td>\n",
              "    </tr>\n",
              "    <tr>\n",
              "      <th>21</th>\n",
              "      <td>부산3사무소</td>\n",
              "      <td>0.454983</td>\n",
              "    </tr>\n",
              "    <tr>\n",
              "      <th>22</th>\n",
              "      <td>병원강원사무소</td>\n",
              "      <td>0.452448</td>\n",
              "    </tr>\n",
              "  </tbody>\n",
              "</table>\n",
              "</div>"
            ],
            "text/plain": [
              "           팀         0\n",
              "8     서부1사무소  0.797193\n",
              "9     전주1사무소  0.741772\n",
              "10    전주2사무소  0.530308\n",
              "11    대구3사무소  0.505517\n",
              "12    경남1사무소  0.486836\n",
              "13   병원남부사무소  0.482112\n",
              "14    북부1사무소  0.478921\n",
              "15    청주1사무소  0.475645\n",
              "16    청주2사무소  0.474446\n",
              "17  병원경남2사무소  0.463260\n",
              "18    경인2사무소  0.462301\n",
              "19    북부3사무소  0.462070\n",
              "20    부산2사무소  0.456112\n",
              "21    부산3사무소  0.454983\n",
              "22   병원강원사무소  0.452448"
            ]
          },
          "metadata": {},
          "execution_count": 94
        }
      ]
    },
    {
      "cell_type": "code",
      "metadata": {
        "colab": {
          "base_uri": "https://localhost:8080/"
        },
        "id": "p9DUySPoMC7v",
        "outputId": "58640d2a-2d79-4909-8fed-71247c707a9f"
      },
      "source": [
        "# 사용개월수에따른 개인사용비율 확인\n",
        "cardsum=data2['승인금액'].groupby(data2['사용개월수']).sum()\n",
        "cardsum\n",
        "cardsum2=data2['개인사용'].groupby(data2['사용개월수']).sum()\n",
        "cardsum2\n",
        "card_month = cardsum2/cardsum\n",
        "card_month "
      ],
      "execution_count": 95,
      "outputs": [
        {
          "output_type": "execute_result",
          "data": {
            "text/plain": [
              "사용개월수\n",
              "2     0.647725\n",
              "3     0.537782\n",
              "4     0.478824\n",
              "5     0.735708\n",
              "6     0.534567\n",
              "7     0.314882\n",
              "8     0.443673\n",
              "9     0.558502\n",
              "10    0.520648\n",
              "11    0.547089\n",
              "12    0.416182\n",
              "13    0.360657\n",
              "14    0.351250\n",
              "15    0.405483\n",
              "16    0.387331\n",
              "17    0.435649\n",
              "18    0.428344\n",
              "19    0.415898\n",
              "20    0.338219\n",
              "21    0.366289\n",
              "22    0.368469\n",
              "dtype: float64"
            ]
          },
          "metadata": {},
          "execution_count": 95
        }
      ]
    },
    {
      "cell_type": "code",
      "metadata": {
        "colab": {
          "base_uri": "https://localhost:8080/",
          "height": 282
        },
        "id": "W0R_5bcqNtBu",
        "outputId": "9ec1f240-de8e-451e-a6fe-fb841c4ac6fa"
      },
      "source": [
        "plt.plot(card_month)\n",
        "# 사용개월수가 늘어날수록 개인사용비율이 적어지는것을 확인가능\n",
        "# 7-8개월일때 개인사용비율이 높은것을 화인가능"
      ],
      "execution_count": 96,
      "outputs": [
        {
          "output_type": "execute_result",
          "data": {
            "text/plain": [
              "[<matplotlib.lines.Line2D at 0x7f46e2829650>]"
            ]
          },
          "metadata": {},
          "execution_count": 96
        },
        {
          "output_type": "display_data",
          "data": {
            "image/png": "[encoded data removed]",
            "text/plain": [
              "<Figure size 432x288 with 1 Axes>"
            ]
          },
          "metadata": {
            "needs_background": "light"
          }
        }
      ]
    },
    {
      "cell_type": "code",
      "metadata": {
        "colab": {
          "base_uri": "https://localhost:8080/"
        },
        "id": "ftZscvbIOjva",
        "outputId": "3d1855a9-0ccf-4a5e-b8d8-5c26e57b6422"
      },
      "source": [
        "# 연체여부에 따른 개인사용비율 확인\n",
        "cardsum=data2['승인금액'].groupby(data2['연체여부']).count()\n",
        "cardsum\n",
        "# 구간을 나누고자함, 0 / 1 / 2 / 3 / 4 / 5-10 / 10이상"
      ],
      "execution_count": 97,
      "outputs": [
        {
          "output_type": "execute_result",
          "data": {
            "text/plain": [
              "연체여부\n",
              "0.0     1026\n",
              "1.0      145\n",
              "2.0       67\n",
              "3.0       38\n",
              "4.0       28\n",
              "5.0       30\n",
              "6.0       22\n",
              "7.0        9\n",
              "8.0       13\n",
              "9.0       11\n",
              "10.0       6\n",
              "11.0       3\n",
              "14.0       3\n",
              "15.0       1\n",
              "16.0       1\n",
              "18.0       1\n",
              "24.0       1\n",
              "Name: 승인금액, dtype: int64"
            ]
          },
          "metadata": {},
          "execution_count": 97
        }
      ]
    },
    {
      "cell_type": "code",
      "metadata": {
        "colab": {
          "base_uri": "https://localhost:8080/",
          "height": 460
        },
        "id": "m6ueiFH2OkB4",
        "outputId": "f909c171-33f4-40c4-ecaa-39ec7a17c77f"
      },
      "source": [
        "\n",
        "def late(x):\n",
        " if x==0: return '0'\n",
        " elif x==1: return '1'\n",
        " elif x==2: return '2'\n",
        " elif x==3: return '3'\n",
        " elif x==4: return '4'\n",
        " elif x<10: return '5-9' \n",
        " else: return '10이상'\n",
        "data2[\"연체구분\"] = data2[\"연체여부\"].apply(late)\n",
        "data2.head(2)"
      ],
      "execution_count": 98,
      "outputs": [
        {
          "output_type": "execute_result",
          "data": {
            "text/html": [
              "<div>\n",
              "<style scoped>\n",
              "    .dataframe tbody tr th:only-of-type {\n",
              "        vertical-align: middle;\n",
              "    }\n",
              "\n",
              "    .dataframe tbody tr th {\n",
              "        vertical-align: top;\n",
              "    }\n",
              "\n",
              "    .dataframe thead th {\n",
              "        text-align: right;\n",
              "    }\n",
              "</style>\n",
              "<table border=\"1\" class=\"dataframe\">\n",
              "  <thead>\n",
              "    <tr style=\"text-align: right;\">\n",
              "      <th></th>\n",
              "      <th>카드번호</th>\n",
              "      <th>종류</th>\n",
              "      <th>사번</th>\n",
              "      <th>소장여부</th>\n",
              "      <th>회원명</th>\n",
              "      <th>카드번호&amp;사번&amp;종류</th>\n",
              "      <th>승인금액</th>\n",
              "      <th>mp총금액</th>\n",
              "      <th>ip총금액</th>\n",
              "      <th>pre_detail총금액</th>\n",
              "      <th>detail총금액</th>\n",
              "      <th>pre_cps총금액</th>\n",
              "      <th>cps총금액</th>\n",
              "      <th>pre_개인사용</th>\n",
              "      <th>개인사용</th>\n",
              "      <th>연체여부</th>\n",
              "      <th>연체금액_부서경비</th>\n",
              "      <th>연체금액_세미나</th>\n",
              "      <th>연체금액_디테일</th>\n",
              "      <th>연체금액_조직활성화</th>\n",
              "      <th>연체금액_전체</th>\n",
              "      <th>사용개월수</th>\n",
              "      <th>본부</th>\n",
              "      <th>센터</th>\n",
              "      <th>팀</th>\n",
              "      <th>소속기준월</th>\n",
              "      <th>영업사원성별</th>\n",
              "      <th>영업사원나이</th>\n",
              "      <th>영업사원나이대</th>\n",
              "      <th>영업사원직책</th>\n",
              "      <th>개인사용비율</th>\n",
              "      <th>ip_ratio</th>\n",
              "      <th>mp_ratio</th>\n",
              "      <th>detail_ratio</th>\n",
              "      <th>연체구분</th>\n",
              "    </tr>\n",
              "  </thead>\n",
              "  <tbody>\n",
              "    <tr>\n",
              "      <th>0</th>\n",
              "      <td>4670-6901-0008-6254</td>\n",
              "      <td>삼성</td>\n",
              "      <td>2020347</td>\n",
              "      <td>N</td>\n",
              "      <td>박수진</td>\n",
              "      <td>4670-6901-0008-62542020347삼성</td>\n",
              "      <td>53456466.0</td>\n",
              "      <td>0.0</td>\n",
              "      <td>0.0</td>\n",
              "      <td>0.0</td>\n",
              "      <td>0.0</td>\n",
              "      <td>0.0</td>\n",
              "      <td>0.0</td>\n",
              "      <td>53456466.0</td>\n",
              "      <td>53456466</td>\n",
              "      <td>0.0</td>\n",
              "      <td>0.0</td>\n",
              "      <td>0.0</td>\n",
              "      <td>0.0</td>\n",
              "      <td>0.0</td>\n",
              "      <td>0.0</td>\n",
              "      <td>18</td>\n",
              "      <td>ETC본부</td>\n",
              "      <td>서울4사업부</td>\n",
              "      <td>서울4사업부</td>\n",
              "      <td>2021-03-01</td>\n",
              "      <td>남자</td>\n",
              "      <td>50.0</td>\n",
              "      <td>50.0</td>\n",
              "      <td>본부장</td>\n",
              "      <td>1.0</td>\n",
              "      <td>NaN</td>\n",
              "      <td>NaN</td>\n",
              "      <td>NaN</td>\n",
              "      <td>0</td>\n",
              "    </tr>\n",
              "    <tr>\n",
              "      <th>1</th>\n",
              "      <td>4670-6901-0017-0512</td>\n",
              "      <td>삼성</td>\n",
              "      <td>2020347</td>\n",
              "      <td>N</td>\n",
              "      <td>박수진</td>\n",
              "      <td>4670-6901-0017-05122020347삼성</td>\n",
              "      <td>35873690.0</td>\n",
              "      <td>0.0</td>\n",
              "      <td>0.0</td>\n",
              "      <td>0.0</td>\n",
              "      <td>0.0</td>\n",
              "      <td>0.0</td>\n",
              "      <td>0.0</td>\n",
              "      <td>35873690.0</td>\n",
              "      <td>35873690</td>\n",
              "      <td>0.0</td>\n",
              "      <td>0.0</td>\n",
              "      <td>0.0</td>\n",
              "      <td>0.0</td>\n",
              "      <td>0.0</td>\n",
              "      <td>0.0</td>\n",
              "      <td>18</td>\n",
              "      <td>ETC본부</td>\n",
              "      <td>서울4사업부</td>\n",
              "      <td>서울4사업부</td>\n",
              "      <td>2021-03-01</td>\n",
              "      <td>남자</td>\n",
              "      <td>50.0</td>\n",
              "      <td>50.0</td>\n",
              "      <td>본부장</td>\n",
              "      <td>1.0</td>\n",
              "      <td>NaN</td>\n",
              "      <td>NaN</td>\n",
              "      <td>NaN</td>\n",
              "      <td>0</td>\n",
              "    </tr>\n",
              "  </tbody>\n",
              "</table>\n",
              "</div>"
            ],
            "text/plain": [
              "                  카드번호  종류       사번 소장여부  ... ip_ratio mp_ratio  detail_ratio  연체구분\n",
              "0  4670-6901-0008-6254  삼성  2020347    N  ...      NaN      NaN           NaN     0\n",
              "1  4670-6901-0017-0512  삼성  2020347    N  ...      NaN      NaN           NaN     0\n",
              "\n",
              "[2 rows x 35 columns]"
            ]
          },
          "metadata": {},
          "execution_count": 98
        }
      ]
    },
    {
      "cell_type": "code",
      "metadata": {
        "colab": {
          "base_uri": "https://localhost:8080/"
        },
        "id": "jt2YZcMtQvVu",
        "outputId": "9b46409b-0733-4c89-8b1a-7eb0a591acfb"
      },
      "source": [
        "# 연체여부에 따른 개인사용비율 확인\n",
        "cardsum=data2['승인금액'].groupby(data2['연체구분']).sum()\n",
        "cardsum\n",
        "cardsum2=data2['개인사용'].groupby(data2['연체구분']).sum()\n",
        "cardsum2\n",
        "card_late = cardsum2/cardsum\n",
        "card_late \n",
        "# 연체개월이 0일때의개인사용비율이 가장 높음(43%) , 10번이상 연체한것에 대해서 개인사용비율이 가장낮음(40%) 그러나 큰 차이는 아니라고 여겨짐\n",
        "# 연체를 많이하게 되면 개인사용 비율을 줄이나봄"
      ],
      "execution_count": 100,
      "outputs": [
        {
          "output_type": "execute_result",
          "data": {
            "text/plain": [
              "연체구분\n",
              "0       0.433740\n",
              "1       0.408474\n",
              "10이상    0.400533\n",
              "2       0.414171\n",
              "3       0.413330\n",
              "4       0.444055\n",
              "5-9     0.431924\n",
              "dtype: float64"
            ]
          },
          "metadata": {},
          "execution_count": 100
        }
      ]
    },
    {
      "cell_type": "code",
      "metadata": {
        "colab": {
          "base_uri": "https://localhost:8080/"
        },
        "id": "nk6AI3LPMDD0",
        "outputId": "b41da347-e071-45fc-c62a-6449e61bb9de"
      },
      "source": [
        "# 연체여부에 따른 개인사용비율 확인\n",
        "cardsum=data2['승인금액'].groupby(data2['연체여부']).sum()\n",
        "cardsum\n",
        "cardsum2=data2['개인사용'].groupby(data2['연체여부']).sum()\n",
        "cardsum2\n",
        "card_late = cardsum2/cardsum\n",
        "card_late \n",
        "# 연체여부개월수에 따라서 개인사용비율이 들쑥날쑥 하긴하지만 샘플수가 적어서 나타나는 문제인듯하다\n",
        "# 24개월의 연체를 했을경우의 개인사용비율은 55%로 가장 높다. \n",
        "# 이를 검증하기위해 좀더 많은 데이터가 필요할 것 같다."
      ],
      "execution_count": 101,
      "outputs": [
        {
          "output_type": "execute_result",
          "data": {
            "text/plain": [
              "연체여부\n",
              "0.0     0.433740\n",
              "1.0     0.408474\n",
              "2.0     0.414171\n",
              "3.0     0.413330\n",
              "4.0     0.444055\n",
              "5.0     0.386952\n",
              "6.0     0.407443\n",
              "7.0     0.487453\n",
              "8.0     0.450523\n",
              "9.0     0.524034\n",
              "10.0    0.408166\n",
              "11.0    0.288863\n",
              "14.0    0.417408\n",
              "15.0    0.322445\n",
              "16.0    0.443093\n",
              "18.0    0.406179\n",
              "24.0    0.555650\n",
              "dtype: float64"
            ]
          },
          "metadata": {},
          "execution_count": 101
        }
      ]
    },
    {
      "cell_type": "code",
      "metadata": {
        "colab": {
          "base_uri": "https://localhost:8080/"
        },
        "id": "SE30PB4jOb8f",
        "outputId": "20c0c898-5ac2-4998-c0ec-2dbc3f0a2c85"
      },
      "source": [
        "cardsum=data2['승인금액'].groupby(data2['연체여부']).count()\n",
        "cardsum\n",
        "# 거의 대부분이 연체를 하지않음"
      ],
      "execution_count": 104,
      "outputs": [
        {
          "output_type": "execute_result",
          "data": {
            "text/plain": [
              "연체여부\n",
              "0.0     1026\n",
              "1.0      145\n",
              "2.0       67\n",
              "3.0       38\n",
              "4.0       28\n",
              "5.0       30\n",
              "6.0       22\n",
              "7.0        9\n",
              "8.0       13\n",
              "9.0       11\n",
              "10.0       6\n",
              "11.0       3\n",
              "14.0       3\n",
              "15.0       1\n",
              "16.0       1\n",
              "18.0       1\n",
              "24.0       1\n",
              "Name: 승인금액, dtype: int64"
            ]
          },
          "metadata": {},
          "execution_count": 104
        }
      ]
    },
    {
      "cell_type": "code",
      "metadata": {
        "colab": {
          "base_uri": "https://localhost:8080/",
          "height": 282
        },
        "id": "c_tbkuj7OFA7",
        "outputId": "8220c715-83b7-4bab-b4a8-84ca5f939654"
      },
      "source": [
        "plt.plot(card_late) # 연체개월수가 많아지는 영업사원의 개인사용비율 높아지는 추세를 보임\n",
        "# 연체개월 구간별 영업사원의 개인사용비율이 다르게 나타남\n",
        "# 연체개월이 높아질수록 개인사용비율이 높아진다고 볼수 있다. 10-20구간의 데이터가 많이 부족해서 나타나는 현상이라 보인다."
      ],
      "execution_count": 105,
      "outputs": [
        {
          "output_type": "execute_result",
          "data": {
            "text/plain": [
              "[<matplotlib.lines.Line2D at 0x7f46e24d17d0>]"
            ]
          },
          "metadata": {},
          "execution_count": 105
        },
        {
          "output_type": "display_data",
          "data": {
            "image/png": "[encoded data removed]",
            "text/plain": [
              "<Figure size 432x288 with 1 Axes>"
            ]
          },
          "metadata": {
            "needs_background": "light"
          }
        }
      ]
    },
    {
      "cell_type": "code",
      "metadata": {
        "colab": {
          "base_uri": "https://localhost:8080/"
        },
        "id": "kvm_qcVeOAWS",
        "outputId": "a6bd0265-d203-43a5-952b-78fb92af7a97"
      },
      "source": [
        "# 나이/성별/직책에 따른 개인사용비율 확인\n",
        "cardsum=data2['승인금액'].groupby([data2['영업사원성별'],data2['영업사원나이대']]).sum()\n",
        "cardsum\n",
        "cardsum2=data2['개인사용'].groupby([data2['영업사원성별'],data2['영업사원나이대']]).sum()\n",
        "cardsum2\n",
        "cardsum2/cardsum  \n",
        "# 남자 40-50, 여자 40대의 개인사용비율이 높은걸 확인가능\n",
        "# 수정전\n",
        "#영업사원성별  영업사원나이대\n",
        "#남자      20.0       0.353029\n",
        "#        30.0       0.377568\n",
        "#        40.0       0.551253\n",
        "#        50.0       0.546346\n",
        "#        60.0       0.393153\n",
        "#여자      20.0       0.391891\n",
        "#        30.0       0.414935\n",
        "#        40.0       0.683465\n"
      ],
      "execution_count": 106,
      "outputs": [
        {
          "output_type": "execute_result",
          "data": {
            "text/plain": [
              "영업사원성별  영업사원나이대\n",
              "남자      20.0       0.353029\n",
              "        30.0       0.373472\n",
              "        40.0       0.517277\n",
              "        50.0       0.493550\n",
              "        60.0       0.376447\n",
              "여자      20.0       0.391891\n",
              "        30.0       0.411204\n",
              "        40.0       0.696883\n",
              "dtype: float64"
            ]
          },
          "metadata": {},
          "execution_count": 106
        }
      ]
    },
    {
      "cell_type": "code",
      "metadata": {
        "id": "mluA6gjNWkxv"
      },
      "source": [
        "##################### 1인당 개인사용금액 확인해보기 ########################"
      ],
      "execution_count": null,
      "outputs": []
    },
    {
      "cell_type": "code",
      "metadata": {
        "colab": {
          "base_uri": "https://localhost:8080/"
        },
        "id": "PH-Kv0GiaYjV",
        "outputId": "f54d8b13-810a-4e2e-ac57-00929a1bc86b"
      },
      "source": [
        "# 성별에 따른 1인당 사용금액\n",
        "cardsum=data2['개인사용'].groupby(data2['영업사원성별']).sum()\n",
        "cardsum\n",
        "cardsum2=data2['개인사용'].groupby(data2['영업사원성별']).count()\n",
        "cardsum2\n",
        "a=card_month = cardsum/cardsum2\n",
        "card_month \n",
        "# 남자가 1인당 사용금액이 약간 많은걸 확인가능"
      ],
      "execution_count": 107,
      "outputs": [
        {
          "output_type": "execute_result",
          "data": {
            "text/plain": [
              "영업사원성별\n",
              "남자    9.381439e+06\n",
              "여자    9.087057e+06\n",
              "Name: 개인사용, dtype: float64"
            ]
          },
          "metadata": {},
          "execution_count": 107
        }
      ]
    },
    {
      "cell_type": "code",
      "metadata": {
        "colab": {
          "base_uri": "https://localhost:8080/",
          "height": 292
        },
        "id": "-s0JkMBYhIlz",
        "outputId": "135e6f0b-3332-4488-feea-0a0379a58a0d"
      },
      "source": [
        "b = pd.DataFrame(a)\n",
        "df = b.rename_axis('c').reset_index()\n",
        "plt.bar(df['c'],df['개인사용'])"
      ],
      "execution_count": 108,
      "outputs": [
        {
          "output_type": "execute_result",
          "data": {
            "text/plain": [
              "<BarContainer object of 2 artists>"
            ]
          },
          "metadata": {},
          "execution_count": 108
        },
        {
          "output_type": "display_data",
          "data": {
            "image/png": "[encoded data removed]",
            "text/plain": [
              "<Figure size 432x288 with 1 Axes>"
            ]
          },
          "metadata": {
            "needs_background": "light"
          }
        }
      ]
    },
    {
      "cell_type": "code",
      "metadata": {
        "colab": {
          "base_uri": "https://localhost:8080/"
        },
        "id": "XCmuf079cQWU",
        "outputId": "fa690c2e-af16-4ea4-8ea9-c3265a79d57d"
      },
      "source": [
        "# 연령대에 따른 1인당 사용금액\n",
        "cardsum=data2['개인사용'].groupby(data2['영업사원나이대']).sum()\n",
        "cardsum\n",
        "cardsum2=data2['개인사용'].groupby(data2['영업사원나이대']).count()\n",
        "cardsum2\n",
        "a = card_month = cardsum/cardsum2\n",
        "card_month \n",
        "# 40대,60대가 1인당 사용금액 가장많고, 20대가 1인당 사용금액 적음"
      ],
      "execution_count": 109,
      "outputs": [
        {
          "output_type": "execute_result",
          "data": {
            "text/plain": [
              "영업사원나이대\n",
              "20.0    6.617921e+06\n",
              "30.0    9.249823e+06\n",
              "40.0    1.002046e+07\n",
              "50.0    8.328227e+06\n",
              "60.0    1.067286e+07\n",
              "Name: 개인사용, dtype: float64"
            ]
          },
          "metadata": {},
          "execution_count": 109
        }
      ]
    },
    {
      "cell_type": "code",
      "metadata": {
        "colab": {
          "base_uri": "https://localhost:8080/",
          "height": 292
        },
        "id": "t9hT_PiVfBWT",
        "outputId": "f3d3dff1-c0b0-400d-bc92-4138656bdeb0"
      },
      "source": [
        "b = pd.DataFrame(a)\n",
        "df = b.rename_axis('c').reset_index()\n",
        "plt.bar(df['c'],df['개인사용'])"
      ],
      "execution_count": 110,
      "outputs": [
        {
          "output_type": "execute_result",
          "data": {
            "text/plain": [
              "<BarContainer object of 5 artists>"
            ]
          },
          "metadata": {},
          "execution_count": 110
        },
        {
          "output_type": "display_data",
          "data": {
            "image/png": "[encoded data removed]",
            "text/plain": [
              "<Figure size 432x288 with 1 Axes>"
            ]
          },
          "metadata": {
            "needs_background": "light"
          }
        }
      ]
    },
    {
      "cell_type": "code",
      "metadata": {
        "colab": {
          "base_uri": "https://localhost:8080/"
        },
        "id": "MU96WG5Fcf7w",
        "outputId": "29a20bd9-5bd3-4879-f564-218911a3d389"
      },
      "source": [
        "# 영업사원직책 따른 1인당 사용금액\n",
        "cardsum=data2['개인사용'].groupby(data2['영업사원직책']).sum()\n",
        "cardsum\n",
        "cardsum2=data2['개인사용'].groupby(data2['영업사원직책']).count()\n",
        "a=cardsum/cardsum2\n",
        "cardsum/cardsum2\n",
        "# 본부장 , 사업부장이 가장 많음, 직원보다 팀장/실장이 더 적게 사용\n",
        "# 실장은 개인사용으로 거의 사용하지 않는듯하다."
      ],
      "execution_count": 111,
      "outputs": [
        {
          "output_type": "execute_result",
          "data": {
            "text/plain": [
              "영업사원직책\n",
              "본부장     4.466508e+07\n",
              "사업부장    2.445601e+07\n",
              "소장      1.110949e+07\n",
              "실장      1.012600e+06\n",
              "직원      8.650373e+06\n",
              "팀장      8.434255e+06\n",
              "Name: 개인사용, dtype: float64"
            ]
          },
          "metadata": {},
          "execution_count": 111
        }
      ]
    },
    {
      "cell_type": "code",
      "metadata": {
        "colab": {
          "base_uri": "https://localhost:8080/",
          "height": 293
        },
        "id": "0rJrXwisgmAt",
        "outputId": "3bdf2237-0d3b-452c-a19c-37955d993522"
      },
      "source": [
        "b = pd.DataFrame(a)\n",
        "df = b.rename_axis('c').reset_index()\n",
        "plt.bar(df['c'],df['개인사용'])\n",
        "#"
      ],
      "execution_count": 112,
      "outputs": [
        {
          "output_type": "execute_result",
          "data": {
            "text/plain": [
              "<BarContainer object of 6 artists>"
            ]
          },
          "metadata": {},
          "execution_count": 112
        },
        {
          "output_type": "display_data",
          "data": {
            "image/png": "[encoded data removed]",
            "text/plain": [
              "<Figure size 432x288 with 1 Axes>"
            ]
          },
          "metadata": {
            "needs_background": "light"
          }
        }
      ]
    },
    {
      "cell_type": "code",
      "metadata": {
        "id": "7q8dnj8Rc6wQ"
      },
      "source": [
        "# 본부 따른 1인당 사용금액\n",
        "cardsum=data2['개인사용'].groupby(data2['본부']).sum()\n",
        "cardsum\n",
        "cardsum2=data2['개인사용'].groupby(data2['본부']).count()\n",
        "cardsum2\n",
        "a=cardsum/cardsum2\n"
      ],
      "execution_count": 113,
      "outputs": []
    },
    {
      "cell_type": "code",
      "metadata": {
        "colab": {
          "base_uri": "https://localhost:8080/",
          "height": 292
        },
        "id": "3ccE5LLidbX7",
        "outputId": "4afa2c3d-0b21-4bb7-aca3-bb137159d3d2"
      },
      "source": [
        "b = pd.DataFrame(a)\n",
        "df = b.rename_axis('c').reset_index()\n",
        "plt.bar(df['c'],df['개인사용'])"
      ],
      "execution_count": 114,
      "outputs": [
        {
          "output_type": "execute_result",
          "data": {
            "text/plain": [
              "<BarContainer object of 1 artists>"
            ]
          },
          "metadata": {},
          "execution_count": 114
        },
        {
          "output_type": "display_data",
          "data": {
            "image/png": "[encoded data removed]",
            "text/plain": [
              "<Figure size 432x288 with 1 Axes>"
            ]
          },
          "metadata": {
            "needs_background": "light"
          }
        }
      ]
    },
    {
      "cell_type": "code",
      "metadata": {
        "id": "mZA-Ny87hWNV"
      },
      "source": [
        "# 센터 따른 1인당 사용금액\n",
        "cardsum=data2['개인사용'].groupby(data2['센터']).sum()\n",
        "cardsum\n",
        "cardsum2=data2['개인사용'].groupby(data2['센터']).count()\n",
        "cardsum2\n",
        "a=cardsum/cardsum2\n"
      ],
      "execution_count": 115,
      "outputs": []
    },
    {
      "cell_type": "code",
      "metadata": {
        "colab": {
          "base_uri": "https://localhost:8080/",
          "height": 456
        },
        "id": "iHsgqGR-hcOV",
        "outputId": "78c3f04c-f253-4a5d-93de-7c4e712cbd04"
      },
      "source": [
        "plt.figure(figsize=(15, 7))\n",
        "b = pd.DataFrame(a)\n",
        "df = b.rename_axis('c').reset_index()\n",
        "plt.bar(df['c'],df['개인사용'])\n",
        "# 서울3사업부의 1인당 개인사용금액이 가장 많음"
      ],
      "execution_count": 116,
      "outputs": [
        {
          "output_type": "execute_result",
          "data": {
            "text/plain": [
              "<BarContainer object of 9 artists>"
            ]
          },
          "metadata": {},
          "execution_count": 116
        },
        {
          "output_type": "display_data",
          "data": {
            "image/png": "[encoded data removed]",
            "text/plain": [
              "<Figure size 1080x504 with 1 Axes>"
            ]
          },
          "metadata": {
            "needs_background": "light"
          }
        }
      ]
    },
    {
      "cell_type": "code",
      "metadata": {
        "id": "y3xrxH6AhdFZ"
      },
      "source": [
        "# 팀에 따른 1인당 사용금액\n",
        "cardsum=data2['개인사용'].groupby(data2['팀']).sum()\n",
        "cardsum\n",
        "cardsum2=data2['개인사용'].groupby(data2['팀']).count()\n",
        "cardsum2\n",
        "a=cardsum/cardsum2\n"
      ],
      "execution_count": 117,
      "outputs": []
    },
    {
      "cell_type": "code",
      "metadata": {
        "colab": {
          "base_uri": "https://localhost:8080/"
        },
        "id": "WNNPZg7_hWbq",
        "outputId": "2d947093-3e7a-44bc-ce1d-48bb7075a78e"
      },
      "source": [
        "# 상위 10개\n",
        "top10= a.sort_values( ascending=False).head(15)\n",
        "top10"
      ],
      "execution_count": 118,
      "outputs": [
        {
          "output_type": "execute_result",
          "data": {
            "text/plain": [
              "팀\n",
              "지방4사업부      6.526276e+07\n",
              "서울2사업부      6.090011e+07\n",
              "서울3사업부      4.693331e+07\n",
              "서울4사업부      4.466508e+07\n",
              "서울1사업부      2.271377e+07\n",
              "지방2사업부      1.772941e+07\n",
              "서부사무소       1.359774e+07\n",
              "병원경인사무소     1.352131e+07\n",
              "부산2사무소      1.284045e+07\n",
              "북부3사무소      1.233441e+07\n",
              "북부2사무소      1.233235e+07\n",
              "지방3사업부      1.233013e+07\n",
              "병원서울4사무소    1.153698e+07\n",
              "경인2사무소      1.127323e+07\n",
              "병원서울5사무소    1.112000e+07\n",
              "Name: 개인사용, dtype: float64"
            ]
          },
          "metadata": {},
          "execution_count": 118
        }
      ]
    },
    {
      "cell_type": "code",
      "metadata": {
        "colab": {
          "base_uri": "https://localhost:8080/",
          "height": 456
        },
        "id": "nEHSgycDsH7U",
        "outputId": "6712d676-f113-4398-8698-34dccd4de8b8"
      },
      "source": [
        "plt.figure(figsize=(15, 7))\n",
        "b = pd.DataFrame(top10)\n",
        "df = b.rename_axis('c').reset_index()\n",
        "plt.bar(df['c'],df['개인사용'])\n",
        "# 지방4사업부의 1인당 개인사용금액이 가장 많음\n",
        "# 사무소 중에서는 서부사무소의 1인당 개인사용 금액이 가장 높음"
      ],
      "execution_count": 119,
      "outputs": [
        {
          "output_type": "execute_result",
          "data": {
            "text/plain": [
              "<BarContainer object of 15 artists>"
            ]
          },
          "metadata": {},
          "execution_count": 119
        },
        {
          "output_type": "display_data",
          "data": {
            "image/png": "[encoded data removed]",
            "text/plain": [
              "<Figure size 1080x504 with 1 Axes>"
            ]
          },
          "metadata": {
            "needs_background": "light"
          }
        }
      ]
    },
    {
      "cell_type": "code",
      "metadata": {
        "id": "FnROAGUVsGJ3",
        "colab": {
          "base_uri": "https://localhost:8080/",
          "height": 293
        },
        "outputId": "0f3ce298-30f6-403f-b731-314e75993183"
      },
      "source": [
        "plt.bar(df['c'],df['개인사용'])"
      ],
      "execution_count": 46,
      "outputs": [
        {
          "output_type": "execute_result",
          "data": {
            "text/plain": [
              "<BarContainer object of 15 artists>"
            ]
          },
          "metadata": {},
          "execution_count": 46
        },
        {
          "output_type": "display_data",
          "data": {
            "image/png": "[encoded data removed]",
            "text/plain": [
              "<Figure size 432x288 with 1 Axes>"
            ]
          },
          "metadata": {
            "needs_background": "light"
          }
        }
      ]
    },
    {
      "cell_type": "code",
      "metadata": {
        "colab": {
          "base_uri": "https://localhost:8080/"
        },
        "id": "7ZnC3r8Dhm5k",
        "outputId": "26cf9902-fe1c-40e4-cf92-1a87ca3843c3"
      },
      "source": [
        "# 하위 10개\n",
        "low10=a.sort_values( ascending=True).head(15)\n",
        "low10"
      ],
      "execution_count": 120,
      "outputs": [
        {
          "output_type": "execute_result",
          "data": {
            "text/plain": [
              "팀\n",
              "지방1사업부      1.012600e+06\n",
              "서부2사무소      2.444930e+06\n",
              "병원강원사무소     5.001965e+06\n",
              "청주2사무소      5.093110e+06\n",
              "울산사무소       5.687289e+06\n",
              "경남2사무소      6.240409e+06\n",
              "경인4사무소      6.285229e+06\n",
              "제주사무소       6.339239e+06\n",
              "동부1사무소      6.545570e+06\n",
              "대구3사무소      6.588407e+06\n",
              "병원대구2사무소    6.647305e+06\n",
              "대전2사무소      6.649642e+06\n",
              "경인3사무소      6.725620e+06\n",
              "병원대구1사무소    6.750157e+06\n",
              "병원청주사무소     6.852050e+06\n",
              "Name: 개인사용, dtype: float64"
            ]
          },
          "metadata": {},
          "execution_count": 120
        }
      ]
    },
    {
      "cell_type": "code",
      "metadata": {
        "colab": {
          "base_uri": "https://localhost:8080/",
          "height": 456
        },
        "id": "q7kosRlNhWez",
        "outputId": "b49b794b-3cc3-48a9-ea0b-ed095586376e"
      },
      "source": [
        "plt.figure(figsize=(18, 7))\n",
        "b = pd.DataFrame(low10)\n",
        "df = b.rename_axis('c').reset_index()\n",
        "plt.bar(df['c'],df['개인사용'])\n",
        "# 지방1사업부, 서부2사무소의 1인당 개인사용 금액이 가장 낮음"
      ],
      "execution_count": 121,
      "outputs": [
        {
          "output_type": "execute_result",
          "data": {
            "text/plain": [
              "<BarContainer object of 15 artists>"
            ]
          },
          "metadata": {},
          "execution_count": 121
        },
        {
          "output_type": "display_data",
          "data": {
            "image/png": "[encoded data removed]",
            "text/plain": [
              "<Figure size 1296x504 with 1 Axes>"
            ]
          },
          "metadata": {
            "needs_background": "light"
          }
        }
      ]
    },
    {
      "cell_type": "markdown",
      "metadata": {
        "id": "NbNC563xWKJ6"
      },
      "source": [
        "### 월별구별있는 데이터 "
      ]
    },
    {
      "cell_type": "code",
      "metadata": {
        "colab": {
          "base_uri": "https://localhost:8080/",
          "height": 502
        },
        "id": "gkIRHMNQWNt9",
        "outputId": "98306362-c4e5-4ea6-8436-46de4ca64040"
      },
      "source": [
        "data1.head(2)"
      ],
      "execution_count": null,
      "outputs": [
        {
          "output_type": "execute_result",
          "data": {
            "text/html": [
              "<div>\n",
              "<style scoped>\n",
              "    .dataframe tbody tr th:only-of-type {\n",
              "        vertical-align: middle;\n",
              "    }\n",
              "\n",
              "    .dataframe tbody tr th {\n",
              "        vertical-align: top;\n",
              "    }\n",
              "\n",
              "    .dataframe thead th {\n",
              "        text-align: right;\n",
              "    }\n",
              "</style>\n",
              "<table border=\"1\" class=\"dataframe\">\n",
              "  <thead>\n",
              "    <tr style=\"text-align: right;\">\n",
              "      <th></th>\n",
              "      <th>카드번호</th>\n",
              "      <th>기간</th>\n",
              "      <th>년도</th>\n",
              "      <th>월</th>\n",
              "      <th>분기</th>\n",
              "      <th>승인금액</th>\n",
              "      <th>사번</th>\n",
              "      <th>본부</th>\n",
              "      <th>센터</th>\n",
              "      <th>팀</th>\n",
              "      <th>회원명</th>\n",
              "      <th>종류</th>\n",
              "      <th>mp총금액</th>\n",
              "      <th>ip총금액</th>\n",
              "      <th>detail총금액</th>\n",
              "      <th>cps총금액</th>\n",
              "      <th>개인사용</th>\n",
              "      <th>연체여부</th>\n",
              "      <th>직책</th>\n",
              "      <th>성별</th>\n",
              "      <th>주민등록번호</th>\n",
              "      <th>재직여부</th>\n",
              "      <th>key</th>\n",
              "      <th>개인사용비율</th>\n",
              "      <th>MP비율</th>\n",
              "      <th>IP비율</th>\n",
              "      <th>디테일비율</th>\n",
              "      <th>연체금액_부서경비</th>\n",
              "      <th>연체금액_세미나</th>\n",
              "      <th>연체금액_삼성합</th>\n",
              "      <th>연체금액_디테일</th>\n",
              "      <th>연체금액_조직활성화</th>\n",
              "      <th>연체금액_현대합</th>\n",
              "      <th>연체금액_전체</th>\n",
              "      <th>해당월/해당영업사원의 사용한카드수</th>\n",
              "    </tr>\n",
              "  </thead>\n",
              "  <tbody>\n",
              "    <tr>\n",
              "      <th>0</th>\n",
              "      <td>4025-9610-0000-0410</td>\n",
              "      <td>2019-10-01</td>\n",
              "      <td>2019</td>\n",
              "      <td>10</td>\n",
              "      <td>4Q</td>\n",
              "      <td>1538200</td>\n",
              "      <td>2070050</td>\n",
              "      <td>CH본부</td>\n",
              "      <td>CH 1사업부</td>\n",
              "      <td>호남사무소</td>\n",
              "      <td>김종각</td>\n",
              "      <td>현대</td>\n",
              "      <td>0</td>\n",
              "      <td>0</td>\n",
              "      <td>796500</td>\n",
              "      <td>796500</td>\n",
              "      <td>741700</td>\n",
              "      <td>0</td>\n",
              "      <td>NaN</td>\n",
              "      <td>남자</td>\n",
              "      <td>700308.0</td>\n",
              "      <td>1</td>\n",
              "      <td>호남사무소&amp;김종각</td>\n",
              "      <td>0.482186972</td>\n",
              "      <td>0</td>\n",
              "      <td>0</td>\n",
              "      <td>1</td>\n",
              "      <td>0</td>\n",
              "      <td>0</td>\n",
              "      <td>0</td>\n",
              "      <td>0</td>\n",
              "      <td>0</td>\n",
              "      <td>0</td>\n",
              "      <td>0</td>\n",
              "      <td>1</td>\n",
              "    </tr>\n",
              "    <tr>\n",
              "      <th>1</th>\n",
              "      <td>4025-9610-0000-0410</td>\n",
              "      <td>2019-11-01</td>\n",
              "      <td>2019</td>\n",
              "      <td>11</td>\n",
              "      <td>4Q</td>\n",
              "      <td>1500580</td>\n",
              "      <td>2070050</td>\n",
              "      <td>CH본부</td>\n",
              "      <td>CH 1사업부</td>\n",
              "      <td>호남사무소</td>\n",
              "      <td>김종각</td>\n",
              "      <td>현대</td>\n",
              "      <td>0</td>\n",
              "      <td>0</td>\n",
              "      <td>390190</td>\n",
              "      <td>390190</td>\n",
              "      <td>1110390</td>\n",
              "      <td>0</td>\n",
              "      <td>NaN</td>\n",
              "      <td>남자</td>\n",
              "      <td>700308.0</td>\n",
              "      <td>1</td>\n",
              "      <td>호남사무소&amp;김종각</td>\n",
              "      <td>0.739973877</td>\n",
              "      <td>0</td>\n",
              "      <td>0</td>\n",
              "      <td>1</td>\n",
              "      <td>0</td>\n",
              "      <td>0</td>\n",
              "      <td>0</td>\n",
              "      <td>0</td>\n",
              "      <td>0</td>\n",
              "      <td>0</td>\n",
              "      <td>0</td>\n",
              "      <td>1</td>\n",
              "    </tr>\n",
              "  </tbody>\n",
              "</table>\n",
              "</div>"
            ],
            "text/plain": [
              "                  카드번호          기간    년도  ...  연체금액_현대합 연체금액_전체  해당월/해당영업사원의 사용한카드수\n",
              "0  4025-9610-0000-0410  2019-10-01  2019  ...         0       0                   1\n",
              "1  4025-9610-0000-0410  2019-11-01  2019  ...         0       0                   1\n",
              "\n",
              "[2 rows x 35 columns]"
            ]
          },
          "metadata": {},
          "execution_count": 99
        }
      ]
    },
    {
      "cell_type": "code",
      "metadata": {
        "colab": {
          "base_uri": "https://localhost:8080/"
        },
        "id": "rfwvO4sMaFEy",
        "outputId": "52c425ff-b70a-4c86-f097-9c360d9f5fa8"
      },
      "source": [
        "# 년도별 개인사용금액\n",
        "\n",
        "cardsum=data1['승인금액'].groupby(data1['년도']).sum()\n",
        "cardsum\n",
        "cardsum2=data1['개인사용'].groupby(data1['년도']).sum()\n",
        "cardsum2\n",
        "card_year=cardsum2/cardsum  \n",
        "card_year\n",
        "# 19년도의 개인사용비율이 낮음, 21년도에는 높아짐 그러나 해당 비교는 불가능하다고 본다.\n",
        "# 왜냐면 21년도는 1-3월, 20년도는 1-12월, 19년도는 10-12월로 월별 차이가 반영될 수 있다."
      ],
      "execution_count": 122,
      "outputs": [
        {
          "output_type": "execute_result",
          "data": {
            "text/plain": [
              "년도\n",
              "2019    0.404137\n",
              "2020    0.373553\n",
              "2021    0.508812\n",
              "dtype: float64"
            ]
          },
          "metadata": {},
          "execution_count": 122
        }
      ]
    },
    {
      "cell_type": "code",
      "metadata": {
        "colab": {
          "base_uri": "https://localhost:8080/",
          "height": 282
        },
        "id": "4QTqCQ5BaWQG",
        "outputId": "5ba6f2aa-35c0-4353-fe58-94f7417864e8"
      },
      "source": [
        "plt.plot(card_year)"
      ],
      "execution_count": 123,
      "outputs": [
        {
          "output_type": "execute_result",
          "data": {
            "text/plain": [
              "[<matplotlib.lines.Line2D at 0x7f46ee441d90>]"
            ]
          },
          "metadata": {},
          "execution_count": 123
        },
        {
          "output_type": "display_data",
          "data": {
            "image/png": "[encoded data removed]",
            "text/plain": [
              "<Figure size 432x288 with 1 Axes>"
            ]
          },
          "metadata": {
            "needs_background": "light"
          }
        }
      ]
    },
    {
      "cell_type": "code",
      "metadata": {
        "colab": {
          "base_uri": "https://localhost:8080/"
        },
        "id": "SACIr0n4au9G",
        "outputId": "7ef2f3d6-f237-4b16-9262-0ea45b8c27c7"
      },
      "source": [
        "# 분기별 개인사용금액\n",
        "cardsum=data1['승인금액'].groupby(data1['분기']).sum()\n",
        "cardsum\n",
        "cardsum2=data1['개인사용'].groupby(data1['분기']).sum()\n",
        "cardsum2\n",
        "card_q=cardsum2/cardsum  \n",
        "card_q\n",
        "# 1분기 -> 4분기로 갈수록 개인사용의 비율이 줄어듬 / 4분기의 개인사용비율이 가장 적음"
      ],
      "execution_count": 125,
      "outputs": [
        {
          "output_type": "execute_result",
          "data": {
            "text/plain": [
              "분기\n",
              "1Q    0.532347\n",
              "2Q    0.486215\n",
              "3Q    0.239252\n",
              "4Q    0.189051\n",
              "dtype: float64"
            ]
          },
          "metadata": {},
          "execution_count": 125
        }
      ]
    },
    {
      "cell_type": "code",
      "metadata": {
        "colab": {
          "base_uri": "https://localhost:8080/",
          "height": 282
        },
        "id": "AakwMnAmWMtI",
        "outputId": "fd6847e5-6e76-4b9e-8428-20b388335501"
      },
      "source": [
        "plt.plot(card_q)"
      ],
      "execution_count": 126,
      "outputs": [
        {
          "output_type": "execute_result",
          "data": {
            "text/plain": [
              "[<matplotlib.lines.Line2D at 0x7f46e2aae250>]"
            ]
          },
          "metadata": {},
          "execution_count": 126
        },
        {
          "output_type": "display_data",
          "data": {
            "image/png": "[encoded data removed]",
            "text/plain": [
              "<Figure size 432x288 with 1 Axes>"
            ]
          },
          "metadata": {
            "needs_background": "light"
          }
        }
      ]
    },
    {
      "cell_type": "code",
      "metadata": {
        "colab": {
          "base_uri": "https://localhost:8080/"
        },
        "id": "MQSVMYdTWJhG",
        "outputId": "8a4bd27b-3374-4a21-9537-dc1f26c08029"
      },
      "source": [
        "# 월별 개인사용금액\n",
        "cardsum=data1['승인금액'].groupby(data1['월']).sum()\n",
        "cardsum\n",
        "cardsum2=data1['개인사용'].groupby(data1['월']).sum()\n",
        "cardsum2\n",
        "card_m=cardsum2/cardsum  \n",
        "card_m\n",
        "# 1분기 -> 4분기로 갈수록 개인사용의 비율이 줄어듬 / 3분기의 개인사용비율이 가장 적음"
      ],
      "execution_count": 127,
      "outputs": [
        {
          "output_type": "execute_result",
          "data": {
            "text/plain": [
              "월\n",
              "1     0.435665\n",
              "2     0.460491\n",
              "3     0.644509\n",
              "4     0.558997\n",
              "5     0.559782\n",
              "6     0.274538\n",
              "7     0.258764\n",
              "8     0.223379\n",
              "9     0.232240\n",
              "10    0.207474\n",
              "11    0.193510\n",
              "12    0.164353\n",
              "dtype: float64"
            ]
          },
          "metadata": {},
          "execution_count": 127
        }
      ]
    },
    {
      "cell_type": "code",
      "metadata": {
        "colab": {
          "base_uri": "https://localhost:8080/",
          "height": 445
        },
        "id": "7OzheAfubW9P",
        "outputId": "58d0a8a8-b4d8-4b47-c399-a3d3a544eec8"
      },
      "source": [
        "plt.figure(figsize=(15, 7))\n",
        "plt.plot(card_m) \n",
        "# 3월에 가장 많은 개인사용비율이 발견됨, 12월에 가장 적은 개인사용비율\n",
        "# 9월에 약간 개인사용비율이 늘어나게됨"
      ],
      "execution_count": 128,
      "outputs": [
        {
          "output_type": "execute_result",
          "data": {
            "text/plain": [
              "[<matplotlib.lines.Line2D at 0x7f46e1eb4310>]"
            ]
          },
          "metadata": {},
          "execution_count": 128
        },
        {
          "output_type": "display_data",
          "data": {
            "image/png": "[encoded data removed]",
            "text/plain": [
              "<Figure size 1080x504 with 1 Axes>"
            ]
          },
          "metadata": {
            "needs_background": "light"
          }
        }
      ]
    },
    {
      "cell_type": "code",
      "metadata": {
        "colab": {
          "base_uri": "https://localhost:8080/"
        },
        "id": "zuKD9rZFWJkX",
        "outputId": "245ea699-0baa-4ba3-c6c3-e1b92b0706e5"
      },
      "source": [
        "# 19~21년까지의 흐름 확인\n",
        "# 월별 개인사용금액\n",
        "cardsum=data1['승인금액'].groupby(data1['기간']).sum()\n",
        "cardsum\n",
        "cardsum2=data1['개인사용'].groupby(data1['기간']).sum()\n",
        "cardsum2\n",
        "card_flow=cardsum2/cardsum  \n",
        "card_flow\n",
        "# 1분기 -> 4분기로 갈수록 개인사용의 비율이 줄어듬 / 3분기의 개인사용비율이 가장 적음"
      ],
      "execution_count": 129,
      "outputs": [
        {
          "output_type": "execute_result",
          "data": {
            "text/plain": [
              "기간\n",
              "2019-12-01    0.404137\n",
              "2020-01-01    0.533222\n",
              "2020-02-01    0.571485\n",
              "2020-03-01    0.591582\n",
              "2020-04-01    0.558997\n",
              "2020-05-01    0.559782\n",
              "2020-06-01    0.274538\n",
              "2020-07-01    0.258764\n",
              "2020-08-01    0.223379\n",
              "2020-09-01    0.232240\n",
              "2020-10-01    0.207474\n",
              "2020-11-01    0.193510\n",
              "2020-12-01    0.163103\n",
              "2021-01-01    0.299553\n",
              "2021-02-01    0.350197\n",
              "2021-03-01    0.667418\n",
              "dtype: float64"
            ]
          },
          "metadata": {},
          "execution_count": 129
        }
      ]
    },
    {
      "cell_type": "code",
      "metadata": {
        "colab": {
          "base_uri": "https://localhost:8080/",
          "height": 352
        },
        "id": "CMuI_utrckgq",
        "outputId": "785b72d7-03a2-4263-aec9-3388715123d6"
      },
      "source": [
        "plt.figure(figsize=(30, 7))\n",
        "plt.plot(card_flow)\n",
        "# 19.10월~21.3월까지의 흐름을 보여줌"
      ],
      "execution_count": 130,
      "outputs": [
        {
          "output_type": "execute_result",
          "data": {
            "text/plain": [
              "[<matplotlib.lines.Line2D at 0x7f46e1e8a850>]"
            ]
          },
          "metadata": {},
          "execution_count": 130
        },
        {
          "output_type": "display_data",
          "data": {
            "image/png": "[encoded data removed]",
            "text/plain": [
              "<Figure size 2160x504 with 1 Axes>"
            ]
          },
          "metadata": {
            "needs_background": "light"
          }
        }
      ]
    },
    {
      "cell_type": "code",
      "metadata": {
        "id": "qDuyIeeRtqX7"
      },
      "source": [
        "# 19~21년까지의 흐름 확인\n",
        "# 월별 개인사용금액\n",
        "cardagree=data1['승인금액'].groupby(data1['기간']).sum()\n",
        "cardcps=data1['cps총금액'].groupby(data1['기간']).sum()\n",
        "cardindividual=data1['개인사용'].groupby(data1['기간']).sum()\n",
        "mp=data1['mp총금액'].groupby(data1['기간']).sum()\n",
        "ip=data1['ip총금액'].groupby(data1['기간']).sum()\n",
        "detail=data1['detail총금액'].groupby(data1['기간']).sum()\n"
      ],
      "execution_count": 131,
      "outputs": []
    },
    {
      "cell_type": "code",
      "metadata": {
        "colab": {
          "base_uri": "https://localhost:8080/",
          "height": 455
        },
        "id": "dGnC3cHNetSO",
        "outputId": "3ef82de4-7372-4271-9dca-9115f8fe3fe1"
      },
      "source": [
        "plt.figure(figsize=(20, 7))\n",
        "plt.plot(cardagree,'o--')\n",
        "plt.plot(cardcps,'o--')\n",
        "plt.plot(cardindividual,'o--')\n",
        "plt.plot(mp)\n",
        "plt.plot(ip)\n",
        "plt.plot(detail)\n",
        "plt.legend(['agreed_value','cps','Individual','mp','ip','detail'])\n",
        "# 총승인금액이 늘어나면서 개인사용금액도 덩달아 늘어남, \n",
        "# cps금액의 증가폭보다 개인사용금액의 증가폭이 크게 나타남"
      ],
      "execution_count": 132,
      "outputs": [
        {
          "output_type": "execute_result",
          "data": {
            "text/plain": [
              "<matplotlib.legend.Legend at 0x7f46e1dee6d0>"
            ]
          },
          "metadata": {},
          "execution_count": 132
        },
        {
          "output_type": "display_data",
          "data": {
            "image/png": "[encoded data removed]",
            "text/plain": [
              "<Figure size 1440x504 with 1 Axes>"
            ]
          },
          "metadata": {
            "needs_background": "light"
          }
        }
      ]
    },
    {
      "cell_type": "code",
      "metadata": {
        "id": "nXFTObqffFFv"
      },
      "source": [
        ""
      ],
      "execution_count": null,
      "outputs": []
    },
    {
      "cell_type": "markdown",
      "metadata": {
        "id": "xaFBz7RclBT9"
      },
      "source": [
        "### 세부 사용내역 확인"
      ]
    },
    {
      "cell_type": "code",
      "metadata": {
        "id": "8zoGNW0TlEaF"
      },
      "source": [
        "# 원본 파일명 : (21.03월)현대카드, (21.03월)삼성카드, 19.10_21.03월사용내역_210928_소장\n",
        "# (21.03월)현대카드, (21.03월)삼성카드의 내용을 합침(컬럼이 안맞는게 있어서 약간의 수정작업 필요)\n",
        "# 위에서 만든 데이터에서 19.10_21.03월사용내역_210928_소장은 제외\n",
        "# card_detail파일 : 21년 3월 법인카드사용 내역\n",
        "# 해당 법인카드 사용내역이 개인사용만 포함되는지 개인사용+cps가 포함되어있는지 확인필요 \n",
        "#-------------------------------------------------------------------------------------------------------\n",
        "#확인결과 잘못된 데이터 사용.\n",
        "#전체법인카드사용.csv파일사용.19년 10월~21년 3월까지데이터"
      ],
      "execution_count": null,
      "outputs": []
    },
    {
      "cell_type": "code",
      "metadata": {
        "id": "Y5wuwV5zmwSN",
        "colab": {
          "base_uri": "https://localhost:8080/"
        },
        "outputId": "3c9cf7c9-7fc0-4e86-8e9b-803b836d2544"
      },
      "source": [
        "# card_detail = pd.read_csv('gdrive/MyDrive/DW_DATA/CARD_DETAIL.csv', encoding = 'cp949')  # cp949\n",
        "card_detail = pd.read_csv('gdrive/MyDrive/DW_DATA/all.csv', encoding = 'UTF-8')  # cp949"
      ],
      "execution_count": 133,
      "outputs": [
        {
          "output_type": "stream",
          "name": "stderr",
          "text": [
            "/usr/local/lib/python3.7/dist-packages/IPython/core/interactiveshell.py:2718: DtypeWarning: Columns (7,18) have mixed types.Specify dtype option on import or set low_memory=False.\n",
            "  interactivity=interactivity, compiler=compiler, result=result)\n"
          ]
        }
      ]
    },
    {
      "cell_type": "code",
      "metadata": {
        "id": "fXRPk9DB-LK_"
      },
      "source": [
        "# 소장승인된 행들을 제외하고 파악해보기 / 19.10_21.03월사용내역_210928_소장.csv파일(19년 10월~21년 3월까지데이터)\n",
        "card_detail = card_detail[(card_detail['소장승인여부']==\"N\")] # 소장승인이 안된 것들에 대해서만 "
      ],
      "execution_count": 135,
      "outputs": []
    },
    {
      "cell_type": "code",
      "metadata": {
        "colab": {
          "base_uri": "https://localhost:8080/",
          "height": 523
        },
        "id": "KeRifY83Hstt",
        "outputId": "07d7c86b-6f6a-481f-e89a-470171f7397f"
      },
      "source": [
        "card_detail.head(3)"
      ],
      "execution_count": 136,
      "outputs": [
        {
          "output_type": "execute_result",
          "data": {
            "text/html": [
              "<div>\n",
              "<style scoped>\n",
              "    .dataframe tbody tr th:only-of-type {\n",
              "        vertical-align: middle;\n",
              "    }\n",
              "\n",
              "    .dataframe tbody tr th {\n",
              "        vertical-align: top;\n",
              "    }\n",
              "\n",
              "    .dataframe thead th {\n",
              "        text-align: right;\n",
              "    }\n",
              "</style>\n",
              "<table border=\"1\" class=\"dataframe\">\n",
              "  <thead>\n",
              "    <tr style=\"text-align: right;\">\n",
              "      <th></th>\n",
              "      <th>카드번호</th>\n",
              "      <th>회원명</th>\n",
              "      <th>사번</th>\n",
              "      <th>본부</th>\n",
              "      <th>센터</th>\n",
              "      <th>팀</th>\n",
              "      <th>승인일자</th>\n",
              "      <th>승인시각</th>\n",
              "      <th>승인요일상세</th>\n",
              "      <th>승인요일</th>\n",
              "      <th>승인시간대</th>\n",
              "      <th>승인번호</th>\n",
              "      <th>가맹점번호</th>\n",
              "      <th>가맹점사업자번호</th>\n",
              "      <th>가맹점명</th>\n",
              "      <th>가맹점주소</th>\n",
              "      <th>가맹점우편번호</th>\n",
              "      <th>업종명</th>\n",
              "      <th>업종코드</th>\n",
              "      <th>승인취소여부</th>\n",
              "      <th>승인금액</th>\n",
              "      <th>주취급품목명</th>\n",
              "      <th>소장승인여부</th>\n",
              "      <th>년월</th>\n",
              "      <th>연체여부</th>\n",
              "    </tr>\n",
              "  </thead>\n",
              "  <tbody>\n",
              "    <tr>\n",
              "      <th>0</th>\n",
              "      <td>5531-4700-0034-9961</td>\n",
              "      <td>이세민</td>\n",
              "      <td>2030216</td>\n",
              "      <td>CH본부</td>\n",
              "      <td>NaN</td>\n",
              "      <td>CH일반유통팀</td>\n",
              "      <td>2019-10-01</td>\n",
              "      <td>22:08:01</td>\n",
              "      <td>2</td>\n",
              "      <td>평일</td>\n",
              "      <td>22</td>\n",
              "      <td>1326358.0</td>\n",
              "      <td>117921338.0</td>\n",
              "      <td>1.200940e+09</td>\n",
              "      <td>두꺼비</td>\n",
              "      <td>서울 강남구  역삼로 421,(대치4동)</td>\n",
              "      <td>6197.0</td>\n",
              "      <td>한식</td>\n",
              "      <td>2501</td>\n",
              "      <td>N</td>\n",
              "      <td>354000</td>\n",
              "      <td>한식</td>\n",
              "      <td>N</td>\n",
              "      <td>20.1</td>\n",
              "      <td>N</td>\n",
              "    </tr>\n",
              "    <tr>\n",
              "      <th>1</th>\n",
              "      <td>5531-4700-0034-9961</td>\n",
              "      <td>이세민</td>\n",
              "      <td>2030216</td>\n",
              "      <td>CH본부</td>\n",
              "      <td>NaN</td>\n",
              "      <td>CH일반유통팀</td>\n",
              "      <td>2019-10-01</td>\n",
              "      <td>22:32:40</td>\n",
              "      <td>2</td>\n",
              "      <td>평일</td>\n",
              "      <td>22</td>\n",
              "      <td>49769252.0</td>\n",
              "      <td>173137511.0</td>\n",
              "      <td>5.321301e+09</td>\n",
              "      <td>바나나</td>\n",
              "      <td>서울 서초구  언남17길 18, 지층 (양재동)</td>\n",
              "      <td>6775.0</td>\n",
              "      <td>주점</td>\n",
              "      <td>2402</td>\n",
              "      <td>N</td>\n",
              "      <td>1110000</td>\n",
              "      <td>서양식주점</td>\n",
              "      <td>N</td>\n",
              "      <td>20.1</td>\n",
              "      <td>N</td>\n",
              "    </tr>\n",
              "    <tr>\n",
              "      <th>2</th>\n",
              "      <td>5531-4700-0034-9961</td>\n",
              "      <td>이세민</td>\n",
              "      <td>2030216</td>\n",
              "      <td>CH본부</td>\n",
              "      <td>NaN</td>\n",
              "      <td>CH일반유통팀</td>\n",
              "      <td>2019-10-26</td>\n",
              "      <td>19:23:54</td>\n",
              "      <td>6</td>\n",
              "      <td>주말</td>\n",
              "      <td>19</td>\n",
              "      <td>4155874.0</td>\n",
              "      <td>124818411.0</td>\n",
              "      <td>2.110839e+09</td>\n",
              "      <td>영천영화식육식당</td>\n",
              "      <td>서울 강남구  도산대로90길 3, 1층  2층(청담동)</td>\n",
              "      <td>6070.0</td>\n",
              "      <td>한식</td>\n",
              "      <td>2501</td>\n",
              "      <td>N</td>\n",
              "      <td>740000</td>\n",
              "      <td>한식점업</td>\n",
              "      <td>N</td>\n",
              "      <td>20.1</td>\n",
              "      <td>N</td>\n",
              "    </tr>\n",
              "  </tbody>\n",
              "</table>\n",
              "</div>"
            ],
            "text/plain": [
              "                  카드번호  회원명       사번    본부  ... 주취급품목명 소장승인여부    년월 연체여부\n",
              "0  5531-4700-0034-9961  이세민  2030216  CH본부  ...     한식      N  20.1    N\n",
              "1  5531-4700-0034-9961  이세민  2030216  CH본부  ...  서양식주점      N  20.1    N\n",
              "2  5531-4700-0034-9961  이세민  2030216  CH본부  ...   한식점업      N  20.1    N\n",
              "\n",
              "[3 rows x 25 columns]"
            ]
          },
          "metadata": {},
          "execution_count": 136
        }
      ]
    },
    {
      "cell_type": "code",
      "metadata": {
        "colab": {
          "base_uri": "https://localhost:8080/"
        },
        "id": "E0Nqs3MyIB67",
        "outputId": "d9a5eaa0-a8e7-4ecb-93a0-c48bece8ab8c"
      },
      "source": [
        "card_detail.info() # 18개 컬럼, 420773 (소장포함시)479562  행"
      ],
      "execution_count": null,
      "outputs": [
        {
          "output_type": "stream",
          "name": "stdout",
          "text": [
            "<class 'pandas.core.frame.DataFrame'>\n",
            "RangeIndex: 479562 entries, 0 to 479561\n",
            "Data columns (total 24 columns):\n",
            " #   Column    Non-Null Count   Dtype  \n",
            "---  ------    --------------   -----  \n",
            " 0   카드번호      479562 non-null  object \n",
            " 1   회원명       479562 non-null  object \n",
            " 2   사번        479562 non-null  int64  \n",
            " 3   본부        479562 non-null  object \n",
            " 4   센터        472085 non-null  object \n",
            " 5   팀         479562 non-null  object \n",
            " 6   승인일자      479562 non-null  object \n",
            " 7   승인시각      479562 non-null  object \n",
            " 8   승인요일      479562 non-null  object \n",
            " 9   승인시간대     479562 non-null  int64  \n",
            " 10  승인번호      479561 non-null  float64\n",
            " 11  가맹점번호     479562 non-null  float64\n",
            " 12  가맹점사업자번호  22273 non-null   float64\n",
            " 13  가맹점명      479562 non-null  object \n",
            " 14  가맹점주소     479493 non-null  object \n",
            " 15  가맹점우편번호   397431 non-null  float64\n",
            " 16  업종명       479561 non-null  object \n",
            " 17  업종코드      479561 non-null  object \n",
            " 18  승인취소여부    479562 non-null  object \n",
            " 19  승인금액      479562 non-null  int64  \n",
            " 20  주취급품목명    462374 non-null  object \n",
            " 21  소장승인여부    479562 non-null  object \n",
            " 22  년월        479562 non-null  float64\n",
            " 23  연체여부      479562 non-null  object \n",
            "dtypes: float64(5), int64(3), object(16)\n",
            "memory usage: 87.8+ MB\n"
          ]
        }
      ]
    },
    {
      "cell_type": "code",
      "metadata": {
        "colab": {
          "base_uri": "https://localhost:8080/"
        },
        "id": "0ysCR5qCHuTS",
        "outputId": "1652c936-a375-45ab-bb28-34e7da5c4cf6"
      },
      "source": [
        "# 개인사용 업종별 건수 파악\n",
        "cardsum=card_detail['승인금액'].groupby(card_detail['업종명']).count()\n",
        "cardsum.sort_values( ascending=False)\n",
        "# 커피숍 > 일반한식 > 제과점 > 슈퍼마켓 > 일식  ... (총 103개의 업종명)\n",
        "# 혹시 여기에 사용하면 안되는 업종이 끼어있는지 파악해보면 좋을 것 같음"
      ],
      "execution_count": null,
      "outputs": [
        {
          "output_type": "execute_result",
          "data": {
            "text/plain": [
              "업종명\n",
              "커피숍         153361\n",
              "일반한식         99232\n",
              "제과점          40937\n",
              "슈퍼마켓         25276\n",
              "편의점          17216\n",
              "             ...  \n",
              "인테리어  소품         1\n",
              "남/여성복            1\n",
              "손해보험             1\n",
              "소비조합             1\n",
              "화장품점             1\n",
              "Name: 승인금액, Length: 68, dtype: int64"
            ]
          },
          "metadata": {},
          "execution_count": 151
        }
      ]
    },
    {
      "cell_type": "code",
      "metadata": {
        "colab": {
          "base_uri": "https://localhost:8080/"
        },
        "id": "q--XyhHSRdjx",
        "outputId": "8388212b-6f86-44db-9def-9b22a35f4ab9"
      },
      "source": [
        "# 개인사용 업종별 승인금액 파악\n",
        "cardsum=card_detail['승인금액'].groupby(card_detail['업종명']).sum()\n",
        "cardsum.sort_values( ascending=False)\n",
        "# 금액으로 따지면 일반한식 > 한식 > 커피숍 > 일식 > 슈퍼마켓"
      ],
      "execution_count": null,
      "outputs": [
        {
          "output_type": "execute_result",
          "data": {
            "text/plain": [
              "업종명\n",
              "일반한식     8544007159\n",
              "한식       5042551548\n",
              "커피숍      3120021629\n",
              "일식       2531486258\n",
              "슈퍼마켓     1519041816\n",
              "            ...    \n",
              "일반의류점         53000\n",
              "테마파크          43600\n",
              "화장품점          14000\n",
              "광고/인쇄            20\n",
              "면세점               0\n",
              "Name: 승인금액, Length: 68, dtype: int64"
            ]
          },
          "metadata": {},
          "execution_count": 63
        }
      ]
    },
    {
      "cell_type": "code",
      "metadata": {
        "colab": {
          "base_uri": "https://localhost:8080/"
        },
        "id": "gqInz0nfSWob",
        "outputId": "e19d0abf-2500-4e03-e150-4c56bb7fd4e2"
      },
      "source": [
        "# 업종별 한번에 사용하는 금액을 파악\n",
        "cardsum=card_detail['승인금액'].groupby(card_detail['업종명']).count()\n",
        "cardsum\n",
        "cardsum2=card_detail['승인금액'].groupby(card_detail['업종명']).sum()\n",
        "cardsum2\n",
        "ratio=cardsum2/cardsum \n",
        "ratio.sort_values( ascending=False)\n",
        "# 일반용역서비스(120만) > 가례(100만) > 여관(88만원) > 인테리어소품(66만) >  패밀리레스토랑(60만)\n",
        "# 한번쓸때 사용되는 금액이 생각보다 크다는것을 알 수 있음 / 짜짤하게 조금 쓰는용도로 개인법인카드를 사용하지 않는것으로 보임\n",
        "# 한번에 사용되는 금액을 한정짓는 것도 괜찮아보임 "
      ],
      "execution_count": null,
      "outputs": [
        {
          "output_type": "execute_result",
          "data": {
            "text/plain": [
              "업종명\n",
              "일반용역서비스     1.200000e+06\n",
              "가례          1.000000e+06\n",
              "여관          8.855000e+05\n",
              "인테리어  소품    6.650000e+05\n",
              "패밀리레스토랑     6.084444e+05\n",
              "                ...     \n",
              "편의점         1.914766e+04\n",
              "종합병원        1.526414e+04\n",
              "화장품점        1.400000e+04\n",
              "광고/인쇄       1.000000e+01\n",
              "면세점         0.000000e+00\n",
              "Name: 승인금액, Length: 68, dtype: float64"
            ]
          },
          "metadata": {},
          "execution_count": 64
        }
      ]
    },
    {
      "cell_type": "code",
      "metadata": {
        "colab": {
          "base_uri": "https://localhost:8080/"
        },
        "id": "wlMGFEidIdO-",
        "outputId": "8207ff85-fdcd-40fc-ba21-6737d156b6bc"
      },
      "source": [
        "# 사용시간대별 파악\n",
        "cardsum=card_detail['승인번호'].groupby(card_detail['승인시간대']).count()\n",
        "cardsum\n",
        "cardsum.sort_values( ascending=False)\n",
        "# 12~3시 점심시간대에 좀 많이 분포, 저녁8시인걸로 보아 저녁시간대\n",
        "# 시간컬럼 확인결과 22275행 이후부터 일반숫자(1235942이런식)로 입력되어 시간대로 변경이 불가함 / 확인요청해야할듯"
      ],
      "execution_count": null,
      "outputs": [
        {
          "output_type": "execute_result",
          "data": {
            "text/plain": [
              "승인시간대\n",
              "0     405041\n",
              "20      7034\n",
              "19      3166\n",
              "21      2691\n",
              "13       753\n",
              "18       688\n",
              "14       502\n",
              "12       221\n",
              "17       173\n",
              "15       125\n",
              "22       118\n",
              "11        59\n",
              "16        58\n",
              "23        48\n",
              "1         25\n",
              "8         15\n",
              "10        14\n",
              "7         12\n",
              "2         12\n",
              "9          5\n",
              "3          5\n",
              "5          4\n",
              "6          2\n",
              "4          1\n",
              "Name: 승인번호, dtype: int64"
            ]
          },
          "metadata": {},
          "execution_count": 108
        }
      ]
    },
    {
      "cell_type": "code",
      "metadata": {
        "colab": {
          "base_uri": "https://localhost:8080/"
        },
        "id": "HLcA5nM1Z0kL",
        "outputId": "87c28a23-8456-4d97-9e13-1afbc1b690a2"
      },
      "source": [
        "cardsum=card_detail['승인번호'].groupby(card_detail['승인요일']).count()\n",
        "cardsum\n",
        "cardsum.sort_values( ascending=False) \n",
        "#주말사용이 9891(약 2%)"
      ],
      "execution_count": null,
      "outputs": [
        {
          "output_type": "execute_result",
          "data": {
            "text/plain": [
              "승인요일\n",
              "평일    410881\n",
              "주말      9891\n",
              "Name: 승인번호, dtype: int64"
            ]
          },
          "metadata": {},
          "execution_count": 110
        }
      ]
    },
    {
      "cell_type": "code",
      "metadata": {
        "colab": {
          "base_uri": "https://localhost:8080/"
        },
        "id": "FicidiiZaHuk",
        "outputId": "5aa0c242-9b3a-4160-9159-1fecd963a626"
      },
      "source": [
        "cardsum=card_detail['승인번호'].groupby(card_detail['승인요일상세']).count()\n",
        "cardsum\n",
        "cardsum.sort_values( ascending=False) \n",
        "#주말사용이 9891(약 2%)\n",
        "# 1:월 ~ 7:일\n",
        "# 화>수>목에 많이 사용함"
      ],
      "execution_count": null,
      "outputs": [
        {
          "output_type": "execute_result",
          "data": {
            "text/plain": [
              "승인요일상세\n",
              "2    96597\n",
              "3    91481\n",
              "4    87849\n",
              "5    73297\n",
              "1    61657\n",
              "6     7653\n",
              "7     2238\n",
              "Name: 승인번호, dtype: int64"
            ]
          },
          "metadata": {},
          "execution_count": 112
        }
      ]
    },
    {
      "cell_type": "code",
      "metadata": {
        "colab": {
          "base_uri": "https://localhost:8080/"
        },
        "id": "huFP2DgOaQWp",
        "outputId": "e8b1e1f4-3d5c-4d84-f9bd-30df7444d400"
      },
      "source": [
        "#평일의 사용의 세부내역 확인\n",
        "card_weekday= card_detail[(card_detail['승인요일']==\"평일\")]\n",
        "cardsum=card_weekday['승인금액'].groupby(card_weekday['업종명']).count()\n",
        "cardsum.sort_values( ascending=False)\n",
        "# 커피 > 일반한식 > 제과 > 슈퍼마켓 > 편의점\n",
        "# 차이가 없음"
      ],
      "execution_count": null,
      "outputs": [
        {
          "output_type": "execute_result",
          "data": {
            "text/plain": [
              "업종명\n",
              "커피숍         149752\n",
              "일반한식         97130\n",
              "제과점          40046\n",
              "슈퍼마켓         24655\n",
              "편의점          16648\n",
              "             ...  \n",
              "인테리어  소품         1\n",
              "남/여성복            1\n",
              "손해보험             1\n",
              "소비조합             1\n",
              "화장품점             1\n",
              "Name: 승인금액, Length: 68, dtype: int64"
            ]
          },
          "metadata": {},
          "execution_count": 114
        }
      ]
    },
    {
      "cell_type": "code",
      "metadata": {
        "colab": {
          "base_uri": "https://localhost:8080/"
        },
        "id": "M1SBvVwlauDT",
        "outputId": "b2ad43ee-91fa-4007-d863-f37638a4f1dd"
      },
      "source": [
        "#주말의 사용의 세부내역 확인\n",
        "card_weekday= card_detail[(card_detail['승인요일']==\"주말\")]\n",
        "cardsum=card_weekday['승인금액'].groupby(card_weekday['업종명']).count()\n",
        "cardsum.sort_values( ascending=False)\n",
        "# 커피 > 일반한식 > 제과 > 슈퍼마켓 > 편의점\n",
        "# 주말과 평일의 큰 차이는 없어보임"
      ],
      "execution_count": null,
      "outputs": [
        {
          "output_type": "execute_result",
          "data": {
            "text/plain": [
              "업종명\n",
              "커피숍         3609\n",
              "일반한식        2102\n",
              "제과점          891\n",
              "슈퍼마켓         621\n",
              "편의점          568\n",
              "대형할인매장       368\n",
              "패스트푸드        358\n",
              "서양식          277\n",
              "중국식          247\n",
              "일식           227\n",
              "일반주점         211\n",
              "한식           134\n",
              "연쇄점           75\n",
              "특1급호텔         49\n",
              "기타식품          48\n",
              "양식            11\n",
              "호텔            11\n",
              "종합병원          11\n",
              "주점            11\n",
              "간이음식점         10\n",
              "음반판매장         10\n",
              "뷔페             9\n",
              "중식             6\n",
              "패스트푸드점         5\n",
              "축산물            3\n",
              "연금매장           3\n",
              "콘도,유스호스텔       2\n",
              "종합식품           2\n",
              "백화점            2\n",
              "패밀리레스토랑        2\n",
              "농축수산물          2\n",
              "1급관광호텔         2\n",
              "수산물            1\n",
              "기타숙박업          1\n",
              "2급관광호텔         1\n",
              "Name: 승인금액, dtype: int64"
            ]
          },
          "metadata": {},
          "execution_count": 115
        }
      ]
    },
    {
      "cell_type": "code",
      "metadata": {
        "id": "y7Yty-9pak25"
      },
      "source": [
        ""
      ],
      "execution_count": null,
      "outputs": []
    },
    {
      "cell_type": "code",
      "metadata": {
        "colab": {
          "base_uri": "https://localhost:8080/"
        },
        "id": "nDET0aHcPVak",
        "outputId": "dd6ef07c-a862-4a18-fee5-5e32774b4b88"
      },
      "source": [
        "# 업태 파악\n",
        "cardsum=card_detail['승인번호'].groupby(card_detail['주취급품목명']).count()\n",
        "cardsum\n",
        "len(cardsum)  \n",
        "# 업태는 총 340개로 좀더 세분화되어있음 / 그냥 업종 컬럼을 사용하는게 나아보임"
      ],
      "execution_count": null,
      "outputs": [
        {
          "output_type": "execute_result",
          "data": {
            "text/plain": [
              "340"
            ]
          },
          "metadata": {},
          "execution_count": 67
        }
      ]
    },
    {
      "cell_type": "code",
      "metadata": {
        "colab": {
          "base_uri": "https://localhost:8080/"
        },
        "id": "gVXMuYmwWRY1",
        "outputId": "892671c1-391c-445b-cb96-c88aa7e4b0d2"
      },
      "source": [
        "cardsum  # 업태로는 파악하는건 안좋아보임\n"
      ],
      "execution_count": null,
      "outputs": [
        {
          "output_type": "execute_result",
          "data": {
            "text/plain": [
              "주취급품목명\n",
              ".           68\n",
              "..           1\n",
              "DMATLR       1\n",
              "EHAO        10\n",
              "ㅇ므식          5\n",
              "          ... \n",
              "휴게음료         5\n",
              "휴게음식      1238\n",
              "휴게음식업       15\n",
              "휴게음식점     2335\n",
              "휴게음식점업     218\n",
              "Name: 승인번호, Length: 340, dtype: int64"
            ]
          },
          "metadata": {},
          "execution_count": 68
        }
      ]
    },
    {
      "cell_type": "code",
      "metadata": {
        "id": "X9ubJulMPeUW",
        "colab": {
          "base_uri": "https://localhost:8080/"
        },
        "outputId": "0be297af-e494-4d15-f078-e39852b01708"
      },
      "source": [
        "# 가장 빈번/가장 많이 사용한 카드번호의 정보를 나열\n",
        "# 카드별 \n",
        "cardsum=card_detail['승인금액'].groupby(card_detail['카드번호']).count()\n",
        "cardsum.sort_values( ascending=False)\n",
        "# 가장많이 사용한 경우 해당기간동안 2144번 사용함 \n",
        "#4025-9610-3910-1320    2144\n",
        "#4025-9610-3872-8503    2008\n",
        "#4025-9610-3593-1001    1619\n",
        "#4025-9610-3836-1818    1587\n",
        "#4025-9610-3590-7209    1542"
      ],
      "execution_count": null,
      "outputs": [
        {
          "output_type": "execute_result",
          "data": {
            "text/plain": [
              "카드번호\n",
              "4025-9610-3910-1320    2144\n",
              "4025-9610-3872-8503    2008\n",
              "4025-9610-3593-1001    1619\n",
              "4025-9610-3836-1818    1587\n",
              "4025-9610-3590-7209    1542\n",
              "                       ... \n",
              "5531-4700-0019-4227       1\n",
              "5531-4700-0042-6678       1\n",
              "5531-4700-0034-7767       1\n",
              "5531-4700-0030-2101       1\n",
              "5531-4700-0039-6269       1\n",
              "Name: 승인금액, Length: 1645, dtype: int64"
            ]
          },
          "metadata": {},
          "execution_count": 94
        }
      ]
    },
    {
      "cell_type": "code",
      "metadata": {
        "colab": {
          "base_uri": "https://localhost:8080/"
        },
        "id": "W3qeUbAvWYL8",
        "outputId": "15ba7fc4-afac-4bbd-e398-2e23d239a3f7"
      },
      "source": [
        "# 가장 빈번/가장 많이 사용한 영업사원의 정보를 나열\n",
        "# 카드별 \n",
        "cardsum=card_detail['승인금액'].groupby(card_detail['사번']).count()\n",
        "cardsum.sort_values( ascending=False)\n",
        "# 해당기간동안 가장 많이 사용한 영업사원들\n",
        "#2070319    2170\n",
        "#2110156    2170\n",
        "#2130241    1778\n",
        "#2180562    1643\n",
        "#2100253    1620"
      ],
      "execution_count": null,
      "outputs": [
        {
          "output_type": "execute_result",
          "data": {
            "text/plain": [
              "사번\n",
              "2070319    2170\n",
              "2110156    2170\n",
              "2130241    1778\n",
              "2180562    1643\n",
              "2100253    1620\n",
              "           ... \n",
              "2180036      16\n",
              "2180115      16\n",
              "2190063      11\n",
              "2160234       9\n",
              "2210190       8\n",
              "Name: 승인금액, Length: 676, dtype: int64"
            ]
          },
          "metadata": {},
          "execution_count": 97
        }
      ]
    },
    {
      "cell_type": "code",
      "metadata": {
        "colab": {
          "base_uri": "https://localhost:8080/"
        },
        "id": "qFopXBSGXHP2",
        "outputId": "a3273169-8dbd-47ef-a353-9bfe02404cff"
      },
      "source": [
        "# 카드번호별 승인금액합\n",
        "# 카드별 \n",
        "cardsum=card_detail['승인금액'].groupby(card_detail['카드번호']).sum()\n",
        "cardsum.sort_values( ascending=False)\n",
        "# 가장 많이 사용했다고 해서 승인금액이 큰것은 아님. \n",
        "#4670-6901-0014-5043    135770867\n",
        "#4025-9610-3590-7209     94350710\n",
        "#4025-9610-3592-8601     87407060\n",
        "#4025-9610-3589-6600     85020395"
      ],
      "execution_count": null,
      "outputs": [
        {
          "output_type": "execute_result",
          "data": {
            "text/plain": [
              "카드번호\n",
              "4670-6901-0014-5043    135770867\n",
              "4025-9610-3590-7209     94350710\n",
              "4025-9610-3592-8601     87407060\n",
              "4025-9610-3589-6600     85020395\n",
              "5531-4700-0032-4121     80786300\n",
              "                         ...    \n",
              "5531-4210-2562-7006       107900\n",
              "5531-4700-0031-7653        97920\n",
              "5531-4700-0032-5169        94000\n",
              "5531-4700-0034-7668        89000\n",
              "4025-9610-5430-5806        39500\n",
              "Name: 승인금액, Length: 1645, dtype: int64"
            ]
          },
          "metadata": {},
          "execution_count": 99
        }
      ]
    },
    {
      "cell_type": "code",
      "metadata": {
        "colab": {
          "base_uri": "https://localhost:8080/"
        },
        "id": "wzGuL7ooXVyE",
        "outputId": "6749ad40-f1f1-41ad-d99e-73a2efa55c73"
      },
      "source": [
        "# 영업사원별 승인금액합\n",
        "# 카드별 \n",
        "cardsum=card_detail['승인금액'].groupby(card_detail['사번']).sum()\n",
        "cardsum.sort_values( ascending=False)\n",
        "# 가장 많이 사용했다고 해서 승인금액이 큰것은 아님. \n",
        "#2070319    160915010\n",
        "#2030273    135770867\n",
        "#2050348    133229490\n",
        "#2120153    125089680"
      ],
      "execution_count": null,
      "outputs": [
        {
          "output_type": "execute_result",
          "data": {
            "text/plain": [
              "사번\n",
              "2070319    160915010\n",
              "2030273    135770867\n",
              "2050348    133229490\n",
              "2120153    125089680\n",
              "2180562    116002280\n",
              "             ...    \n",
              "2110114       712990\n",
              "2210161       626400\n",
              "2110189       567550\n",
              "2160388       281520\n",
              "2180018       227600\n",
              "Name: 승인금액, Length: 676, dtype: int64"
            ]
          },
          "metadata": {},
          "execution_count": 100
        }
      ]
    },
    {
      "cell_type": "code",
      "metadata": {
        "id": "LFrVS6E3W7dJ"
      },
      "source": [
        "# 많이 사용한 카드번호/영업사원들은 어떤용도로 많이 사용하게 되는지 세부내역을 파악해보면 좋을것 같음\n",
        "# 어떤사유/목적으로 많이 사용하는지 확인\n",
        "# 위의 네가지영역별로 상위 100명 추리기 -> 이에 해당하는 세부사용내역 확인"
      ],
      "execution_count": null,
      "outputs": []
    },
    {
      "cell_type": "code",
      "metadata": {
        "id": "Y-gxzCe-XcwJ"
      },
      "source": [
        "# 중간결론\n",
        "# 세부내역에서 뭔가 특별한 무언가 발견될거라 생각했는데, "
      ],
      "execution_count": null,
      "outputs": []
    },
    {
      "cell_type": "code",
      "metadata": {
        "id": "CVRNfEbcVf3G"
      },
      "source": [
        "\n",
        "\n",
        "\n"
      ],
      "execution_count": null,
      "outputs": []
    },
    {
      "cell_type": "markdown",
      "metadata": {
        "id": "y-g4cG0TVgy5"
      },
      "source": [
        "### 개인사용비율과 세부사용내역 merge"
      ]
    },
    {
      "cell_type": "code",
      "metadata": {
        "id": "ovIS047OQQ63"
      },
      "source": [
        "# 해당 영업사원의 개인사용비율/연체여부와도 같이 확인 가능\n",
        "# 연체여부와 연계시켜서 확인하기\n",
        "# 연체 발생한 카드의 해당월에 사용한 내역이 무엇인지 확인해보기\n",
        "# 어떤용도로 사용하다가 연체가 되었는지 확인해보기"
      ],
      "execution_count": null,
      "outputs": []
    },
    {
      "cell_type": "code",
      "metadata": {
        "id": "Dy8R8XszaYTW"
      },
      "source": [
        "card_late = card_detail[(card_detail['연체여부']==\"Y\")]"
      ],
      "execution_count": null,
      "outputs": []
    },
    {
      "cell_type": "code",
      "metadata": {
        "id": "842LYxCgZ020",
        "colab": {
          "base_uri": "https://localhost:8080/"
        },
        "outputId": "ec7e33a7-3c29-4061-beea-78b1a56fd753"
      },
      "source": [
        "len(card_late)"
      ],
      "execution_count": null,
      "outputs": [
        {
          "output_type": "execute_result",
          "data": {
            "text/plain": [
              "9640"
            ]
          },
          "metadata": {},
          "execution_count": 80
        }
      ]
    },
    {
      "cell_type": "code",
      "metadata": {
        "id": "EKUsRXxjZ05z"
      },
      "source": [
        "cardlate= card_late['카드번호'].unique()  # 126개"
      ],
      "execution_count": null,
      "outputs": []
    },
    {
      "cell_type": "code",
      "metadata": {
        "id": "ntsVP7MgZ095",
        "colab": {
          "base_uri": "https://localhost:8080/"
        },
        "outputId": "bfed40a7-564a-4499-b003-f657837542a9"
      },
      "source": [
        "len(cardlate) # 카드번호로는 126개"
      ],
      "execution_count": null,
      "outputs": [
        {
          "output_type": "execute_result",
          "data": {
            "text/plain": [
              "126"
            ]
          },
          "metadata": {},
          "execution_count": 153
        }
      ]
    },
    {
      "cell_type": "code",
      "metadata": {
        "colab": {
          "base_uri": "https://localhost:8080/"
        },
        "id": "ow9n9MaQSDsA",
        "outputId": "a394168a-58b2-4909-dbd9-f8f661aede6c"
      },
      "source": [
        "# 연체된경우,  개인사용 업종별 건수 파악\n",
        "cardsum=card_late['승인금액'].groupby(card_late['업종명']).count()\n",
        "cardsum.sort_values(ascending=False)\n",
        "# 커피숍 > 일반한식 > 제과점 > 슈퍼마켓 > 일식  ... (총 103개의 업종명)\n",
        "# 연체되었어도 사용은 비슷하게 나타남을 알 수 있음."
      ],
      "execution_count": null,
      "outputs": [
        {
          "output_type": "execute_result",
          "data": {
            "text/plain": [
              "업종명\n",
              "커피숍         3252\n",
              "일반한식        2667\n",
              "제과점          730\n",
              "슈퍼마켓         551\n",
              "편의점          431\n",
              "일식           398\n",
              "패스트푸드        316\n",
              "대형할인매장       270\n",
              "중국식          226\n",
              "서양식          209\n",
              "한식           205\n",
              "일반주점         118\n",
              "기타식품          58\n",
              "종합병원          49\n",
              "연쇄점           37\n",
              "특1급호텔         26\n",
              "뷔페            22\n",
              "중식            13\n",
              "양식            11\n",
              "종합식품          10\n",
              "음반판매장          7\n",
              "문방구            5\n",
              "정육점            4\n",
              "광고/인쇄          4\n",
              "간이음식점          3\n",
              "콘도,유스호스텔       3\n",
              "농축수산물          3\n",
              "축산물            2\n",
              "기타사무용품         2\n",
              "특2급호텔          2\n",
              "호텔             1\n",
              "남/여성복          1\n",
              "복지매장/조합        1\n",
              "수산물            1\n",
              "연금매장           1\n",
              "PG쇼핑몰          1\n",
              "Name: 승인금액, dtype: int64"
            ]
          },
          "metadata": {},
          "execution_count": 88
        }
      ]
    },
    {
      "cell_type": "code",
      "metadata": {
        "id": "02IzFo7DZ0_c",
        "colab": {
          "base_uri": "https://localhost:8080/"
        },
        "outputId": "347b40ae-055d-4ad0-da9b-2848b471a431"
      },
      "source": [
        "# 연체된경우, 개인사용 업종별 승인금액 파악\n",
        "cardsum=card_late['승인금액'].groupby(card_late['업종명']).sum()\n",
        "cardsum.sort_values( ascending=False)\n",
        "# 금액으로 따지면 일반한식 > 한식 > 커피숍 > 일식 > 슈퍼마켓"
      ],
      "execution_count": null,
      "outputs": [
        {
          "output_type": "execute_result",
          "data": {
            "text/plain": [
              "업종명\n",
              "일반한식        241764934\n",
              "한식           96875910\n",
              "커피숍          66116940\n",
              "일식           60789100\n",
              "슈퍼마켓         35739220\n",
              "제과점          20252039\n",
              "서양식          19764221\n",
              "중국식          14980320\n",
              "대형할인매장       14467780\n",
              "편의점          11721830\n",
              "패스트푸드         8457510\n",
              "양식            7061700\n",
              "중식            6791000\n",
              "일반주점          6687700\n",
              "종합식품          4816000\n",
              "기타식품          4113000\n",
              "특1급호텔         3755147\n",
              "뷔페            3738800\n",
              "광고/인쇄         1200000\n",
              "종합병원          1038000\n",
              "간이음식점         1020000\n",
              "축산물            969700\n",
              "연쇄점            877050\n",
              "문방구            745500\n",
              "정육점            697700\n",
              "수산물            495000\n",
              "호텔             495000\n",
              "남/여성복          425524\n",
              "농축수산물          417050\n",
              "음반판매장          277275\n",
              "콘도,유스호스텔       158500\n",
              "기타사무용품          81950\n",
              "특2급호텔           69500\n",
              "PG쇼핑몰           56000\n",
              "복지매장/조합         32800\n",
              "연금매장             3600\n",
              "Name: 승인금액, dtype: int64"
            ]
          },
          "metadata": {},
          "execution_count": 90
        }
      ]
    },
    {
      "cell_type": "code",
      "metadata": {
        "id": "f7foSFFbU8M2"
      },
      "source": [
        "# 연체된경우 결제내역에 어떤 특이한점이 있는지 파악해보고자 여러 시도를 해봄\n",
        "#"
      ],
      "execution_count": null,
      "outputs": []
    },
    {
      "cell_type": "markdown",
      "metadata": {
        "id": "1KX25BhA1EQU"
      },
      "source": [
        "### 사용한도와의 상관관계 확인"
      ]
    },
    {
      "cell_type": "code",
      "metadata": {
        "id": "x9KUd50tVcP8"
      },
      "source": [
        ""
      ],
      "execution_count": 15,
      "outputs": []
    },
    {
      "cell_type": "code",
      "metadata": {
        "id": "TDol9kKgEnYm"
      },
      "source": [
        ""
      ],
      "execution_count": 15,
      "outputs": []
    },
    {
      "cell_type": "code",
      "metadata": {
        "id": "zEr6h5jlEneU"
      },
      "source": [
        ""
      ],
      "execution_count": 15,
      "outputs": []
    },
    {
      "cell_type": "code",
      "metadata": {
        "id": "GiIf2EQ_Enh8"
      },
      "source": [
        ""
      ],
      "execution_count": 15,
      "outputs": []
    },
    {
      "cell_type": "code",
      "metadata": {
        "id": "BuByk7j9Enk3"
      },
      "source": [
        ""
      ],
      "execution_count": null,
      "outputs": []
    },
    {
      "cell_type": "code",
      "metadata": {
        "id": "dIzWwBg9VcTY"
      },
      "source": [
        ""
      ],
      "execution_count": null,
      "outputs": []
    },
    {
      "cell_type": "code",
      "metadata": {
        "id": "b1DEtgSxVcWh"
      },
      "source": [
        ""
      ],
      "execution_count": null,
      "outputs": []
    },
    {
      "cell_type": "markdown",
      "metadata": {
        "id": "hyow-Cuy2-l0"
      },
      "source": [
        "### 사번/카드 기준으로 봤을때의 연체여부 "
      ]
    },
    {
      "cell_type": "code",
      "metadata": {
        "id": "J56Qh9IGVP-W"
      },
      "source": [
        "# 기존데이터에서 임원/소장들을 제거"
      ],
      "execution_count": null,
      "outputs": []
    },
    {
      "cell_type": "code",
      "metadata": {
        "colab": {
          "base_uri": "https://localhost:8080/",
          "height": 1000
        },
        "id": "RkOgbMA_YPug",
        "outputId": "53e68822-545d-471e-e30f-dfa503e71979"
      },
      "source": [
        "data2 # 1645 rows × 27 columns"
      ],
      "execution_count": 137,
      "outputs": [
        {
          "output_type": "execute_result",
          "data": {
            "text/html": [
              "<div>\n",
              "<style scoped>\n",
              "    .dataframe tbody tr th:only-of-type {\n",
              "        vertical-align: middle;\n",
              "    }\n",
              "\n",
              "    .dataframe tbody tr th {\n",
              "        vertical-align: top;\n",
              "    }\n",
              "\n",
              "    .dataframe thead th {\n",
              "        text-align: right;\n",
              "    }\n",
              "</style>\n",
              "<table border=\"1\" class=\"dataframe\">\n",
              "  <thead>\n",
              "    <tr style=\"text-align: right;\">\n",
              "      <th></th>\n",
              "      <th>카드번호</th>\n",
              "      <th>종류</th>\n",
              "      <th>사번</th>\n",
              "      <th>소장여부</th>\n",
              "      <th>회원명</th>\n",
              "      <th>카드번호&amp;사번&amp;종류</th>\n",
              "      <th>승인금액</th>\n",
              "      <th>mp총금액</th>\n",
              "      <th>ip총금액</th>\n",
              "      <th>pre_detail총금액</th>\n",
              "      <th>detail총금액</th>\n",
              "      <th>pre_cps총금액</th>\n",
              "      <th>cps총금액</th>\n",
              "      <th>pre_개인사용</th>\n",
              "      <th>개인사용</th>\n",
              "      <th>연체여부</th>\n",
              "      <th>연체금액_부서경비</th>\n",
              "      <th>연체금액_세미나</th>\n",
              "      <th>연체금액_디테일</th>\n",
              "      <th>연체금액_조직활성화</th>\n",
              "      <th>연체금액_전체</th>\n",
              "      <th>사용개월수</th>\n",
              "      <th>본부</th>\n",
              "      <th>센터</th>\n",
              "      <th>팀</th>\n",
              "      <th>소속기준월</th>\n",
              "      <th>영업사원성별</th>\n",
              "      <th>영업사원나이</th>\n",
              "      <th>영업사원나이대</th>\n",
              "      <th>영업사원직책</th>\n",
              "      <th>개인사용비율</th>\n",
              "      <th>ip_ratio</th>\n",
              "      <th>mp_ratio</th>\n",
              "      <th>detail_ratio</th>\n",
              "      <th>연체구분</th>\n",
              "    </tr>\n",
              "  </thead>\n",
              "  <tbody>\n",
              "    <tr>\n",
              "      <th>0</th>\n",
              "      <td>4670-6901-0008-6254</td>\n",
              "      <td>삼성</td>\n",
              "      <td>2020347</td>\n",
              "      <td>N</td>\n",
              "      <td>박수진</td>\n",
              "      <td>4670-6901-0008-62542020347삼성</td>\n",
              "      <td>53456466.0</td>\n",
              "      <td>0.0</td>\n",
              "      <td>0.0</td>\n",
              "      <td>0.0</td>\n",
              "      <td>0.0</td>\n",
              "      <td>0.0</td>\n",
              "      <td>0.0</td>\n",
              "      <td>53456466.0</td>\n",
              "      <td>53456466</td>\n",
              "      <td>0.0</td>\n",
              "      <td>0.0</td>\n",
              "      <td>0.0</td>\n",
              "      <td>0.0</td>\n",
              "      <td>0.0</td>\n",
              "      <td>0.0</td>\n",
              "      <td>18</td>\n",
              "      <td>ETC본부</td>\n",
              "      <td>서울4사업부</td>\n",
              "      <td>서울4사업부</td>\n",
              "      <td>2021-03-01</td>\n",
              "      <td>남자</td>\n",
              "      <td>50.0</td>\n",
              "      <td>50.0</td>\n",
              "      <td>본부장</td>\n",
              "      <td>1.000000</td>\n",
              "      <td>NaN</td>\n",
              "      <td>NaN</td>\n",
              "      <td>NaN</td>\n",
              "      <td>0</td>\n",
              "    </tr>\n",
              "    <tr>\n",
              "      <th>1</th>\n",
              "      <td>4670-6901-0017-0512</td>\n",
              "      <td>삼성</td>\n",
              "      <td>2020347</td>\n",
              "      <td>N</td>\n",
              "      <td>박수진</td>\n",
              "      <td>4670-6901-0017-05122020347삼성</td>\n",
              "      <td>35873690.0</td>\n",
              "      <td>0.0</td>\n",
              "      <td>0.0</td>\n",
              "      <td>0.0</td>\n",
              "      <td>0.0</td>\n",
              "      <td>0.0</td>\n",
              "      <td>0.0</td>\n",
              "      <td>35873690.0</td>\n",
              "      <td>35873690</td>\n",
              "      <td>0.0</td>\n",
              "      <td>0.0</td>\n",
              "      <td>0.0</td>\n",
              "      <td>0.0</td>\n",
              "      <td>0.0</td>\n",
              "      <td>0.0</td>\n",
              "      <td>18</td>\n",
              "      <td>ETC본부</td>\n",
              "      <td>서울4사업부</td>\n",
              "      <td>서울4사업부</td>\n",
              "      <td>2021-03-01</td>\n",
              "      <td>남자</td>\n",
              "      <td>50.0</td>\n",
              "      <td>50.0</td>\n",
              "      <td>본부장</td>\n",
              "      <td>1.000000</td>\n",
              "      <td>NaN</td>\n",
              "      <td>NaN</td>\n",
              "      <td>NaN</td>\n",
              "      <td>0</td>\n",
              "    </tr>\n",
              "    <tr>\n",
              "      <th>2</th>\n",
              "      <td>4670-6901-0014-5043</td>\n",
              "      <td>삼성</td>\n",
              "      <td>2030273</td>\n",
              "      <td>N</td>\n",
              "      <td>유창득</td>\n",
              "      <td>4670-6901-0014-50432030273삼성</td>\n",
              "      <td>135770867.0</td>\n",
              "      <td>0.0</td>\n",
              "      <td>0.0</td>\n",
              "      <td>0.0</td>\n",
              "      <td>0.0</td>\n",
              "      <td>0.0</td>\n",
              "      <td>0.0</td>\n",
              "      <td>135770867.0</td>\n",
              "      <td>135770867</td>\n",
              "      <td>0.0</td>\n",
              "      <td>0.0</td>\n",
              "      <td>0.0</td>\n",
              "      <td>0.0</td>\n",
              "      <td>0.0</td>\n",
              "      <td>0.0</td>\n",
              "      <td>18</td>\n",
              "      <td>ETC본부</td>\n",
              "      <td>서울3사업부</td>\n",
              "      <td>서울3사업부</td>\n",
              "      <td>2021-03-01</td>\n",
              "      <td>남자</td>\n",
              "      <td>45.0</td>\n",
              "      <td>40.0</td>\n",
              "      <td>사업부장</td>\n",
              "      <td>1.000000</td>\n",
              "      <td>NaN</td>\n",
              "      <td>NaN</td>\n",
              "      <td>NaN</td>\n",
              "      <td>0</td>\n",
              "    </tr>\n",
              "    <tr>\n",
              "      <th>3</th>\n",
              "      <td>4025-9610-3142-0603</td>\n",
              "      <td>현대</td>\n",
              "      <td>2010088</td>\n",
              "      <td>N</td>\n",
              "      <td>박형철</td>\n",
              "      <td>4025-9610-3142-06032010088현대</td>\n",
              "      <td>26982920.0</td>\n",
              "      <td>0.0</td>\n",
              "      <td>0.0</td>\n",
              "      <td>587800.0</td>\n",
              "      <td>587800.0</td>\n",
              "      <td>587800.0</td>\n",
              "      <td>587800.0</td>\n",
              "      <td>26395120.0</td>\n",
              "      <td>26395120</td>\n",
              "      <td>0.0</td>\n",
              "      <td>0.0</td>\n",
              "      <td>0.0</td>\n",
              "      <td>0.0</td>\n",
              "      <td>0.0</td>\n",
              "      <td>0.0</td>\n",
              "      <td>18</td>\n",
              "      <td>ETC본부</td>\n",
              "      <td>서울2사업부</td>\n",
              "      <td>병원경인사무소</td>\n",
              "      <td>2021-03-01</td>\n",
              "      <td>남자</td>\n",
              "      <td>47.0</td>\n",
              "      <td>40.0</td>\n",
              "      <td>사업부장</td>\n",
              "      <td>0.978216</td>\n",
              "      <td>0.0</td>\n",
              "      <td>0.0</td>\n",
              "      <td>1.0</td>\n",
              "      <td>0</td>\n",
              "    </tr>\n",
              "    <tr>\n",
              "      <th>4</th>\n",
              "      <td>4025-9610-3591-0104</td>\n",
              "      <td>현대</td>\n",
              "      <td>2010088</td>\n",
              "      <td>N</td>\n",
              "      <td>박형철</td>\n",
              "      <td>4025-9610-3591-01042010088현대</td>\n",
              "      <td>24170070.0</td>\n",
              "      <td>0.0</td>\n",
              "      <td>0.0</td>\n",
              "      <td>17698360.0</td>\n",
              "      <td>17698360.0</td>\n",
              "      <td>17698360.0</td>\n",
              "      <td>17698360.0</td>\n",
              "      <td>6471710.0</td>\n",
              "      <td>6471710</td>\n",
              "      <td>1.0</td>\n",
              "      <td>0.0</td>\n",
              "      <td>0.0</td>\n",
              "      <td>0.0</td>\n",
              "      <td>0.0</td>\n",
              "      <td>0.0</td>\n",
              "      <td>18</td>\n",
              "      <td>ETC본부</td>\n",
              "      <td>서울2사업부</td>\n",
              "      <td>병원경인사무소</td>\n",
              "      <td>2021-03-01</td>\n",
              "      <td>남자</td>\n",
              "      <td>47.0</td>\n",
              "      <td>40.0</td>\n",
              "      <td>사업부장</td>\n",
              "      <td>0.267757</td>\n",
              "      <td>0.0</td>\n",
              "      <td>0.0</td>\n",
              "      <td>1.0</td>\n",
              "      <td>1</td>\n",
              "    </tr>\n",
              "    <tr>\n",
              "      <th>...</th>\n",
              "      <td>...</td>\n",
              "      <td>...</td>\n",
              "      <td>...</td>\n",
              "      <td>...</td>\n",
              "      <td>...</td>\n",
              "      <td>...</td>\n",
              "      <td>...</td>\n",
              "      <td>...</td>\n",
              "      <td>...</td>\n",
              "      <td>...</td>\n",
              "      <td>...</td>\n",
              "      <td>...</td>\n",
              "      <td>...</td>\n",
              "      <td>...</td>\n",
              "      <td>...</td>\n",
              "      <td>...</td>\n",
              "      <td>...</td>\n",
              "      <td>...</td>\n",
              "      <td>...</td>\n",
              "      <td>...</td>\n",
              "      <td>...</td>\n",
              "      <td>...</td>\n",
              "      <td>...</td>\n",
              "      <td>...</td>\n",
              "      <td>...</td>\n",
              "      <td>...</td>\n",
              "      <td>...</td>\n",
              "      <td>...</td>\n",
              "      <td>...</td>\n",
              "      <td>...</td>\n",
              "      <td>...</td>\n",
              "      <td>...</td>\n",
              "      <td>...</td>\n",
              "      <td>...</td>\n",
              "      <td>...</td>\n",
              "    </tr>\n",
              "    <tr>\n",
              "      <th>1636</th>\n",
              "      <td>4025-9610-4553-0900</td>\n",
              "      <td>현대</td>\n",
              "      <td>2090364</td>\n",
              "      <td>Y</td>\n",
              "      <td>최선일</td>\n",
              "      <td>4025-9610-4553-09002090364현대</td>\n",
              "      <td>16070845.0</td>\n",
              "      <td>0.0</td>\n",
              "      <td>0.0</td>\n",
              "      <td>829340.0</td>\n",
              "      <td>15588595.0</td>\n",
              "      <td>829340.0</td>\n",
              "      <td>15588595.0</td>\n",
              "      <td>15241505.0</td>\n",
              "      <td>482250</td>\n",
              "      <td>0.0</td>\n",
              "      <td>0.0</td>\n",
              "      <td>0.0</td>\n",
              "      <td>0.0</td>\n",
              "      <td>0.0</td>\n",
              "      <td>0.0</td>\n",
              "      <td>18</td>\n",
              "      <td>ETC본부</td>\n",
              "      <td>서울3사업부</td>\n",
              "      <td>동부1사무소</td>\n",
              "      <td>2021-03-01</td>\n",
              "      <td>남자</td>\n",
              "      <td>40.0</td>\n",
              "      <td>40.0</td>\n",
              "      <td>소장</td>\n",
              "      <td>0.030008</td>\n",
              "      <td>0.0</td>\n",
              "      <td>0.0</td>\n",
              "      <td>1.0</td>\n",
              "      <td>0</td>\n",
              "    </tr>\n",
              "    <tr>\n",
              "      <th>1638</th>\n",
              "      <td>4025-9610-4495-5900</td>\n",
              "      <td>현대</td>\n",
              "      <td>2070235</td>\n",
              "      <td>Y</td>\n",
              "      <td>이종환</td>\n",
              "      <td>4025-9610-4495-59002070235현대</td>\n",
              "      <td>14163850.0</td>\n",
              "      <td>0.0</td>\n",
              "      <td>0.0</td>\n",
              "      <td>638750.0</td>\n",
              "      <td>14082650.0</td>\n",
              "      <td>638750.0</td>\n",
              "      <td>14082650.0</td>\n",
              "      <td>13525100.0</td>\n",
              "      <td>81200</td>\n",
              "      <td>0.0</td>\n",
              "      <td>0.0</td>\n",
              "      <td>0.0</td>\n",
              "      <td>0.0</td>\n",
              "      <td>0.0</td>\n",
              "      <td>0.0</td>\n",
              "      <td>18</td>\n",
              "      <td>ETC본부</td>\n",
              "      <td>서울3사업부</td>\n",
              "      <td>남부2사무소</td>\n",
              "      <td>2021-03-01</td>\n",
              "      <td>남자</td>\n",
              "      <td>45.0</td>\n",
              "      <td>40.0</td>\n",
              "      <td>소장</td>\n",
              "      <td>0.005733</td>\n",
              "      <td>0.0</td>\n",
              "      <td>0.0</td>\n",
              "      <td>1.0</td>\n",
              "      <td>0</td>\n",
              "    </tr>\n",
              "    <tr>\n",
              "      <th>1639</th>\n",
              "      <td>4025-9610-4128-5210</td>\n",
              "      <td>현대</td>\n",
              "      <td>2100071</td>\n",
              "      <td>Y</td>\n",
              "      <td>하상철</td>\n",
              "      <td>4025-9610-4128-52102100071현대</td>\n",
              "      <td>15724900.0</td>\n",
              "      <td>0.0</td>\n",
              "      <td>0.0</td>\n",
              "      <td>108000.0</td>\n",
              "      <td>14790500.0</td>\n",
              "      <td>108000.0</td>\n",
              "      <td>14790500.0</td>\n",
              "      <td>15616900.0</td>\n",
              "      <td>934400</td>\n",
              "      <td>0.0</td>\n",
              "      <td>0.0</td>\n",
              "      <td>0.0</td>\n",
              "      <td>0.0</td>\n",
              "      <td>0.0</td>\n",
              "      <td>0.0</td>\n",
              "      <td>9</td>\n",
              "      <td>ETC본부</td>\n",
              "      <td>지방3사업부</td>\n",
              "      <td>경남2사무소</td>\n",
              "      <td>2020-06-01</td>\n",
              "      <td>남자</td>\n",
              "      <td>38.0</td>\n",
              "      <td>30.0</td>\n",
              "      <td>직원</td>\n",
              "      <td>0.059422</td>\n",
              "      <td>0.0</td>\n",
              "      <td>0.0</td>\n",
              "      <td>1.0</td>\n",
              "      <td>0</td>\n",
              "    </tr>\n",
              "    <tr>\n",
              "      <th>1640</th>\n",
              "      <td>4025-9610-4091-3010</td>\n",
              "      <td>현대</td>\n",
              "      <td>2010277</td>\n",
              "      <td>Y</td>\n",
              "      <td>주병옥</td>\n",
              "      <td>4025-9610-4091-30102010277현대</td>\n",
              "      <td>9700100.0</td>\n",
              "      <td>0.0</td>\n",
              "      <td>0.0</td>\n",
              "      <td>479700.0</td>\n",
              "      <td>9486800.0</td>\n",
              "      <td>479700.0</td>\n",
              "      <td>9486800.0</td>\n",
              "      <td>9220400.0</td>\n",
              "      <td>213300</td>\n",
              "      <td>0.0</td>\n",
              "      <td>0.0</td>\n",
              "      <td>0.0</td>\n",
              "      <td>0.0</td>\n",
              "      <td>0.0</td>\n",
              "      <td>0.0</td>\n",
              "      <td>18</td>\n",
              "      <td>ETC본부</td>\n",
              "      <td>지방2사업부</td>\n",
              "      <td>병원광주2사무소</td>\n",
              "      <td>2021-03-01</td>\n",
              "      <td>남자</td>\n",
              "      <td>48.0</td>\n",
              "      <td>40.0</td>\n",
              "      <td>소장</td>\n",
              "      <td>0.021989</td>\n",
              "      <td>0.0</td>\n",
              "      <td>0.0</td>\n",
              "      <td>1.0</td>\n",
              "      <td>0</td>\n",
              "    </tr>\n",
              "    <tr>\n",
              "      <th>1643</th>\n",
              "      <td>4025-9610-3141-8300</td>\n",
              "      <td>현대</td>\n",
              "      <td>2020218</td>\n",
              "      <td>Y</td>\n",
              "      <td>정용찬</td>\n",
              "      <td>4025-9610-3141-83002020218현대</td>\n",
              "      <td>20541900.0</td>\n",
              "      <td>0.0</td>\n",
              "      <td>0.0</td>\n",
              "      <td>72260.0</td>\n",
              "      <td>20513100.0</td>\n",
              "      <td>72260.0</td>\n",
              "      <td>20513100.0</td>\n",
              "      <td>20469640.0</td>\n",
              "      <td>28800</td>\n",
              "      <td>0.0</td>\n",
              "      <td>0.0</td>\n",
              "      <td>0.0</td>\n",
              "      <td>0.0</td>\n",
              "      <td>0.0</td>\n",
              "      <td>0.0</td>\n",
              "      <td>18</td>\n",
              "      <td>ETC본부</td>\n",
              "      <td>서울1사업부</td>\n",
              "      <td>병원서울3사무소</td>\n",
              "      <td>2021-03-01</td>\n",
              "      <td>남자</td>\n",
              "      <td>46.0</td>\n",
              "      <td>40.0</td>\n",
              "      <td>소장</td>\n",
              "      <td>0.001402</td>\n",
              "      <td>0.0</td>\n",
              "      <td>0.0</td>\n",
              "      <td>1.0</td>\n",
              "      <td>0</td>\n",
              "    </tr>\n",
              "  </tbody>\n",
              "</table>\n",
              "<p>1406 rows × 35 columns</p>\n",
              "</div>"
            ],
            "text/plain": [
              "                     카드번호  종류       사번  ... mp_ratio detail_ratio 연체구분\n",
              "0     4670-6901-0008-6254  삼성  2020347  ...      NaN          NaN    0\n",
              "1     4670-6901-0017-0512  삼성  2020347  ...      NaN          NaN    0\n",
              "2     4670-6901-0014-5043  삼성  2030273  ...      NaN          NaN    0\n",
              "3     4025-9610-3142-0603  현대  2010088  ...      0.0          1.0    0\n",
              "4     4025-9610-3591-0104  현대  2010088  ...      0.0          1.0    1\n",
              "...                   ...  ..      ...  ...      ...          ...  ...\n",
              "1636  4025-9610-4553-0900  현대  2090364  ...      0.0          1.0    0\n",
              "1638  4025-9610-4495-5900  현대  2070235  ...      0.0          1.0    0\n",
              "1639  4025-9610-4128-5210  현대  2100071  ...      0.0          1.0    0\n",
              "1640  4025-9610-4091-3010  현대  2010277  ...      0.0          1.0    0\n",
              "1643  4025-9610-3141-8300  현대  2020218  ...      0.0          1.0    0\n",
              "\n",
              "[1406 rows x 35 columns]"
            ]
          },
          "metadata": {},
          "execution_count": 137
        }
      ]
    },
    {
      "cell_type": "code",
      "metadata": {
        "colab": {
          "base_uri": "https://localhost:8080/",
          "height": 1000
        },
        "id": "pOagjW3N3BM9",
        "outputId": "e1349c5f-5205-476e-8f0a-1f1c13873c73"
      },
      "source": [
        "data_filter = data2[(data2['소장여부']==\"N\")]\n",
        "data_filter # 1614 rows × 27 columns"
      ],
      "execution_count": 138,
      "outputs": [
        {
          "output_type": "execute_result",
          "data": {
            "text/html": [
              "<div>\n",
              "<style scoped>\n",
              "    .dataframe tbody tr th:only-of-type {\n",
              "        vertical-align: middle;\n",
              "    }\n",
              "\n",
              "    .dataframe tbody tr th {\n",
              "        vertical-align: top;\n",
              "    }\n",
              "\n",
              "    .dataframe thead th {\n",
              "        text-align: right;\n",
              "    }\n",
              "</style>\n",
              "<table border=\"1\" class=\"dataframe\">\n",
              "  <thead>\n",
              "    <tr style=\"text-align: right;\">\n",
              "      <th></th>\n",
              "      <th>카드번호</th>\n",
              "      <th>종류</th>\n",
              "      <th>사번</th>\n",
              "      <th>소장여부</th>\n",
              "      <th>회원명</th>\n",
              "      <th>카드번호&amp;사번&amp;종류</th>\n",
              "      <th>승인금액</th>\n",
              "      <th>mp총금액</th>\n",
              "      <th>ip총금액</th>\n",
              "      <th>pre_detail총금액</th>\n",
              "      <th>detail총금액</th>\n",
              "      <th>pre_cps총금액</th>\n",
              "      <th>cps총금액</th>\n",
              "      <th>pre_개인사용</th>\n",
              "      <th>개인사용</th>\n",
              "      <th>연체여부</th>\n",
              "      <th>연체금액_부서경비</th>\n",
              "      <th>연체금액_세미나</th>\n",
              "      <th>연체금액_디테일</th>\n",
              "      <th>연체금액_조직활성화</th>\n",
              "      <th>연체금액_전체</th>\n",
              "      <th>사용개월수</th>\n",
              "      <th>본부</th>\n",
              "      <th>센터</th>\n",
              "      <th>팀</th>\n",
              "      <th>소속기준월</th>\n",
              "      <th>영업사원성별</th>\n",
              "      <th>영업사원나이</th>\n",
              "      <th>영업사원나이대</th>\n",
              "      <th>영업사원직책</th>\n",
              "      <th>개인사용비율</th>\n",
              "      <th>ip_ratio</th>\n",
              "      <th>mp_ratio</th>\n",
              "      <th>detail_ratio</th>\n",
              "      <th>연체구분</th>\n",
              "    </tr>\n",
              "  </thead>\n",
              "  <tbody>\n",
              "    <tr>\n",
              "      <th>0</th>\n",
              "      <td>4670-6901-0008-6254</td>\n",
              "      <td>삼성</td>\n",
              "      <td>2020347</td>\n",
              "      <td>N</td>\n",
              "      <td>박수진</td>\n",
              "      <td>4670-6901-0008-62542020347삼성</td>\n",
              "      <td>53456466.0</td>\n",
              "      <td>0.0</td>\n",
              "      <td>0.0</td>\n",
              "      <td>0.0</td>\n",
              "      <td>0.0</td>\n",
              "      <td>0.0</td>\n",
              "      <td>0.0</td>\n",
              "      <td>53456466.0</td>\n",
              "      <td>53456466</td>\n",
              "      <td>0.0</td>\n",
              "      <td>0.0</td>\n",
              "      <td>0.0</td>\n",
              "      <td>0.0</td>\n",
              "      <td>0.0</td>\n",
              "      <td>0.0</td>\n",
              "      <td>18</td>\n",
              "      <td>ETC본부</td>\n",
              "      <td>서울4사업부</td>\n",
              "      <td>서울4사업부</td>\n",
              "      <td>2021-03-01</td>\n",
              "      <td>남자</td>\n",
              "      <td>50.0</td>\n",
              "      <td>50.0</td>\n",
              "      <td>본부장</td>\n",
              "      <td>1.000000</td>\n",
              "      <td>NaN</td>\n",
              "      <td>NaN</td>\n",
              "      <td>NaN</td>\n",
              "      <td>0</td>\n",
              "    </tr>\n",
              "    <tr>\n",
              "      <th>1</th>\n",
              "      <td>4670-6901-0017-0512</td>\n",
              "      <td>삼성</td>\n",
              "      <td>2020347</td>\n",
              "      <td>N</td>\n",
              "      <td>박수진</td>\n",
              "      <td>4670-6901-0017-05122020347삼성</td>\n",
              "      <td>35873690.0</td>\n",
              "      <td>0.0</td>\n",
              "      <td>0.0</td>\n",
              "      <td>0.0</td>\n",
              "      <td>0.0</td>\n",
              "      <td>0.0</td>\n",
              "      <td>0.0</td>\n",
              "      <td>35873690.0</td>\n",
              "      <td>35873690</td>\n",
              "      <td>0.0</td>\n",
              "      <td>0.0</td>\n",
              "      <td>0.0</td>\n",
              "      <td>0.0</td>\n",
              "      <td>0.0</td>\n",
              "      <td>0.0</td>\n",
              "      <td>18</td>\n",
              "      <td>ETC본부</td>\n",
              "      <td>서울4사업부</td>\n",
              "      <td>서울4사업부</td>\n",
              "      <td>2021-03-01</td>\n",
              "      <td>남자</td>\n",
              "      <td>50.0</td>\n",
              "      <td>50.0</td>\n",
              "      <td>본부장</td>\n",
              "      <td>1.000000</td>\n",
              "      <td>NaN</td>\n",
              "      <td>NaN</td>\n",
              "      <td>NaN</td>\n",
              "      <td>0</td>\n",
              "    </tr>\n",
              "    <tr>\n",
              "      <th>2</th>\n",
              "      <td>4670-6901-0014-5043</td>\n",
              "      <td>삼성</td>\n",
              "      <td>2030273</td>\n",
              "      <td>N</td>\n",
              "      <td>유창득</td>\n",
              "      <td>4670-6901-0014-50432030273삼성</td>\n",
              "      <td>135770867.0</td>\n",
              "      <td>0.0</td>\n",
              "      <td>0.0</td>\n",
              "      <td>0.0</td>\n",
              "      <td>0.0</td>\n",
              "      <td>0.0</td>\n",
              "      <td>0.0</td>\n",
              "      <td>135770867.0</td>\n",
              "      <td>135770867</td>\n",
              "      <td>0.0</td>\n",
              "      <td>0.0</td>\n",
              "      <td>0.0</td>\n",
              "      <td>0.0</td>\n",
              "      <td>0.0</td>\n",
              "      <td>0.0</td>\n",
              "      <td>18</td>\n",
              "      <td>ETC본부</td>\n",
              "      <td>서울3사업부</td>\n",
              "      <td>서울3사업부</td>\n",
              "      <td>2021-03-01</td>\n",
              "      <td>남자</td>\n",
              "      <td>45.0</td>\n",
              "      <td>40.0</td>\n",
              "      <td>사업부장</td>\n",
              "      <td>1.000000</td>\n",
              "      <td>NaN</td>\n",
              "      <td>NaN</td>\n",
              "      <td>NaN</td>\n",
              "      <td>0</td>\n",
              "    </tr>\n",
              "    <tr>\n",
              "      <th>3</th>\n",
              "      <td>4025-9610-3142-0603</td>\n",
              "      <td>현대</td>\n",
              "      <td>2010088</td>\n",
              "      <td>N</td>\n",
              "      <td>박형철</td>\n",
              "      <td>4025-9610-3142-06032010088현대</td>\n",
              "      <td>26982920.0</td>\n",
              "      <td>0.0</td>\n",
              "      <td>0.0</td>\n",
              "      <td>587800.0</td>\n",
              "      <td>587800.0</td>\n",
              "      <td>587800.0</td>\n",
              "      <td>587800.0</td>\n",
              "      <td>26395120.0</td>\n",
              "      <td>26395120</td>\n",
              "      <td>0.0</td>\n",
              "      <td>0.0</td>\n",
              "      <td>0.0</td>\n",
              "      <td>0.0</td>\n",
              "      <td>0.0</td>\n",
              "      <td>0.0</td>\n",
              "      <td>18</td>\n",
              "      <td>ETC본부</td>\n",
              "      <td>서울2사업부</td>\n",
              "      <td>병원경인사무소</td>\n",
              "      <td>2021-03-01</td>\n",
              "      <td>남자</td>\n",
              "      <td>47.0</td>\n",
              "      <td>40.0</td>\n",
              "      <td>사업부장</td>\n",
              "      <td>0.978216</td>\n",
              "      <td>0.0</td>\n",
              "      <td>0.0</td>\n",
              "      <td>1.0</td>\n",
              "      <td>0</td>\n",
              "    </tr>\n",
              "    <tr>\n",
              "      <th>4</th>\n",
              "      <td>4025-9610-3591-0104</td>\n",
              "      <td>현대</td>\n",
              "      <td>2010088</td>\n",
              "      <td>N</td>\n",
              "      <td>박형철</td>\n",
              "      <td>4025-9610-3591-01042010088현대</td>\n",
              "      <td>24170070.0</td>\n",
              "      <td>0.0</td>\n",
              "      <td>0.0</td>\n",
              "      <td>17698360.0</td>\n",
              "      <td>17698360.0</td>\n",
              "      <td>17698360.0</td>\n",
              "      <td>17698360.0</td>\n",
              "      <td>6471710.0</td>\n",
              "      <td>6471710</td>\n",
              "      <td>1.0</td>\n",
              "      <td>0.0</td>\n",
              "      <td>0.0</td>\n",
              "      <td>0.0</td>\n",
              "      <td>0.0</td>\n",
              "      <td>0.0</td>\n",
              "      <td>18</td>\n",
              "      <td>ETC본부</td>\n",
              "      <td>서울2사업부</td>\n",
              "      <td>병원경인사무소</td>\n",
              "      <td>2021-03-01</td>\n",
              "      <td>남자</td>\n",
              "      <td>47.0</td>\n",
              "      <td>40.0</td>\n",
              "      <td>사업부장</td>\n",
              "      <td>0.267757</td>\n",
              "      <td>0.0</td>\n",
              "      <td>0.0</td>\n",
              "      <td>1.0</td>\n",
              "      <td>1</td>\n",
              "    </tr>\n",
              "    <tr>\n",
              "      <th>...</th>\n",
              "      <td>...</td>\n",
              "      <td>...</td>\n",
              "      <td>...</td>\n",
              "      <td>...</td>\n",
              "      <td>...</td>\n",
              "      <td>...</td>\n",
              "      <td>...</td>\n",
              "      <td>...</td>\n",
              "      <td>...</td>\n",
              "      <td>...</td>\n",
              "      <td>...</td>\n",
              "      <td>...</td>\n",
              "      <td>...</td>\n",
              "      <td>...</td>\n",
              "      <td>...</td>\n",
              "      <td>...</td>\n",
              "      <td>...</td>\n",
              "      <td>...</td>\n",
              "      <td>...</td>\n",
              "      <td>...</td>\n",
              "      <td>...</td>\n",
              "      <td>...</td>\n",
              "      <td>...</td>\n",
              "      <td>...</td>\n",
              "      <td>...</td>\n",
              "      <td>...</td>\n",
              "      <td>...</td>\n",
              "      <td>...</td>\n",
              "      <td>...</td>\n",
              "      <td>...</td>\n",
              "      <td>...</td>\n",
              "      <td>...</td>\n",
              "      <td>...</td>\n",
              "      <td>...</td>\n",
              "      <td>...</td>\n",
              "    </tr>\n",
              "    <tr>\n",
              "      <th>1609</th>\n",
              "      <td>5531-4700-0032-1119</td>\n",
              "      <td>삼성</td>\n",
              "      <td>2180222</td>\n",
              "      <td>N</td>\n",
              "      <td>김건도</td>\n",
              "      <td>5531-4700-0032-11192180222삼성</td>\n",
              "      <td>7761200.0</td>\n",
              "      <td>5602850.0</td>\n",
              "      <td>0.0</td>\n",
              "      <td>0.0</td>\n",
              "      <td>0.0</td>\n",
              "      <td>5602850.0</td>\n",
              "      <td>5602850.0</td>\n",
              "      <td>2158350.0</td>\n",
              "      <td>2158350</td>\n",
              "      <td>4.0</td>\n",
              "      <td>0.0</td>\n",
              "      <td>1250336.0</td>\n",
              "      <td>0.0</td>\n",
              "      <td>0.0</td>\n",
              "      <td>1250336.0</td>\n",
              "      <td>13</td>\n",
              "      <td>ETC본부</td>\n",
              "      <td>지방4사업부</td>\n",
              "      <td>광주2사무소</td>\n",
              "      <td>2020-10-01</td>\n",
              "      <td>NaN</td>\n",
              "      <td>NaN</td>\n",
              "      <td>NaN</td>\n",
              "      <td>NaN</td>\n",
              "      <td>0.278095</td>\n",
              "      <td>0.0</td>\n",
              "      <td>1.0</td>\n",
              "      <td>0.0</td>\n",
              "      <td>4</td>\n",
              "    </tr>\n",
              "    <tr>\n",
              "      <th>1610</th>\n",
              "      <td>5531-4700-0034-5738</td>\n",
              "      <td>삼성</td>\n",
              "      <td>2180117</td>\n",
              "      <td>N</td>\n",
              "      <td>주영호</td>\n",
              "      <td>5531-4700-0034-57382180117삼성</td>\n",
              "      <td>20711000.0</td>\n",
              "      <td>0.0</td>\n",
              "      <td>18107000.0</td>\n",
              "      <td>0.0</td>\n",
              "      <td>0.0</td>\n",
              "      <td>18107000.0</td>\n",
              "      <td>18107000.0</td>\n",
              "      <td>2604000.0</td>\n",
              "      <td>2604000</td>\n",
              "      <td>0.0</td>\n",
              "      <td>0.0</td>\n",
              "      <td>0.0</td>\n",
              "      <td>0.0</td>\n",
              "      <td>0.0</td>\n",
              "      <td>0.0</td>\n",
              "      <td>19</td>\n",
              "      <td>ETC본부</td>\n",
              "      <td>지방4사업부</td>\n",
              "      <td>전주사무소</td>\n",
              "      <td>2021-01-01</td>\n",
              "      <td>NaN</td>\n",
              "      <td>NaN</td>\n",
              "      <td>NaN</td>\n",
              "      <td>NaN</td>\n",
              "      <td>0.125730</td>\n",
              "      <td>1.0</td>\n",
              "      <td>0.0</td>\n",
              "      <td>0.0</td>\n",
              "      <td>0</td>\n",
              "    </tr>\n",
              "    <tr>\n",
              "      <th>1611</th>\n",
              "      <td>5531-4700-0039-7366</td>\n",
              "      <td>삼성</td>\n",
              "      <td>2200007</td>\n",
              "      <td>N</td>\n",
              "      <td>문강호</td>\n",
              "      <td>5531-4700-0039-73662200007삼성</td>\n",
              "      <td>2413900.0</td>\n",
              "      <td>1736565.0</td>\n",
              "      <td>0.0</td>\n",
              "      <td>0.0</td>\n",
              "      <td>0.0</td>\n",
              "      <td>1736565.0</td>\n",
              "      <td>1736565.0</td>\n",
              "      <td>677335.0</td>\n",
              "      <td>677335</td>\n",
              "      <td>0.0</td>\n",
              "      <td>0.0</td>\n",
              "      <td>0.0</td>\n",
              "      <td>0.0</td>\n",
              "      <td>0.0</td>\n",
              "      <td>0.0</td>\n",
              "      <td>15</td>\n",
              "      <td>ETC본부</td>\n",
              "      <td>지방4사업부</td>\n",
              "      <td>광주1사무소</td>\n",
              "      <td>2021-03-01</td>\n",
              "      <td>NaN</td>\n",
              "      <td>NaN</td>\n",
              "      <td>NaN</td>\n",
              "      <td>NaN</td>\n",
              "      <td>0.280598</td>\n",
              "      <td>0.0</td>\n",
              "      <td>1.0</td>\n",
              "      <td>0.0</td>\n",
              "      <td>0</td>\n",
              "    </tr>\n",
              "    <tr>\n",
              "      <th>1612</th>\n",
              "      <td>5531-4700-0039-7671</td>\n",
              "      <td>삼성</td>\n",
              "      <td>2190239</td>\n",
              "      <td>N</td>\n",
              "      <td>김정연</td>\n",
              "      <td>5531-4700-0039-76712190239삼성</td>\n",
              "      <td>693000.0</td>\n",
              "      <td>346500.0</td>\n",
              "      <td>0.0</td>\n",
              "      <td>0.0</td>\n",
              "      <td>0.0</td>\n",
              "      <td>346500.0</td>\n",
              "      <td>346500.0</td>\n",
              "      <td>346500.0</td>\n",
              "      <td>346500</td>\n",
              "      <td>0.0</td>\n",
              "      <td>0.0</td>\n",
              "      <td>0.0</td>\n",
              "      <td>0.0</td>\n",
              "      <td>0.0</td>\n",
              "      <td>0.0</td>\n",
              "      <td>8</td>\n",
              "      <td>ETC본부</td>\n",
              "      <td>지방4사업부</td>\n",
              "      <td>청주2사무소</td>\n",
              "      <td>2020-08-01</td>\n",
              "      <td>NaN</td>\n",
              "      <td>NaN</td>\n",
              "      <td>NaN</td>\n",
              "      <td>NaN</td>\n",
              "      <td>0.500000</td>\n",
              "      <td>0.0</td>\n",
              "      <td>1.0</td>\n",
              "      <td>0.0</td>\n",
              "      <td>0</td>\n",
              "    </tr>\n",
              "    <tr>\n",
              "      <th>1613</th>\n",
              "      <td>5531-4700-0042-3139</td>\n",
              "      <td>삼성</td>\n",
              "      <td>2180222</td>\n",
              "      <td>N</td>\n",
              "      <td>김건도</td>\n",
              "      <td>5531-4700-0042-31392180222삼성</td>\n",
              "      <td>2179800.0</td>\n",
              "      <td>1706400.0</td>\n",
              "      <td>0.0</td>\n",
              "      <td>0.0</td>\n",
              "      <td>0.0</td>\n",
              "      <td>1706400.0</td>\n",
              "      <td>1706400.0</td>\n",
              "      <td>473400.0</td>\n",
              "      <td>473400</td>\n",
              "      <td>1.0</td>\n",
              "      <td>0.0</td>\n",
              "      <td>988250.0</td>\n",
              "      <td>0.0</td>\n",
              "      <td>0.0</td>\n",
              "      <td>988250.0</td>\n",
              "      <td>13</td>\n",
              "      <td>ETC본부</td>\n",
              "      <td>지방4사업부</td>\n",
              "      <td>광주2사무소</td>\n",
              "      <td>2020-10-01</td>\n",
              "      <td>NaN</td>\n",
              "      <td>NaN</td>\n",
              "      <td>NaN</td>\n",
              "      <td>NaN</td>\n",
              "      <td>0.217176</td>\n",
              "      <td>0.0</td>\n",
              "      <td>1.0</td>\n",
              "      <td>0.0</td>\n",
              "      <td>1</td>\n",
              "    </tr>\n",
              "  </tbody>\n",
              "</table>\n",
              "<p>1383 rows × 35 columns</p>\n",
              "</div>"
            ],
            "text/plain": [
              "                     카드번호  종류       사번  ... mp_ratio detail_ratio 연체구분\n",
              "0     4670-6901-0008-6254  삼성  2020347  ...      NaN          NaN    0\n",
              "1     4670-6901-0017-0512  삼성  2020347  ...      NaN          NaN    0\n",
              "2     4670-6901-0014-5043  삼성  2030273  ...      NaN          NaN    0\n",
              "3     4025-9610-3142-0603  현대  2010088  ...      0.0          1.0    0\n",
              "4     4025-9610-3591-0104  현대  2010088  ...      0.0          1.0    1\n",
              "...                   ...  ..      ...  ...      ...          ...  ...\n",
              "1609  5531-4700-0032-1119  삼성  2180222  ...      1.0          0.0    4\n",
              "1610  5531-4700-0034-5738  삼성  2180117  ...      0.0          0.0    0\n",
              "1611  5531-4700-0039-7366  삼성  2200007  ...      1.0          0.0    0\n",
              "1612  5531-4700-0039-7671  삼성  2190239  ...      1.0          0.0    0\n",
              "1613  5531-4700-0042-3139  삼성  2180222  ...      1.0          0.0    1\n",
              "\n",
              "[1383 rows x 35 columns]"
            ]
          },
          "metadata": {},
          "execution_count": 138
        }
      ]
    },
    {
      "cell_type": "code",
      "metadata": {
        "id": "jtnx87_cETTX"
      },
      "source": [
        "# 사번기준으로 했을때의 연체"
      ],
      "execution_count": null,
      "outputs": []
    },
    {
      "cell_type": "code",
      "metadata": {
        "colab": {
          "base_uri": "https://localhost:8080/"
        },
        "id": "Caba15KYETXa",
        "outputId": "606a33be-77cc-4f88-ed0a-0e334bb1589d"
      },
      "source": [
        "data_filter['연체여부'].unique() # 각 카드번호에 대해 몇달의 연체를 하였는지를 보여줌 값만 가짐"
      ],
      "execution_count": 139,
      "outputs": [
        {
          "output_type": "execute_result",
          "data": {
            "text/plain": [
              "array([ 0.,  1.,  7.,  2.,  9.,  4.,  8.,  5.,  3.,  6., 10., 14., 16.,\n",
              "       18., 15., 11., nan, 24.])"
            ]
          },
          "metadata": {},
          "execution_count": 139
        }
      ]
    },
    {
      "cell_type": "code",
      "metadata": {
        "colab": {
          "base_uri": "https://localhost:8080/",
          "height": 454
        },
        "id": "RnQ9KYPIdq6C",
        "outputId": "84436774-f037-44b9-de1b-85337b1841ec"
      },
      "source": [
        "cardsum=data_filter['연체여부'].groupby(data_filter['사번']).sum()\n",
        "cardsum  # 사번별로 연체카드 연체개월수의 합계를 나타냄\n",
        "b = pd.DataFrame(cardsum)\n",
        "b  # 550 사번\n",
        "\n",
        "b[b['연체여부']>0] # 222 \n"
      ],
      "execution_count": 141,
      "outputs": [
        {
          "output_type": "execute_result",
          "data": {
            "text/html": [
              "<div>\n",
              "<style scoped>\n",
              "    .dataframe tbody tr th:only-of-type {\n",
              "        vertical-align: middle;\n",
              "    }\n",
              "\n",
              "    .dataframe tbody tr th {\n",
              "        vertical-align: top;\n",
              "    }\n",
              "\n",
              "    .dataframe thead th {\n",
              "        text-align: right;\n",
              "    }\n",
              "</style>\n",
              "<table border=\"1\" class=\"dataframe\">\n",
              "  <thead>\n",
              "    <tr style=\"text-align: right;\">\n",
              "      <th></th>\n",
              "      <th>연체여부</th>\n",
              "    </tr>\n",
              "    <tr>\n",
              "      <th>사번</th>\n",
              "      <th></th>\n",
              "    </tr>\n",
              "  </thead>\n",
              "  <tbody>\n",
              "    <tr>\n",
              "      <th>1952624</th>\n",
              "      <td>3.0</td>\n",
              "    </tr>\n",
              "    <tr>\n",
              "      <th>1960487</th>\n",
              "      <td>2.0</td>\n",
              "    </tr>\n",
              "    <tr>\n",
              "      <th>1971018</th>\n",
              "      <td>5.0</td>\n",
              "    </tr>\n",
              "    <tr>\n",
              "      <th>1971917</th>\n",
              "      <td>6.0</td>\n",
              "    </tr>\n",
              "    <tr>\n",
              "      <th>1990059</th>\n",
              "      <td>2.0</td>\n",
              "    </tr>\n",
              "    <tr>\n",
              "      <th>...</th>\n",
              "      <td>...</td>\n",
              "    </tr>\n",
              "    <tr>\n",
              "      <th>2200125</th>\n",
              "      <td>5.0</td>\n",
              "    </tr>\n",
              "    <tr>\n",
              "      <th>2200154</th>\n",
              "      <td>1.0</td>\n",
              "    </tr>\n",
              "    <tr>\n",
              "      <th>2200158</th>\n",
              "      <td>2.0</td>\n",
              "    </tr>\n",
              "    <tr>\n",
              "      <th>2200281</th>\n",
              "      <td>5.0</td>\n",
              "    </tr>\n",
              "    <tr>\n",
              "      <th>2200309</th>\n",
              "      <td>2.0</td>\n",
              "    </tr>\n",
              "  </tbody>\n",
              "</table>\n",
              "<p>222 rows × 1 columns</p>\n",
              "</div>"
            ],
            "text/plain": [
              "         연체여부\n",
              "사번           \n",
              "1952624   3.0\n",
              "1960487   2.0\n",
              "1971018   5.0\n",
              "1971917   6.0\n",
              "1990059   2.0\n",
              "...       ...\n",
              "2200125   5.0\n",
              "2200154   1.0\n",
              "2200158   2.0\n",
              "2200281   5.0\n",
              "2200309   2.0\n",
              "\n",
              "[222 rows x 1 columns]"
            ]
          },
          "metadata": {},
          "execution_count": 141
        }
      ]
    },
    {
      "cell_type": "code",
      "metadata": {
        "id": "st2-GSoC11sL"
      },
      "source": [
        "# 아래와 같은 사항도 확인해볼수있다.\n",
        "# 1. 영업사원마다 여러개의 카드를 가지고있는데, n개전부 연체\n",
        "\n",
        "# 2. 영업사원마다 여러개의 카드를 가지고있는데, n개중 일부만 연체\n"
      ],
      "execution_count": 13,
      "outputs": []
    },
    {
      "cell_type": "code",
      "metadata": {
        "colab": {
          "base_uri": "https://localhost:8080/",
          "height": 268
        },
        "id": "zXUYmkOpq6wH",
        "outputId": "3fc2f296-fd86-49db-e2c4-fb83193a0998"
      },
      "source": [
        "b[b['연체여부']>20]  # 연체개월수가 20개월 이상인 사번들 (카드가 여러개여서 연체개월수가 높아질수는 있음) "
      ],
      "execution_count": 142,
      "outputs": [
        {
          "output_type": "execute_result",
          "data": {
            "text/html": [
              "<div>\n",
              "<style scoped>\n",
              "    .dataframe tbody tr th:only-of-type {\n",
              "        vertical-align: middle;\n",
              "    }\n",
              "\n",
              "    .dataframe tbody tr th {\n",
              "        vertical-align: top;\n",
              "    }\n",
              "\n",
              "    .dataframe thead th {\n",
              "        text-align: right;\n",
              "    }\n",
              "</style>\n",
              "<table border=\"1\" class=\"dataframe\">\n",
              "  <thead>\n",
              "    <tr style=\"text-align: right;\">\n",
              "      <th></th>\n",
              "      <th>연체여부</th>\n",
              "    </tr>\n",
              "    <tr>\n",
              "      <th>사번</th>\n",
              "      <th></th>\n",
              "    </tr>\n",
              "  </thead>\n",
              "  <tbody>\n",
              "    <tr>\n",
              "      <th>2030138</th>\n",
              "      <td>25.0</td>\n",
              "    </tr>\n",
              "    <tr>\n",
              "      <th>2070318</th>\n",
              "      <td>25.0</td>\n",
              "    </tr>\n",
              "    <tr>\n",
              "      <th>2100112</th>\n",
              "      <td>35.0</td>\n",
              "    </tr>\n",
              "    <tr>\n",
              "      <th>2170314</th>\n",
              "      <td>32.0</td>\n",
              "    </tr>\n",
              "    <tr>\n",
              "      <th>2180489</th>\n",
              "      <td>28.0</td>\n",
              "    </tr>\n",
              "    <tr>\n",
              "      <th>2190184</th>\n",
              "      <td>21.0</td>\n",
              "    </tr>\n",
              "  </tbody>\n",
              "</table>\n",
              "</div>"
            ],
            "text/plain": [
              "         연체여부\n",
              "사번           \n",
              "2030138  25.0\n",
              "2070318  25.0\n",
              "2100112  35.0\n",
              "2170314  32.0\n",
              "2180489  28.0\n",
              "2190184  21.0"
            ]
          },
          "metadata": {},
          "execution_count": 142
        }
      ]
    },
    {
      "cell_type": "code",
      "metadata": {
        "colab": {
          "base_uri": "https://localhost:8080/",
          "height": 612
        },
        "id": "U-0S7qk8bRgl",
        "outputId": "2fb0f62c-9e64-4780-8dbc-032986ee57ce"
      },
      "source": [
        "cardsum=data_filter['사번'].groupby(data_filter['연체여부']).count()\n",
        "cardsum\n",
        "b = pd.DataFrame(cardsum)\n",
        "b\n",
        "# 해당기간동안 연체한 카드번호 1383 - 1008 =375"
      ],
      "execution_count": 143,
      "outputs": [
        {
          "output_type": "execute_result",
          "data": {
            "text/html": [
              "<div>\n",
              "<style scoped>\n",
              "    .dataframe tbody tr th:only-of-type {\n",
              "        vertical-align: middle;\n",
              "    }\n",
              "\n",
              "    .dataframe tbody tr th {\n",
              "        vertical-align: top;\n",
              "    }\n",
              "\n",
              "    .dataframe thead th {\n",
              "        text-align: right;\n",
              "    }\n",
              "</style>\n",
              "<table border=\"1\" class=\"dataframe\">\n",
              "  <thead>\n",
              "    <tr style=\"text-align: right;\">\n",
              "      <th></th>\n",
              "      <th>사번</th>\n",
              "    </tr>\n",
              "    <tr>\n",
              "      <th>연체여부</th>\n",
              "      <th></th>\n",
              "    </tr>\n",
              "  </thead>\n",
              "  <tbody>\n",
              "    <tr>\n",
              "      <th>0.0</th>\n",
              "      <td>1008</td>\n",
              "    </tr>\n",
              "    <tr>\n",
              "      <th>1.0</th>\n",
              "      <td>142</td>\n",
              "    </tr>\n",
              "    <tr>\n",
              "      <th>2.0</th>\n",
              "      <td>65</td>\n",
              "    </tr>\n",
              "    <tr>\n",
              "      <th>3.0</th>\n",
              "      <td>38</td>\n",
              "    </tr>\n",
              "    <tr>\n",
              "      <th>4.0</th>\n",
              "      <td>28</td>\n",
              "    </tr>\n",
              "    <tr>\n",
              "      <th>5.0</th>\n",
              "      <td>30</td>\n",
              "    </tr>\n",
              "    <tr>\n",
              "      <th>6.0</th>\n",
              "      <td>22</td>\n",
              "    </tr>\n",
              "    <tr>\n",
              "      <th>7.0</th>\n",
              "      <td>9</td>\n",
              "    </tr>\n",
              "    <tr>\n",
              "      <th>8.0</th>\n",
              "      <td>13</td>\n",
              "    </tr>\n",
              "    <tr>\n",
              "      <th>9.0</th>\n",
              "      <td>11</td>\n",
              "    </tr>\n",
              "    <tr>\n",
              "      <th>10.0</th>\n",
              "      <td>6</td>\n",
              "    </tr>\n",
              "    <tr>\n",
              "      <th>11.0</th>\n",
              "      <td>3</td>\n",
              "    </tr>\n",
              "    <tr>\n",
              "      <th>14.0</th>\n",
              "      <td>3</td>\n",
              "    </tr>\n",
              "    <tr>\n",
              "      <th>15.0</th>\n",
              "      <td>1</td>\n",
              "    </tr>\n",
              "    <tr>\n",
              "      <th>16.0</th>\n",
              "      <td>1</td>\n",
              "    </tr>\n",
              "    <tr>\n",
              "      <th>18.0</th>\n",
              "      <td>1</td>\n",
              "    </tr>\n",
              "    <tr>\n",
              "      <th>24.0</th>\n",
              "      <td>1</td>\n",
              "    </tr>\n",
              "  </tbody>\n",
              "</table>\n",
              "</div>"
            ],
            "text/plain": [
              "        사번\n",
              "연체여부      \n",
              "0.0   1008\n",
              "1.0    142\n",
              "2.0     65\n",
              "3.0     38\n",
              "4.0     28\n",
              "5.0     30\n",
              "6.0     22\n",
              "7.0      9\n",
              "8.0     13\n",
              "9.0     11\n",
              "10.0     6\n",
              "11.0     3\n",
              "14.0     3\n",
              "15.0     1\n",
              "16.0     1\n",
              "18.0     1\n",
              "24.0     1"
            ]
          },
          "metadata": {},
          "execution_count": 143
        }
      ]
    },
    {
      "cell_type": "code",
      "metadata": {
        "id": "QQpv05kbsDnh"
      },
      "source": [
        "# ETC영업본부만 가지고 확인하기\n",
        "\n",
        "data_filter = data_filter[data_filter['본부']=='ETC본부']"
      ],
      "execution_count": 144,
      "outputs": []
    },
    {
      "cell_type": "code",
      "metadata": {
        "id": "cftO326YETYi"
      },
      "source": [
        "# 카드번호기준으로 했을때의 연체"
      ],
      "execution_count": null,
      "outputs": []
    },
    {
      "cell_type": "code",
      "metadata": {
        "colab": {
          "base_uri": "https://localhost:8080/",
          "height": 454
        },
        "id": "zjdCMfwxY7nc",
        "outputId": "e0346cdc-c445-449a-eb0a-e86b39613b35"
      },
      "source": [
        "cardsum=data_filter['연체여부'].groupby(data_filter['카드번호']).sum()\n",
        "cardsum\n",
        "b = pd.DataFrame(cardsum)\n",
        "b\n",
        "b #전체 : 1614\n",
        "b[b['연체여부']==2]  # 70\n",
        "b[b['연체여부']==3]  # 40\n",
        "b[b['연체여부']==4] # 29\n",
        "b[b['연체여부']>5] # 74개 카드는 연체가 5번을 넘는 카드들, 정지를 고려/관찰필요\n",
        "b[b['연체여부']==0] # 1209 (75%)\n",
        "b[b['연체여부']==1] # 162 \n"
      ],
      "execution_count": 146,
      "outputs": [
        {
          "output_type": "execute_result",
          "data": {
            "text/html": [
              "<div>\n",
              "<style scoped>\n",
              "    .dataframe tbody tr th:only-of-type {\n",
              "        vertical-align: middle;\n",
              "    }\n",
              "\n",
              "    .dataframe tbody tr th {\n",
              "        vertical-align: top;\n",
              "    }\n",
              "\n",
              "    .dataframe thead th {\n",
              "        text-align: right;\n",
              "    }\n",
              "</style>\n",
              "<table border=\"1\" class=\"dataframe\">\n",
              "  <thead>\n",
              "    <tr style=\"text-align: right;\">\n",
              "      <th></th>\n",
              "      <th>연체여부</th>\n",
              "    </tr>\n",
              "    <tr>\n",
              "      <th>카드번호</th>\n",
              "      <th></th>\n",
              "    </tr>\n",
              "  </thead>\n",
              "  <tbody>\n",
              "    <tr>\n",
              "      <th>4025-9610-3141-9704</th>\n",
              "      <td>1.0</td>\n",
              "    </tr>\n",
              "    <tr>\n",
              "      <th>4025-9610-3587-7204</th>\n",
              "      <td>1.0</td>\n",
              "    </tr>\n",
              "    <tr>\n",
              "      <th>4025-9610-3588-3103</th>\n",
              "      <td>1.0</td>\n",
              "    </tr>\n",
              "    <tr>\n",
              "      <th>4025-9610-3588-3509</th>\n",
              "      <td>1.0</td>\n",
              "    </tr>\n",
              "    <tr>\n",
              "      <th>4025-9610-3588-4804</th>\n",
              "      <td>1.0</td>\n",
              "    </tr>\n",
              "    <tr>\n",
              "      <th>...</th>\n",
              "      <td>...</td>\n",
              "    </tr>\n",
              "    <tr>\n",
              "      <th>5531-4700-0042-3139</th>\n",
              "      <td>1.0</td>\n",
              "    </tr>\n",
              "    <tr>\n",
              "      <th>5531-4700-0042-4038</th>\n",
              "      <td>1.0</td>\n",
              "    </tr>\n",
              "    <tr>\n",
              "      <th>6243-7810-0061-3801</th>\n",
              "      <td>1.0</td>\n",
              "    </tr>\n",
              "    <tr>\n",
              "      <th>6243-7810-0075-8200</th>\n",
              "      <td>1.0</td>\n",
              "    </tr>\n",
              "    <tr>\n",
              "      <th>9490-2210-1022-3709</th>\n",
              "      <td>1.0</td>\n",
              "    </tr>\n",
              "  </tbody>\n",
              "</table>\n",
              "<p>142 rows × 1 columns</p>\n",
              "</div>"
            ],
            "text/plain": [
              "                     연체여부\n",
              "카드번호                     \n",
              "4025-9610-3141-9704   1.0\n",
              "4025-9610-3587-7204   1.0\n",
              "4025-9610-3588-3103   1.0\n",
              "4025-9610-3588-3509   1.0\n",
              "4025-9610-3588-4804   1.0\n",
              "...                   ...\n",
              "5531-4700-0042-3139   1.0\n",
              "5531-4700-0042-4038   1.0\n",
              "6243-7810-0061-3801   1.0\n",
              "6243-7810-0075-8200   1.0\n",
              "9490-2210-1022-3709   1.0\n",
              "\n",
              "[142 rows x 1 columns]"
            ]
          },
          "metadata": {},
          "execution_count": 146
        }
      ]
    },
    {
      "cell_type": "code",
      "metadata": {
        "id": "mO8y-F7CY8Fi"
      },
      "source": [
        ""
      ],
      "execution_count": null,
      "outputs": []
    },
    {
      "cell_type": "markdown",
      "metadata": {
        "id": "Eay9sqLM0oDz"
      },
      "source": [
        "### 디테일의 세부내용"
      ]
    },
    {
      "cell_type": "code",
      "metadata": {
        "id": "NM9vevMB0rkC"
      },
      "source": [
        "# 받은 파일에서 사용한도 금액에 대한 컬럼을못찾겠음.\n",
        "# 미리 질문하지 못한 잘못임 \n",
        "# 사번기준으로 가능예산을 구해야함 -> 이에대한 문의를 하고자함\n",
        "# 해당 사번의 디테일 사용금액/전체 사용금액/전체사용 가용예산/디테일 가용예산 뒤에 두개 컬럼 값을 어떻게 구하는지 물어보려함 \n",
        "# 디테일 한달 사용금액 < > ? 디테일 가용예산금액 \n",
        "# 디테일 사용금액 > 디테일 가용예산금액 인경우의 특징을 알아보려함\n"
      ],
      "execution_count": 16,
      "outputs": []
    },
    {
      "cell_type": "code",
      "metadata": {
        "id": "flpR1i2dFFRT"
      },
      "source": [
        "# 월별 구분한 데이터\n",
        "data3 = pd.read_csv('gdrive/MyDrive/DW_DATA/detail_예산.csv', encoding = 'cp949')  # cp949"
      ],
      "execution_count": 147,
      "outputs": []
    },
    {
      "cell_type": "code",
      "metadata": {
        "id": "YDO5eAmm0ro2",
        "colab": {
          "base_uri": "https://localhost:8080/",
          "height": 126
        },
        "outputId": "407a995c-1a70-4c1f-c488-341c738331b5"
      },
      "source": [
        "data3.head(2)"
      ],
      "execution_count": null,
      "outputs": [
        {
          "output_type": "execute_result",
          "data": {
            "text/html": [
              "<div>\n",
              "<style scoped>\n",
              "    .dataframe tbody tr th:only-of-type {\n",
              "        vertical-align: middle;\n",
              "    }\n",
              "\n",
              "    .dataframe tbody tr th {\n",
              "        vertical-align: top;\n",
              "    }\n",
              "\n",
              "    .dataframe thead th {\n",
              "        text-align: right;\n",
              "    }\n",
              "</style>\n",
              "<table border=\"1\" class=\"dataframe\">\n",
              "  <thead>\n",
              "    <tr style=\"text-align: right;\">\n",
              "      <th></th>\n",
              "      <th>사번</th>\n",
              "      <th>pre_승인금액</th>\n",
              "      <th>승인금액</th>\n",
              "      <th>mp총금액</th>\n",
              "      <th>ip총금액</th>\n",
              "      <th>detail총금액</th>\n",
              "      <th>cps총금액</th>\n",
              "      <th>pre_개인사용</th>\n",
              "      <th>개인사용</th>\n",
              "      <th>임원/소장승인개인금액</th>\n",
              "      <th>소장_부서비</th>\n",
              "      <th>해당월/해당영업사원의 사용한카드수</th>\n",
              "      <th>개수 : 카드번호</th>\n",
              "      <th>연체여부</th>\n",
              "      <th>detail예산</th>\n",
              "      <th>삼성카드수</th>\n",
              "      <th>현대카드수</th>\n",
              "    </tr>\n",
              "  </thead>\n",
              "  <tbody>\n",
              "    <tr>\n",
              "      <th>0</th>\n",
              "      <td>1000026</td>\n",
              "      <td>8846920</td>\n",
              "      <td>6481200</td>\n",
              "      <td>0</td>\n",
              "      <td>0</td>\n",
              "      <td>2158200</td>\n",
              "      <td>2158200</td>\n",
              "      <td>6688720</td>\n",
              "      <td>4323000</td>\n",
              "      <td>4523920</td>\n",
              "      <td>2365720</td>\n",
              "      <td>24</td>\n",
              "      <td>6</td>\n",
              "      <td>0</td>\n",
              "      <td>NaN</td>\n",
              "      <td>1</td>\n",
              "      <td>3</td>\n",
              "    </tr>\n",
              "    <tr>\n",
              "      <th>1</th>\n",
              "      <td>1000039</td>\n",
              "      <td>30089000</td>\n",
              "      <td>45172480</td>\n",
              "      <td>0</td>\n",
              "      <td>0</td>\n",
              "      <td>15083480</td>\n",
              "      <td>15083480</td>\n",
              "      <td>15005520</td>\n",
              "      <td>30089000</td>\n",
              "      <td>0</td>\n",
              "      <td>-15083480</td>\n",
              "      <td>20</td>\n",
              "      <td>18</td>\n",
              "      <td>2</td>\n",
              "      <td>NaN</td>\n",
              "      <td>1</td>\n",
              "      <td>2</td>\n",
              "    </tr>\n",
              "  </tbody>\n",
              "</table>\n",
              "</div>"
            ],
            "text/plain": [
              "        사번  pre_승인금액      승인금액  mp총금액  ...  연체여부  detail예산  삼성카드수  현대카드수\n",
              "0  1000026   8846920   6481200      0  ...     0       NaN      1      3\n",
              "1  1000039  30089000  45172480      0  ...     2       NaN      1      2\n",
              "\n",
              "[2 rows x 17 columns]"
            ]
          },
          "metadata": {},
          "execution_count": 13
        }
      ]
    },
    {
      "cell_type": "code",
      "metadata": {
        "id": "JcQxvYUf0rql"
      },
      "source": [
        "data_detail = data3[data3['detail예산']>0]"
      ],
      "execution_count": null,
      "outputs": []
    },
    {
      "cell_type": "code",
      "metadata": {
        "id": "2SqH8VIh0ru1",
        "colab": {
          "base_uri": "https://localhost:8080/",
          "height": 126
        },
        "outputId": "14f8be45-519b-463f-bcba-3f2bf59cf184"
      },
      "source": [
        "data_detail.head(2)\n",
        "  # 318 x 17"
      ],
      "execution_count": null,
      "outputs": [
        {
          "output_type": "execute_result",
          "data": {
            "text/html": [
              "<div>\n",
              "<style scoped>\n",
              "    .dataframe tbody tr th:only-of-type {\n",
              "        vertical-align: middle;\n",
              "    }\n",
              "\n",
              "    .dataframe tbody tr th {\n",
              "        vertical-align: top;\n",
              "    }\n",
              "\n",
              "    .dataframe thead th {\n",
              "        text-align: right;\n",
              "    }\n",
              "</style>\n",
              "<table border=\"1\" class=\"dataframe\">\n",
              "  <thead>\n",
              "    <tr style=\"text-align: right;\">\n",
              "      <th></th>\n",
              "      <th>사번</th>\n",
              "      <th>pre_승인금액</th>\n",
              "      <th>승인금액</th>\n",
              "      <th>mp총금액</th>\n",
              "      <th>ip총금액</th>\n",
              "      <th>detail총금액</th>\n",
              "      <th>cps총금액</th>\n",
              "      <th>pre_개인사용</th>\n",
              "      <th>개인사용</th>\n",
              "      <th>임원/소장승인개인금액</th>\n",
              "      <th>소장_부서비</th>\n",
              "      <th>해당월/해당영업사원의 사용한카드수</th>\n",
              "      <th>개수 : 카드번호</th>\n",
              "      <th>연체여부</th>\n",
              "      <th>detail예산</th>\n",
              "      <th>삼성카드수</th>\n",
              "      <th>현대카드수</th>\n",
              "    </tr>\n",
              "  </thead>\n",
              "  <tbody>\n",
              "    <tr>\n",
              "      <th>351</th>\n",
              "      <td>2130228</td>\n",
              "      <td>63400480</td>\n",
              "      <td>102794990</td>\n",
              "      <td>0</td>\n",
              "      <td>0</td>\n",
              "      <td>39394510</td>\n",
              "      <td>39394510</td>\n",
              "      <td>24005970</td>\n",
              "      <td>63400480</td>\n",
              "      <td>0</td>\n",
              "      <td>-39394510</td>\n",
              "      <td>36</td>\n",
              "      <td>18</td>\n",
              "      <td>6</td>\n",
              "      <td>171891423.9</td>\n",
              "      <td>1</td>\n",
              "      <td>1</td>\n",
              "    </tr>\n",
              "    <tr>\n",
              "      <th>352</th>\n",
              "      <td>2030128</td>\n",
              "      <td>50107610</td>\n",
              "      <td>83924370</td>\n",
              "      <td>0</td>\n",
              "      <td>0</td>\n",
              "      <td>33816760</td>\n",
              "      <td>33816760</td>\n",
              "      <td>16290850</td>\n",
              "      <td>50107610</td>\n",
              "      <td>0</td>\n",
              "      <td>-33816760</td>\n",
              "      <td>33</td>\n",
              "      <td>18</td>\n",
              "      <td>0</td>\n",
              "      <td>170707076.7</td>\n",
              "      <td>2</td>\n",
              "      <td>1</td>\n",
              "    </tr>\n",
              "  </tbody>\n",
              "</table>\n",
              "</div>"
            ],
            "text/plain": [
              "          사번  pre_승인금액       승인금액  mp총금액  ...  연체여부     detail예산  삼성카드수  현대카드수\n",
              "351  2130228  63400480  102794990      0  ...     6  171891423.9      1      1\n",
              "352  2030128  50107610   83924370      0  ...     0  170707076.7      2      1\n",
              "\n",
              "[2 rows x 17 columns]"
            ]
          },
          "metadata": {},
          "execution_count": 14
        }
      ]
    },
    {
      "cell_type": "code",
      "metadata": {
        "colab": {
          "base_uri": "https://localhost:8080/"
        },
        "id": "CYiK9ig_y80w",
        "outputId": "a0720546-880a-47be-f76c-21032a4a2870"
      },
      "source": [
        "# 새로운 컬럼 만들기 , 예산보다 detail을 더 많이 사용한것에 대해서 라벨링 걸기\n",
        "\n",
        "data_detail[\"예산초과금액\"] = data_detail['detail총금액'] - data_detail['detail예산'] \n"
      ],
      "execution_count": null,
      "outputs": [
        {
          "output_type": "stream",
          "name": "stderr",
          "text": [
            "/usr/local/lib/python3.7/dist-packages/ipykernel_launcher.py:3: SettingWithCopyWarning: \n",
            "A value is trying to be set on a copy of a slice from a DataFrame.\n",
            "Try using .loc[row_indexer,col_indexer] = value instead\n",
            "\n",
            "See the caveats in the documentation: https://pandas.pydata.org/pandas-docs/stable/user_guide/indexing.html#returning-a-view-versus-a-copy\n",
            "  This is separate from the ipykernel package so we can avoid doing imports until\n"
          ]
        }
      ]
    },
    {
      "cell_type": "code",
      "metadata": {
        "colab": {
          "base_uri": "https://localhost:8080/",
          "height": 250
        },
        "id": "gav0qIWay84G",
        "outputId": "70c90b1f-678c-45dd-96f7-3340e01f3c50"
      },
      "source": [
        "def detail(x):\n",
        " if x>=0: return 'y'\n",
        " else: return 'n'\n",
        "\n",
        "data_detail[\"detail예산초과여부\"] = data_detail[\"예산초과금액\"].apply(detail)\n",
        "data_detail.head(2)"
      ],
      "execution_count": null,
      "outputs": [
        {
          "output_type": "stream",
          "name": "stderr",
          "text": [
            "/usr/local/lib/python3.7/dist-packages/ipykernel_launcher.py:5: SettingWithCopyWarning: \n",
            "A value is trying to be set on a copy of a slice from a DataFrame.\n",
            "Try using .loc[row_indexer,col_indexer] = value instead\n",
            "\n",
            "See the caveats in the documentation: https://pandas.pydata.org/pandas-docs/stable/user_guide/indexing.html#returning-a-view-versus-a-copy\n",
            "  \"\"\"\n"
          ]
        },
        {
          "output_type": "execute_result",
          "data": {
            "text/html": [
              "<div>\n",
              "<style scoped>\n",
              "    .dataframe tbody tr th:only-of-type {\n",
              "        vertical-align: middle;\n",
              "    }\n",
              "\n",
              "    .dataframe tbody tr th {\n",
              "        vertical-align: top;\n",
              "    }\n",
              "\n",
              "    .dataframe thead th {\n",
              "        text-align: right;\n",
              "    }\n",
              "</style>\n",
              "<table border=\"1\" class=\"dataframe\">\n",
              "  <thead>\n",
              "    <tr style=\"text-align: right;\">\n",
              "      <th></th>\n",
              "      <th>사번</th>\n",
              "      <th>pre_승인금액</th>\n",
              "      <th>승인금액</th>\n",
              "      <th>mp총금액</th>\n",
              "      <th>ip총금액</th>\n",
              "      <th>detail총금액</th>\n",
              "      <th>cps총금액</th>\n",
              "      <th>pre_개인사용</th>\n",
              "      <th>개인사용</th>\n",
              "      <th>임원/소장승인개인금액</th>\n",
              "      <th>소장_부서비</th>\n",
              "      <th>해당월/해당영업사원의 사용한카드수</th>\n",
              "      <th>개수 : 카드번호</th>\n",
              "      <th>연체여부</th>\n",
              "      <th>detail예산</th>\n",
              "      <th>삼성카드수</th>\n",
              "      <th>현대카드수</th>\n",
              "      <th>예산초과금액</th>\n",
              "      <th>detail예산초과여부</th>\n",
              "    </tr>\n",
              "  </thead>\n",
              "  <tbody>\n",
              "    <tr>\n",
              "      <th>351</th>\n",
              "      <td>2130228</td>\n",
              "      <td>63400480</td>\n",
              "      <td>102794990</td>\n",
              "      <td>0</td>\n",
              "      <td>0</td>\n",
              "      <td>39394510</td>\n",
              "      <td>39394510</td>\n",
              "      <td>24005970</td>\n",
              "      <td>63400480</td>\n",
              "      <td>0</td>\n",
              "      <td>-39394510</td>\n",
              "      <td>36</td>\n",
              "      <td>18</td>\n",
              "      <td>6</td>\n",
              "      <td>171891423.9</td>\n",
              "      <td>1</td>\n",
              "      <td>1</td>\n",
              "      <td>-132496913.9</td>\n",
              "      <td>n</td>\n",
              "    </tr>\n",
              "    <tr>\n",
              "      <th>352</th>\n",
              "      <td>2030128</td>\n",
              "      <td>50107610</td>\n",
              "      <td>83924370</td>\n",
              "      <td>0</td>\n",
              "      <td>0</td>\n",
              "      <td>33816760</td>\n",
              "      <td>33816760</td>\n",
              "      <td>16290850</td>\n",
              "      <td>50107610</td>\n",
              "      <td>0</td>\n",
              "      <td>-33816760</td>\n",
              "      <td>33</td>\n",
              "      <td>18</td>\n",
              "      <td>0</td>\n",
              "      <td>170707076.7</td>\n",
              "      <td>2</td>\n",
              "      <td>1</td>\n",
              "      <td>-136890316.7</td>\n",
              "      <td>n</td>\n",
              "    </tr>\n",
              "  </tbody>\n",
              "</table>\n",
              "</div>"
            ],
            "text/plain": [
              "          사번  pre_승인금액       승인금액  ...  현대카드수       예산초과금액  detail예산초과여부\n",
              "351  2130228  63400480  102794990  ...      1 -132496913.9             n\n",
              "352  2030128  50107610   83924370  ...      1 -136890316.7             n\n",
              "\n",
              "[2 rows x 19 columns]"
            ]
          },
          "metadata": {},
          "execution_count": 24
        }
      ]
    },
    {
      "cell_type": "code",
      "metadata": {
        "colab": {
          "base_uri": "https://localhost:8080/"
        },
        "id": "AQtHM9fay87m",
        "outputId": "0ddbafeb-d287-496c-de18-c7fb41a63897"
      },
      "source": [
        "# 예산을 초과한 비율 확인\n",
        "# 업종별 한번에 사용하는 금액을 파악\n",
        "cardsum=data_detail['사번'].groupby(data_detail['detail예산초과여부']).count()\n",
        "cardsum\n",
        "# 301명 예산초과 안함/ 17명 예산초과함(비율로 따지면 5%)"
      ],
      "execution_count": null,
      "outputs": [
        {
          "output_type": "execute_result",
          "data": {
            "text/plain": [
              "detail예산초과여부\n",
              "n    301\n",
              "y     17\n",
              "Name: 사번, dtype: int64"
            ]
          },
          "metadata": {},
          "execution_count": 26
        }
      ]
    },
    {
      "cell_type": "code",
      "metadata": {
        "id": "UthgE11T0EeP"
      },
      "source": [
        ""
      ],
      "execution_count": null,
      "outputs": []
    },
    {
      "cell_type": "code",
      "metadata": {
        "id": "-zsRrw1XS9Nz"
      },
      "source": [
        "pivot_day = dfm1.pivot_table(index=['empnum','businessnumber']\n",
        "    , values=['MBO','mp_num','mp_cost','ip_num','ip_cost','consult_num','consult_cost','lecture_num','lecture_cost','detail_num','detail_cost','mp_ox','ip_ox','consult_ox','lecture_ox','detail_ox', 'actsum_num',\t'actsum_cost','actsum_YN']\n",
        "    , aggfunc = 'sum')"
      ],
      "execution_count": null,
      "outputs": []
    },
    {
      "cell_type": "code",
      "metadata": {
        "id": "ueQ6Me15S9RI"
      },
      "source": [
        ""
      ],
      "execution_count": null,
      "outputs": []
    },
    {
      "cell_type": "code",
      "metadata": {
        "id": "8k-lrJQ4S9TH"
      },
      "source": [
        ""
      ],
      "execution_count": null,
      "outputs": []
    },
    {
      "cell_type": "code",
      "metadata": {
        "id": "n-P_-_p9S9WD"
      },
      "source": [
        ""
      ],
      "execution_count": null,
      "outputs": []
    },
    {
      "cell_type": "code",
      "metadata": {
        "id": "NPWih-XM0Ehm"
      },
      "source": [
        "# 예산을 초과한 집단의 연체여부"
      ],
      "execution_count": null,
      "outputs": []
    },
    {
      "cell_type": "code",
      "metadata": {
        "id": "bQqEKBC0ETcw"
      },
      "source": [
        "# 요일별/평일주말별 어떤용도로 많이 쓰는지 확인해보기\n",
        "\n",
        "# pivot_table 명령어를 활용해서 4개월간의 영업활동의 합 구하기 \n",
        "# https://wikidocs.net/46755 위키독스 자료 참고 : pivot_table\n",
        "pivot_day = dfm1.pivot_table(index=['empnum','businessnumber']\n",
        "    , values=['MBO','mp_num','mp_cost','ip_num','ip_cost','consult_num','consult_cost','lecture_num','lecture_cost','detail_num','detail_cost','mp_ox','ip_ox','consult_ox','lecture_ox','detail_ox', 'actsum_num',\t'actsum_cost','actsum_YN']\n",
        "    , aggfunc = 'sum')\n",
        "df_2  # 9345 rows"
      ],
      "execution_count": null,
      "outputs": []
    }
  ]
}